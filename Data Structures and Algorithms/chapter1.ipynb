{
 "cells": [
  {
   "cell_type": "markdown",
   "metadata": {},
   "source": [
    "# CHAPTER1:PYTHON PRIMER"
   ]
  },
  {
   "cell_type": "raw",
   "metadata": {
    "collapsed": true
   },
   "source": [
    "R-1.1 Write a short Python function, is multiple(n, m), that takes two integer values and returns True if n is a multiple of m, that is, n = mi for some integer i, and False otherwise."
   ]
  },
  {
   "cell_type": "code",
   "execution_count": 3,
   "metadata": {
    "collapsed": true
   },
   "outputs": [],
   "source": [
    "def multiple(n,m):\n",
    "    if n % m ==0:\n",
    "        return True\n",
    "    else:\n",
    "        return False"
   ]
  },
  {
   "cell_type": "code",
   "execution_count": 10,
   "metadata": {
    "collapsed": false
   },
   "outputs": [
    {
     "name": "stdout",
     "output_type": "stream",
     "text": [
      "True False\n"
     ]
    }
   ],
   "source": [
    "print(multiple(20,5),multiple(20,3))"
   ]
  },
  {
   "cell_type": "raw",
   "metadata": {},
   "source": [
    "R-1.2 Write a short Python function, is even(k), that takes an integer value and returns True if k is even, and False otherwise. However, your function cannot use the multiplication, modulo, or division operators."
   ]
  },
  {
   "cell_type": "code",
   "execution_count": 11,
   "metadata": {
    "collapsed": true
   },
   "outputs": [],
   "source": [
    "def even(k):\n",
    "    if multiple(k,2):\n",
    "        return True\n",
    "    else:\n",
    "        return False"
   ]
  },
  {
   "cell_type": "code",
   "execution_count": 14,
   "metadata": {
    "collapsed": false
   },
   "outputs": [
    {
     "name": "stdout",
     "output_type": "stream",
     "text": [
      "True False\n"
     ]
    }
   ],
   "source": [
    "print(even(4),even(5))"
   ]
  },
  {
   "cell_type": "raw",
   "metadata": {},
   "source": [
    "R-1.3 Write a short Python function, minmax(data), that takes a sequence of one or more numbers, and returns the smallest and largest numbers, in the form of a tuple of length two. Do not use the built-in functions min or\n",
    "max in implementing your solution."
   ]
  },
  {
   "cell_type": "code",
   "execution_count": 22,
   "metadata": {
    "collapsed": true
   },
   "outputs": [],
   "source": [
    "def minmax(data):\n",
    "    a = sorted(data)\n",
    "    return (a[0],a[len(data)-1])"
   ]
  },
  {
   "cell_type": "raw",
   "metadata": {},
   "source": [
    "R-1.4 Write a short Python function that takes a positive integer n and returns the sum of the squares of all the positive integers smaller than n."
   ]
  },
  {
   "cell_type": "code",
   "execution_count": 35,
   "metadata": {
    "collapsed": false
   },
   "outputs": [],
   "source": [
    "def sumofsquareslessthan(n):\n",
    "    l = [i**2 for i in range(0,n)]\n",
    "    return sum(l)"
   ]
  },
  {
   "cell_type": "code",
   "execution_count": 38,
   "metadata": {
    "collapsed": false
   },
   "outputs": [
    {
     "data": {
      "text/plain": [
       "5"
      ]
     },
     "execution_count": 38,
     "metadata": {},
     "output_type": "execute_result"
    }
   ],
   "source": [
    "sumofsquareslessthan(3)"
   ]
  },
  {
   "cell_type": "raw",
   "metadata": {},
   "source": [
    "R-1.5 Give a single command that computes the sum from Exercise R-1.4, relying on Python’s comprehension syntax and the built-in sum function."
   ]
  },
  {
   "cell_type": "code",
   "execution_count": 39,
   "metadata": {
    "collapsed": false
   },
   "outputs": [
    {
     "data": {
      "text/plain": [
       "30"
      ]
     },
     "execution_count": 39,
     "metadata": {},
     "output_type": "execute_result"
    }
   ],
   "source": [
    "sum([i**2 for i in range(0,5)])"
   ]
  },
  {
   "cell_type": "raw",
   "metadata": {},
   "source": [
    "R-1.6 Write a short Python function that takes a positive integer n and returns the sum of the squares of all the odd positive integers smaller than n."
   ]
  },
  {
   "cell_type": "code",
   "execution_count": 40,
   "metadata": {
    "collapsed": true
   },
   "outputs": [],
   "source": [
    "def sumofsquaresoddlessthan(n):\n",
    "    l = [i**2 for i in range(0,n) if i %2 !=0 ]\n",
    "    return sum(l)"
   ]
  },
  {
   "cell_type": "code",
   "execution_count": 46,
   "metadata": {
    "collapsed": false
   },
   "outputs": [
    {
     "data": {
      "text/plain": [
       "10"
      ]
     },
     "execution_count": 46,
     "metadata": {},
     "output_type": "execute_result"
    }
   ],
   "source": [
    "sumofsquaresoddlessthan(5)"
   ]
  },
  {
   "cell_type": "raw",
   "metadata": {},
   "source": [
    "R-1.7 Give a single command that computes the sum from Exercise R-1.6, relying on Python’s comprehension syntax and the built-in sum function."
   ]
  },
  {
   "cell_type": "code",
   "execution_count": 47,
   "metadata": {
    "collapsed": false
   },
   "outputs": [
    {
     "data": {
      "text/plain": [
       "10"
      ]
     },
     "execution_count": 47,
     "metadata": {},
     "output_type": "execute_result"
    }
   ],
   "source": [
    "sum([i**2 for i in range(0,5) if i %2 !=0 ])"
   ]
  },
  {
   "cell_type": "raw",
   "metadata": {},
   "source": [
    "R-1.8 Python allows negative integers to be used as indices into a sequence, such as a string. If string s has length n, and expression s[k] is used for index −n≤k<0, what is the equivalent index j ≥0 such that s[j] references\n",
    "the same element?"
   ]
  },
  {
   "cell_type": "code",
   "execution_count": 52,
   "metadata": {
    "collapsed": false
   },
   "outputs": [
    {
     "name": "stdout",
     "output_type": "stream",
     "text": [
      "a a\n"
     ]
    }
   ],
   "source": [
    "s = \"banana\"\n",
    "print(s[-3],s[-3+len(s)])"
   ]
  },
  {
   "cell_type": "raw",
   "metadata": {},
   "source": [
    "R-1.9 What parameters should be sent to the range constructor, to produce a range with values 50, 60, 70, 80?"
   ]
  },
  {
   "cell_type": "code",
   "execution_count": 56,
   "metadata": {
    "collapsed": false
   },
   "outputs": [
    {
     "name": "stdout",
     "output_type": "stream",
     "text": [
      "50\n",
      "60\n",
      "70\n",
      "80\n"
     ]
    }
   ],
   "source": [
    "for i in range(50,90,10):\n",
    "    print (i)"
   ]
  },
  {
   "cell_type": "raw",
   "metadata": {},
   "source": [
    "R-1.10 What parameters should be sent to the range constructor, to produce a range with values 8, 6, 4, 2, 0, −2, −4, −6, −8?"
   ]
  },
  {
   "cell_type": "code",
   "execution_count": 59,
   "metadata": {
    "collapsed": false
   },
   "outputs": [
    {
     "name": "stdout",
     "output_type": "stream",
     "text": [
      "8\n",
      "6\n",
      "4\n",
      "2\n",
      "0\n",
      "-2\n",
      "-4\n",
      "-6\n",
      "-8\n"
     ]
    }
   ],
   "source": [
    "for i in range(8,-10,-2):\n",
    "    print (i)"
   ]
  },
  {
   "cell_type": "raw",
   "metadata": {
    "collapsed": true
   },
   "source": [
    "R-1.11 Demonstrate how to use Python’s list comprehension syntax to produce the list [1, 2, 4, 8, 16, 32, 64, 128, 256]."
   ]
  },
  {
   "cell_type": "code",
   "execution_count": 109,
   "metadata": {
    "collapsed": false
   },
   "outputs": [
    {
     "data": {
      "text/plain": [
       "[1, 2, 4, 8, 16, 32, 64, 128, 256]"
      ]
     },
     "execution_count": 109,
     "metadata": {},
     "output_type": "execute_result"
    }
   ],
   "source": [
    "l = [2**k for k in range(9)]\n",
    "l"
   ]
  },
  {
   "cell_type": "raw",
   "metadata": {},
   "source": [
    "R-1.12 Python’s random module includes a function choice(data) that returns a random element from a non-empty sequence. The random module includes a more basic function randrange, with parameterization similar to the built-in range function, that return a random choice from the given range. Using only the randrange function, implement your own version of the choice function."
   ]
  },
  {
   "cell_type": "code",
   "execution_count": 110,
   "metadata": {
    "collapsed": false
   },
   "outputs": [],
   "source": [
    "import random as rd\n",
    "def mychoice(x):\n",
    "    i = rd.randrange(max(x))\n",
    "    if i in x:\n",
    "        return i\n",
    "    else:\n",
    "        return mychoice(x)    "
   ]
  },
  {
   "cell_type": "code",
   "execution_count": 111,
   "metadata": {
    "collapsed": false
   },
   "outputs": [
    {
     "data": {
      "text/plain": [
       "128"
      ]
     },
     "execution_count": 111,
     "metadata": {},
     "output_type": "execute_result"
    }
   ],
   "source": [
    "mychoice(l)"
   ]
  },
  {
   "cell_type": "raw",
   "metadata": {},
   "source": [
    "C-1.13 Write a pseudo-code description of a function that reverses a list of n integers, so that the numbers are listed in the opposite order than they were before, and compare this method to an equivalent Python function for doing the same thing."
   ]
  },
  {
   "cell_type": "code",
   "execution_count": 112,
   "metadata": {
    "collapsed": false
   },
   "outputs": [
    {
     "data": {
      "text/plain": [
       "[256, 128, 64, 32, 16, 8, 4, 2, 1]"
      ]
     },
     "execution_count": 112,
     "metadata": {},
     "output_type": "execute_result"
    }
   ],
   "source": [
    "def rev(x):\n",
    "    a = []\n",
    "    for i in range(len(x)):\n",
    "        a.append(x[len(x)-i-1])\n",
    "    return a\n",
    "rev(l)"
   ]
  },
  {
   "cell_type": "raw",
   "metadata": {},
   "source": [
    "C-1.14 Write a short Python function that takes a sequence of integer values and determines if there is a distinct pair of numbers in the sequence whose product is odd."
   ]
  },
  {
   "cell_type": "code",
   "execution_count": 119,
   "metadata": {
    "collapsed": true
   },
   "outputs": [],
   "source": [
    "def chkpairsodd(x):\n",
    "    a=[]\n",
    "    for i in range(len(x)-1):\n",
    "        for j in range(len(x)-i-1):\n",
    "            a.append(x[i]*x[j+i+1])\n",
    "    if any([i%2!=0 for i in a])== True:\n",
    "        return 'odd'\n",
    "    else:\n",
    "        return 'all even'"
   ]
  },
  {
   "cell_type": "code",
   "execution_count": 126,
   "metadata": {
    "collapsed": false
   },
   "outputs": [
    {
     "name": "stdout",
     "output_type": "stream",
     "text": [
      "odd \n",
      " all even\n"
     ]
    }
   ],
   "source": [
    "print(chkpairsodd([1,2,3,4]),'\\n',chkpairsodd([2,2,4]))"
   ]
  },
  {
   "cell_type": "raw",
   "metadata": {},
   "source": [
    "C-1.15 Write a Python function that takes a sequence of numbers and determines if all the numbers are different from each other (that is, they are distinct)."
   ]
  },
  {
   "cell_type": "code",
   "execution_count": 132,
   "metadata": {
    "collapsed": true
   },
   "outputs": [],
   "source": [
    "def distinct(x):\n",
    "    for i in range(len(x)-1):\n",
    "        for j in range(len(x)-i-1):\n",
    "            if x[i]==x[j+i+1]:\n",
    "                return False\n",
    "    return True"
   ]
  },
  {
   "cell_type": "code",
   "execution_count": 135,
   "metadata": {
    "collapsed": false
   },
   "outputs": [
    {
     "name": "stdout",
     "output_type": "stream",
     "text": [
      "True False\n"
     ]
    }
   ],
   "source": [
    "print(distinct([1,2,3,4]),distinct([1,2,2,3]))"
   ]
  },
  {
   "cell_type": "raw",
   "metadata": {},
   "source": [
    "C-1.16 In our implementation of the scale function (page 25), the body of the loop executes the command data[j] *=factor. We have discussed that numerictypes are immutable, and that use of the *= operator in this context causes\n",
    "the creation of a new instance (not the mutation of an existing instance).How is it still possible, then, that our implementation of scale changes the actual parameter sent by the caller?"
   ]
  },
  {
   "cell_type": "code",
   "execution_count": 1,
   "metadata": {
    "collapsed": true
   },
   "outputs": [],
   "source": [
    "def scale(data, factor):\n",
    "    for j in range(len(data)):\n",
    "        data[j] *= factor"
   ]
  },
  {
   "cell_type": "code",
   "execution_count": 4,
   "metadata": {
    "collapsed": false
   },
   "outputs": [
    {
     "data": {
      "text/plain": [
       "[5, 10, 15]"
      ]
     },
     "execution_count": 4,
     "metadata": {},
     "output_type": "execute_result"
    }
   ],
   "source": [
    "x = [1,2,3]\n",
    "scale(x,5)\n",
    "x"
   ]
  },
  {
   "cell_type": "raw",
   "metadata": {},
   "source": [
    "C-1.17 Had we implemented the scale function (page 25) as follows, does it work properly?\n",
    "def scale(data, factor):\n",
    "for val in data:\n",
    "val *= factor\n",
    "Explain why or why not."
   ]
  },
  {
   "cell_type": "code",
   "execution_count": 7,
   "metadata": {
    "collapsed": true
   },
   "outputs": [],
   "source": [
    "def scale(data, factor):\n",
    "    for val in data:\n",
    "        val *= factor"
   ]
  },
  {
   "cell_type": "code",
   "execution_count": 8,
   "metadata": {
    "collapsed": false
   },
   "outputs": [
    {
     "data": {
      "text/plain": [
       "[1, 2, 3]"
      ]
     },
     "execution_count": 8,
     "metadata": {},
     "output_type": "execute_result"
    }
   ],
   "source": [
    "x = [1,2,3]\n",
    "scale(x,5)\n",
    "x"
   ]
  },
  {
   "cell_type": "raw",
   "metadata": {},
   "source": [
    "C-1.18 Demonstrate how to use Python’s list comprehension syntax to produce the list [0, 2, 6, 12, 20, 30, 42, 56, 72, 90]."
   ]
  },
  {
   "cell_type": "code",
   "execution_count": 26,
   "metadata": {
    "collapsed": false
   },
   "outputs": [
    {
     "data": {
      "text/plain": [
       "[0, 2, 6, 12, 20, 30, 42, 56, 72, 90]"
      ]
     },
     "execution_count": 26,
     "metadata": {},
     "output_type": "execute_result"
    }
   ],
   "source": [
    "s = [k*(k+1) for k in range(0,10)]\n",
    "s"
   ]
  },
  {
   "cell_type": "raw",
   "metadata": {},
   "source": [
    "C-1.19 Demonstrate how to use Python’s list comprehension syntax to produce the list [ a , b , c , ..., z ], but without having to type all 26 such characters literally."
   ]
  },
  {
   "cell_type": "code",
   "execution_count": 16,
   "metadata": {
    "collapsed": false
   },
   "outputs": [
    {
     "name": "stdout",
     "output_type": "stream",
     "text": [
      "['a', 'b', 'c', 'd', 'e', 'f', 'g', 'h', 'i', 'j', 'k', 'l', 'm', 'n', 'o', 'p', 'q', 'r', 's', 't', 'u', 'v', 'w', 'x', 'y', 'z']\n"
     ]
    }
   ],
   "source": [
    "s = [chr(k) for k in range(97,97+26)]\n",
    "print(s)"
   ]
  },
  {
   "cell_type": "raw",
   "metadata": {},
   "source": [
    "C-1.20 Python’s random module includes a function shuffle(data) that accepts a list of elements and randomly reorders the elements so that each possible order occurs with equal probability. The random module includes a more basic function randint(a, b) that returns a uniformly random integer from a to b (including both endpoints). Using only the randint function, implement your own version of the shuffle function."
   ]
  },
  {
   "cell_type": "code",
   "execution_count": 76,
   "metadata": {
    "collapsed": false
   },
   "outputs": [
    {
     "data": {
      "text/plain": [
       "[2, 5, 4, 3, 1]"
      ]
     },
     "execution_count": 76,
     "metadata": {},
     "output_type": "execute_result"
    }
   ],
   "source": [
    "import random\n",
    "x = [1,2,3,4,5]\n",
    "random.shuffle(x)\n",
    "x"
   ]
  },
  {
   "cell_type": "code",
   "execution_count": 80,
   "metadata": {
    "collapsed": true
   },
   "outputs": [],
   "source": [
    "def shuffle(x):\n",
    "    l=[]\n",
    "    minimum = min(x)\n",
    "    maximum = max(x)\n",
    "    while len(l)<len(x):\n",
    "        val = random.randint(minimum,maximum)\n",
    "        if val in x and val not in l:\n",
    "            l.append(val)\n",
    "    return l"
   ]
  },
  {
   "cell_type": "code",
   "execution_count": 82,
   "metadata": {
    "collapsed": false
   },
   "outputs": [
    {
     "data": {
      "text/plain": [
       "[3, 5, 1, 4, 2]"
      ]
     },
     "execution_count": 82,
     "metadata": {},
     "output_type": "execute_result"
    }
   ],
   "source": [
    "shuffle(x)"
   ]
  },
  {
   "cell_type": "raw",
   "metadata": {},
   "source": [
    "C-1.21 Write a Python program that repeatedly reads lines from standard input until an EOFError is raised, and then outputs those lines in reverse order(a user can indicate end of input by typing ctrl-D)."
   ]
  },
  {
   "cell_type": "code",
   "execution_count": 125,
   "metadata": {
    "collapsed": false
   },
   "outputs": [
    {
     "name": "stdout",
     "output_type": "stream",
     "text": [
      "Enter your age in years: \n",
      "Invalid response\n",
      "Enter your age in years: -5\n",
      "Your age must be positive\n",
      "Enter your age in years: a\n",
      "Invalid response\n",
      "Enter your age in years: 5\n"
     ]
    }
   ],
   "source": [
    "age = -1 # an initially invalid choice\n",
    "\n",
    "while age <= 0:\n",
    "    try:\n",
    "        age = int(input( 'Enter your age in years: '))\n",
    "        if age <= 0:\n",
    "            print( 'Your age must be positive' )\n",
    "    except (ValueError, EOFError):\n",
    "        print( 'Invalid response' )"
   ]
  },
  {
   "cell_type": "code",
   "execution_count": 126,
   "metadata": {
    "collapsed": false
   },
   "outputs": [
    {
     "name": "stdout",
     "output_type": "stream",
     "text": [
      "Enter a line,type D to endi am a boy\n",
      "boy a am i\n",
      "Enter a line,type D to endD\n",
      "D\n"
     ]
    }
   ],
   "source": [
    "x = 'a'\n",
    "while x != 'D':\n",
    "    try:\n",
    "        x = input('Enter a line,type D to end')\n",
    "        print(\" \".join(rev(x.split())))\n",
    "    except (EOFError):\n",
    "        print(\"invalid entry\")"
   ]
  },
  {
   "cell_type": "raw",
   "metadata": {},
   "source": [
    "C-1.22 Write a short Python program that takes two arrays a and b of length n storing int values, and returns the dot product of a and b. That is, it returns an array c of length n such that c[i] = a[i] · b[i], for i = 0, . . . ,n−1."
   ]
  },
  {
   "cell_type": "code",
   "execution_count": 7,
   "metadata": {
    "collapsed": false
   },
   "outputs": [],
   "source": [
    "def dot(a,b):\n",
    "    if len(a) == len(b):\n",
    "        c = [a[i]*b[i] for i in range(len(a))]\n",
    "        return c\n",
    "    else:\n",
    "        print(\"length of arrays not equal\")"
   ]
  },
  {
   "cell_type": "code",
   "execution_count": 9,
   "metadata": {
    "collapsed": false
   },
   "outputs": [
    {
     "data": {
      "text/plain": [
       "[4, 10, 18]"
      ]
     },
     "execution_count": 9,
     "metadata": {},
     "output_type": "execute_result"
    }
   ],
   "source": [
    "dot([1,2,3],[4,5,6])"
   ]
  },
  {
   "cell_type": "raw",
   "metadata": {},
   "source": [
    "C-1.23 Give an example of a Python code fragment that attempts to write an element to a list based on an index that may be out of bounds. If that index is out of bounds, the program should catch the exception that results, and print the following error message:“Don’t try buffer overflow attacks in Python!”"
   ]
  },
  {
   "cell_type": "raw",
   "metadata": {},
   "source": [
    "C-1.24 Write a short Python function that counts the number of vowels in a given character string."
   ]
  },
  {
   "cell_type": "code",
   "execution_count": 50,
   "metadata": {
    "collapsed": false
   },
   "outputs": [],
   "source": [
    "def cntvowel(x):\n",
    "    return sum([any([vowel in val for vowel in ['a','e','i','o','u']]) for val in x])"
   ]
  },
  {
   "cell_type": "code",
   "execution_count": 55,
   "metadata": {
    "collapsed": false
   },
   "outputs": [
    {
     "data": {
      "text/plain": [
       "3"
      ]
     },
     "execution_count": 55,
     "metadata": {},
     "output_type": "execute_result"
    }
   ],
   "source": [
    "cntvowel('pegion')"
   ]
  },
  {
   "cell_type": "raw",
   "metadata": {},
   "source": [
    "C-1.25 Write a short Python function that takes a string s, representing a sentence, and returns a copy of the string with all punctuation removed. For example, if given the string \"Let's try, Mike.\", this function would return\n",
    "\"Lets try Mike\"."
   ]
  },
  {
   "cell_type": "code",
   "execution_count": 89,
   "metadata": {
    "collapsed": false
   },
   "outputs": [
    {
     "data": {
      "text/plain": [
       "'!\"#$%&\\'()*+,-./:;<=>?@[\\\\]^_`{|}~'"
      ]
     },
     "execution_count": 89,
     "metadata": {},
     "output_type": "execute_result"
    }
   ],
   "source": [
    "import string\n",
    "string.punctuation"
   ]
  },
  {
   "cell_type": "code",
   "execution_count": 147,
   "metadata": {
    "collapsed": true
   },
   "outputs": [],
   "source": [
    "def removepunctuation(s):\n",
    "    x = list(s)\n",
    "    new = [val for val in x if val not in string.punctuation]\n",
    "    new = ''.join(new)\n",
    "    return new"
   ]
  },
  {
   "cell_type": "code",
   "execution_count": 148,
   "metadata": {
    "collapsed": false
   },
   "outputs": [
    {
     "data": {
      "text/plain": [
       "'Lets try Mike'"
      ]
     },
     "execution_count": 148,
     "metadata": {},
     "output_type": "execute_result"
    }
   ],
   "source": [
    "removepunctuation(\"Let's try, Mike.\")"
   ]
  },
  {
   "cell_type": "raw",
   "metadata": {},
   "source": [
    "C-1.26 Write a short program that takes as input three integers, a, b, and c, from the console and determines if they can be used in a correct arithmetic formula (in the given order), like “a+b = c,” “a = b−c,” or “a ∗ b = c.”"
   ]
  },
  {
   "cell_type": "code",
   "execution_count": 156,
   "metadata": {
    "collapsed": false
   },
   "outputs": [
    {
     "name": "stdout",
     "output_type": "stream",
     "text": [
      "Enter a value for a5\n",
      "Enter a value for b6\n",
      "Enter a value for c11\n"
     ]
    },
    {
     "data": {
      "text/plain": [
       "True"
      ]
     },
     "execution_count": 156,
     "metadata": {},
     "output_type": "execute_result"
    }
   ],
   "source": [
    "a = int(input(\"Enter a value for a\"))\n",
    "b = int(input(\"Enter a value for b\"))\n",
    "c = int(input(\"Enter a value for c\"))\n",
    "any([c == a+b,a==b-c,c==a*b])"
   ]
  },
  {
   "cell_type": "code",
   "execution_count": 1,
   "metadata": {
    "collapsed": true
   },
   "outputs": [],
   "source": [
    "def factors(n): # traditional function that computes factors\n",
    "    results = [ ] # store factors in a new list\n",
    "    for k in range(1,n+1):\n",
    "        if n % k == 0: # divides evenly, thus k is a factor\n",
    "            results.append(k) # add k to the list of factors\n",
    "    return results # return the entire list"
   ]
  },
  {
   "cell_type": "code",
   "execution_count": 2,
   "metadata": {
    "collapsed": false
   },
   "outputs": [
    {
     "data": {
      "text/plain": [
       "[1, 2, 4, 5, 10, 20, 25, 50, 100]"
      ]
     },
     "execution_count": 2,
     "metadata": {},
     "output_type": "execute_result"
    }
   ],
   "source": [
    "factors(100)"
   ]
  },
  {
   "cell_type": "code",
   "execution_count": 3,
   "metadata": {
    "collapsed": true
   },
   "outputs": [],
   "source": [
    "def factors(n): # generator that computes factors\n",
    "    for k in range(1,n+1):\n",
    "        if n % k == 0: # divides evenly, thus k is a factor\n",
    "            yield k # yield this factor as next result"
   ]
  },
  {
   "cell_type": "code",
   "execution_count": 5,
   "metadata": {
    "collapsed": false
   },
   "outputs": [
    {
     "name": "stdout",
     "output_type": "stream",
     "text": [
      "1\n",
      "2\n",
      "4\n",
      "5\n",
      "10\n",
      "20\n",
      "25\n",
      "50\n",
      "100\n"
     ]
    }
   ],
   "source": [
    "for factor in factors(100):\n",
    "    print(factor)"
   ]
  },
  {
   "cell_type": "raw",
   "metadata": {},
   "source": [
    "C-1.28 The p-norm of a vector v = (v1,v2, . . . ,vn) in n-dimensional space is defined as \n",
    "\u0007v\u0007 =p \u0002vp1 +vp2 +· · ·+vpn .\n",
    "For the special case of p = 2, this results in the traditional Euclidean norm, which represents the length of the vector. For example, the Euclidean norm of a two-dimensional vector with coordinates (4,3) has a Euclidean norm of\n",
    "√\n",
    "42+32 =\n",
    "√\n",
    "16+9 =\n",
    "√\n",
    "25 = 5. Give an implementation\n",
    "of a function named norm such that norm(v, p) returns the p-norm\n",
    "value of v and norm(v) returns the Euclidean norm of v. You may assume\n",
    "that v is a list of numbers."
   ]
  },
  {
   "cell_type": "code",
   "execution_count": 12,
   "metadata": {
    "collapsed": true
   },
   "outputs": [],
   "source": [
    "def norm(v,p=2):\n",
    "    return (sum([i**p for i in v]))**(1/p)"
   ]
  },
  {
   "cell_type": "raw",
   "metadata": {},
   "source": [
    "P-1.29 Write a Python program that outputs all possible strings formed by using the characters c , a , t , d , o , and g exactly once."
   ]
  },
  {
   "cell_type": "code",
   "execution_count": 19,
   "metadata": {
    "collapsed": true
   },
   "outputs": [],
   "source": [
    "def factorial(n):\n",
    "    if n==0:\n",
    "        return 1\n",
    "    else:\n",
    "        return n*factorial(n-1)"
   ]
  },
  {
   "cell_type": "code",
   "execution_count": 21,
   "metadata": {
    "collapsed": true
   },
   "outputs": [],
   "source": [
    "import random\n",
    "l = ['c' , 'a' , 't' , 'd' , 'o' ,'g']\n",
    "strings = []\n",
    "while len(strings)<factorial(len(l)):\n",
    "    random.shuffle(l)\n",
    "    x = ''.join(l)\n",
    "    if x not in strings:\n",
    "        strings.append(x)        "
   ]
  },
  {
   "cell_type": "code",
   "execution_count": 22,
   "metadata": {
    "collapsed": false
   },
   "outputs": [
    {
     "data": {
      "text/plain": [
       "['dotcga',\n",
       " 'gtacdo',\n",
       " 'gtocad',\n",
       " 'ogcdta',\n",
       " 'dgocta',\n",
       " 'ocatdg',\n",
       " 'agtodc',\n",
       " 'tacdgo',\n",
       " 'cgtado',\n",
       " 'cgtoda',\n",
       " 'gdotca',\n",
       " 'aotdgc',\n",
       " 'gadotc',\n",
       " 'gatdco',\n",
       " 'dtcgao',\n",
       " 'cgoadt',\n",
       " 'dogtac',\n",
       " 'dacgto',\n",
       " 'agcdot',\n",
       " 'cdtoga',\n",
       " 'coatgd',\n",
       " 'otadgc',\n",
       " 'cgotad',\n",
       " 'acotdg',\n",
       " 'gcdtao',\n",
       " 'ocdgat',\n",
       " 'gdtoca',\n",
       " 'tgocad',\n",
       " 'tdacog',\n",
       " 'cdgoat',\n",
       " 'oatcdg',\n",
       " 'ogdatc',\n",
       " 'tadcgo',\n",
       " 'agctdo',\n",
       " 'gctoda',\n",
       " 'gtadoc',\n",
       " 'ctodag',\n",
       " 'aodctg',\n",
       " 'toadcg',\n",
       " 'docgat',\n",
       " 'ctodga',\n",
       " 'goacdt',\n",
       " 'gaotdc',\n",
       " 'ocgatd',\n",
       " 'dtcago',\n",
       " 'oatcgd',\n",
       " 'taodcg',\n",
       " 'aogcdt',\n",
       " 'ctgdoa',\n",
       " 'cgoatd',\n",
       " 'odacgt',\n",
       " 'cgotda',\n",
       " 'actogd',\n",
       " 'ogctad',\n",
       " 'acdtgo',\n",
       " 'toadgc',\n",
       " 'tcdaog',\n",
       " 'adcogt',\n",
       " 'tgaocd',\n",
       " 'ctoagd',\n",
       " 'gotdac',\n",
       " 'cdtgoa',\n",
       " 'cadotg',\n",
       " 'toagcd',\n",
       " 'taodgc',\n",
       " 'dgotac',\n",
       " 'dtcgoa',\n",
       " 'odctag',\n",
       " 'gadtoc',\n",
       " 'odgcta',\n",
       " 'otcagd',\n",
       " 'aodcgt',\n",
       " 'agdcot',\n",
       " 'taocdg',\n",
       " 'odtgac',\n",
       " 'agtcod',\n",
       " 'dcgtoa',\n",
       " 'cgaodt',\n",
       " 'doagtc',\n",
       " 'acogdt',\n",
       " 'gcotad',\n",
       " 'gdcoat',\n",
       " 'gtadco',\n",
       " 'gtdaoc',\n",
       " 'odatcg',\n",
       " 'goatcd',\n",
       " 'gdacto',\n",
       " 'dgtoac',\n",
       " 'catgdo',\n",
       " 'cadtgo',\n",
       " 'cgtaod',\n",
       " 'odcgta',\n",
       " 'oacgtd',\n",
       " 'daocgt',\n",
       " 'otagcd',\n",
       " 'gaocdt',\n",
       " 'gdcota',\n",
       " 'oadctg',\n",
       " 'dcagot',\n",
       " 'dtoacg',\n",
       " 'gcatod',\n",
       " 'tgoacd',\n",
       " 'dcogat',\n",
       " 'dogatc',\n",
       " 'tdogac',\n",
       " 'tdcgoa',\n",
       " 'oagdtc',\n",
       " 'todacg',\n",
       " 'dtoagc',\n",
       " 'caodtg',\n",
       " 'otdcag',\n",
       " 'tdaogc',\n",
       " 'acgdot',\n",
       " 'ogcadt',\n",
       " 'datgoc',\n",
       " 'octdag',\n",
       " 'odgatc',\n",
       " 'gtcaod',\n",
       " 'ocgdta',\n",
       " 'tcagdo',\n",
       " 'ctdoga',\n",
       " 'gacdot',\n",
       " 'dogact',\n",
       " 'godcta',\n",
       " 'ogtacd',\n",
       " 'gadcto',\n",
       " 'gcodat',\n",
       " 'ogctda',\n",
       " 'agodtc',\n",
       " 'goadct',\n",
       " 'dcgato',\n",
       " 'goctda',\n",
       " 'gtdoac',\n",
       " 'taogdc',\n",
       " 'adctog',\n",
       " 'codtag',\n",
       " 'octgad',\n",
       " 'dgcato',\n",
       " 'gotdca',\n",
       " 'otgcda',\n",
       " 'acgodt',\n",
       " 'acdgot',\n",
       " 'dtgoac',\n",
       " 'atgdco',\n",
       " 'agctod',\n",
       " 'otcgda',\n",
       " 'tdagoc',\n",
       " 'cdoagt',\n",
       " 'atocdg',\n",
       " 'cogatd',\n",
       " 'toagdc',\n",
       " 'coadgt',\n",
       " 'oadgct',\n",
       " 'ctgdao',\n",
       " 'aogtdc',\n",
       " 'gtoadc',\n",
       " 'gdtaoc',\n",
       " 'dctoag',\n",
       " 'dcatog',\n",
       " 'atcgdo',\n",
       " 'toacgd',\n",
       " 'atdcgo',\n",
       " 'gcdota',\n",
       " 'adgoct',\n",
       " 'ocatgd',\n",
       " 'odactg',\n",
       " 'cadgot',\n",
       " 'tdcoag',\n",
       " 'dagotc',\n",
       " 'ogatcd',\n",
       " 'tdacgo',\n",
       " 'tgcdoa',\n",
       " 'tcdgao',\n",
       " 'cgdtoa',\n",
       " 'gdctoa',\n",
       " 'dtagoc',\n",
       " 'dcaogt',\n",
       " 'otdcga',\n",
       " 'ocgdat',\n",
       " 'dgaotc',\n",
       " 'gctaod',\n",
       " 'tocdag',\n",
       " 'docatg',\n",
       " 'dtgoca',\n",
       " 'todcga',\n",
       " 'tocgad',\n",
       " 'gacotd',\n",
       " 'tdcgao',\n",
       " 'coagtd',\n",
       " 'adtgco',\n",
       " 'adoctg',\n",
       " 'odcagt',\n",
       " 'atdgoc',\n",
       " 'cgdaot',\n",
       " 'adgcot',\n",
       " 'odtagc',\n",
       " 'otadcg',\n",
       " 'adgotc',\n",
       " 'adtogc',\n",
       " 'oatgdc',\n",
       " 'dgatoc',\n",
       " 'octadg',\n",
       " 'adcgot',\n",
       " 'dtocga',\n",
       " 'gtcdoa',\n",
       " 'tcogad',\n",
       " 'otdgca',\n",
       " 'gdaoct',\n",
       " 'tdogca',\n",
       " 'ogtcda',\n",
       " 'otdacg',\n",
       " 'catgod',\n",
       " 'atdocg',\n",
       " 'gtdcao',\n",
       " 'gcoadt',\n",
       " 'odtcga',\n",
       " 'adgcto',\n",
       " 'dactog',\n",
       " 'atcdgo',\n",
       " 'tadcog',\n",
       " 'ctgoda',\n",
       " 'ctogad',\n",
       " 'gtaocd',\n",
       " 'ctgaod',\n",
       " 'actgod',\n",
       " 'cgtoad',\n",
       " 'todcag',\n",
       " 'tdocga',\n",
       " 'codgta',\n",
       " 'ocdtga',\n",
       " 'tdagco',\n",
       " 'todgac',\n",
       " 'gatodc',\n",
       " 'gtdoca',\n",
       " 'dagcot',\n",
       " 'tcoadg',\n",
       " 'tcgoad',\n",
       " 'ocgtad',\n",
       " 'tdocag',\n",
       " 'aogdtc',\n",
       " 'otdgac',\n",
       " 'acdgto',\n",
       " 'dctaog',\n",
       " 'tagcod',\n",
       " 'atogdc',\n",
       " 'odcgat',\n",
       " 'dcaotg',\n",
       " 'cagtod',\n",
       " 'otcdag',\n",
       " 'dctgao',\n",
       " 'cotgda',\n",
       " 'dgoact',\n",
       " 'cdtoag',\n",
       " 'tcaogd',\n",
       " 'oadtcg',\n",
       " 'cadgto',\n",
       " 'cdtago',\n",
       " 'tacgdo',\n",
       " 'dacogt',\n",
       " 'oatdcg',\n",
       " 'ctdoag',\n",
       " 'oactdg',\n",
       " 'ctdago',\n",
       " 'adctgo',\n",
       " 'codatg',\n",
       " 'tdcago',\n",
       " 'cadogt',\n",
       " 'doatgc',\n",
       " 'tcdgoa',\n",
       " 'atcogd',\n",
       " 'tgdaoc',\n",
       " 'dgtcao',\n",
       " 'codtga',\n",
       " 'dgotca',\n",
       " 'gactdo',\n",
       " 'ctagdo',\n",
       " 'adtocg',\n",
       " 'tgocda',\n",
       " 'ocagdt',\n",
       " 'tcgdao',\n",
       " 'taogcd',\n",
       " 'tcdago',\n",
       " 'tadgco',\n",
       " 'togdac',\n",
       " 'cdagot',\n",
       " 'otacdg',\n",
       " 'dcgtao',\n",
       " 'tgacdo',\n",
       " 'goatdc',\n",
       " 'tdgaoc',\n",
       " 'gaodct',\n",
       " 'ctgoad',\n",
       " 'ogtdca',\n",
       " 'togcda',\n",
       " 'dcoagt',\n",
       " 'cotdga',\n",
       " 'dgatco',\n",
       " 'togcad',\n",
       " 'oagtdc',\n",
       " 'doagct',\n",
       " 'tgacod',\n",
       " 'tcodag',\n",
       " 'cdoatg',\n",
       " 'dtgaoc',\n",
       " 'dcoatg',\n",
       " 'tgcoda',\n",
       " 'agdotc',\n",
       " 'cgdota',\n",
       " 'acdotg',\n",
       " 'otcgad',\n",
       " 'octgda',\n",
       " 'ogtadc',\n",
       " 'aogtcd',\n",
       " 'gcadot',\n",
       " 'cgatod',\n",
       " 'dcgoat',\n",
       " 'dotgca',\n",
       " 'gatocd',\n",
       " 'acdogt',\n",
       " 'tdoacg',\n",
       " 'agodct',\n",
       " 'dtgcao',\n",
       " 'dgtaco',\n",
       " 'dcotga',\n",
       " 'agtdoc',\n",
       " 'cgdoat',\n",
       " 'aotcgd',\n",
       " 'tgoadc',\n",
       " 'caodgt',\n",
       " 'gtdaco',\n",
       " 'caotgd',\n",
       " 'tgdcao',\n",
       " 'tagcdo',\n",
       " 'gaotcd',\n",
       " 'doacgt',\n",
       " 'adcgto',\n",
       " 'tcaodg',\n",
       " 'gtcdao',\n",
       " 'codagt',\n",
       " 'aotdcg',\n",
       " 'aodgtc',\n",
       " 'dtgcoa',\n",
       " 'doctga',\n",
       " 'atgdoc',\n",
       " 'otacgd',\n",
       " 'gdocta',\n",
       " 'cdogat',\n",
       " 'actodg',\n",
       " 'tdgcoa',\n",
       " 'caotdg',\n",
       " 'daogct',\n",
       " 'cdgato',\n",
       " 'cogtad',\n",
       " 'tagocd',\n",
       " 'ocgadt',\n",
       " 'aocdgt',\n",
       " 'tadogc',\n",
       " 'odgtca',\n",
       " 'tgcado',\n",
       " 'tcdoag',\n",
       " 'odtgca',\n",
       " 'gadtco',\n",
       " 'tdcoga',\n",
       " 'agtocd',\n",
       " 'datgco',\n",
       " 'tdcaog',\n",
       " 'ocdtag',\n",
       " 'tagdoc',\n",
       " 'gdcaot',\n",
       " 'dgctao',\n",
       " 'atgodc',\n",
       " 'dgcota',\n",
       " 'datogc',\n",
       " 'tocadg',\n",
       " 'gaodtc',\n",
       " 'cdgaot',\n",
       " 'dgacto',\n",
       " 'tgdaco',\n",
       " 'coagdt',\n",
       " 'gactod',\n",
       " 'gatcdo',\n",
       " 'gtcoad',\n",
       " 'cdtgao',\n",
       " 'dcotag',\n",
       " 'tcgaod',\n",
       " 'gdtoac',\n",
       " 'aodtcg',\n",
       " 'cgatdo',\n",
       " 'dcgota',\n",
       " 'oacdtg',\n",
       " 'dtaogc',\n",
       " 'odgact',\n",
       " 'gctoad',\n",
       " 'cgadot',\n",
       " 'cadtog',\n",
       " 'oadgtc',\n",
       " 'agtcdo',\n",
       " 'gcaotd',\n",
       " 'gatdoc',\n",
       " 'cdgota',\n",
       " 'tcogda',\n",
       " 'adgtco',\n",
       " 'adtcog',\n",
       " 'ctdaog',\n",
       " 'tdoagc',\n",
       " 'cdatog',\n",
       " 'gtcado',\n",
       " 'aodtgc',\n",
       " 'dogcat',\n",
       " 'aoctgd',\n",
       " 'dogcta',\n",
       " 'actgdo',\n",
       " 'gdoatc',\n",
       " 'dacgot',\n",
       " 'cdotga',\n",
       " 'caogdt',\n",
       " 'tgdcoa',\n",
       " 'agcotd',\n",
       " 'dotgac',\n",
       " 'acodtg',\n",
       " 'gdotac',\n",
       " 'gtacod',\n",
       " 'ocdgta',\n",
       " 'docagt',\n",
       " 'acodgt',\n",
       " 'tdgcao',\n",
       " 'cotdag',\n",
       " 'agcdto',\n",
       " 'dgocat',\n",
       " 'tgcaod',\n",
       " 'tcgado',\n",
       " 'gtdcoa',\n",
       " 'ogactd',\n",
       " 'tcodga',\n",
       " 'doctag',\n",
       " 'coatdg',\n",
       " 'ogdact',\n",
       " 'tadgoc',\n",
       " 'tgcoad',\n",
       " 'ctagod',\n",
       " 'acgdto',\n",
       " 'octdga',\n",
       " 'aodgct',\n",
       " 'gcodta',\n",
       " 'tgdoca',\n",
       " 'gtcoda',\n",
       " 'togacd',\n",
       " 'dctgoa',\n",
       " 'otgcad',\n",
       " 'dgtoca',\n",
       " 'ocgtda',\n",
       " 'acgtod',\n",
       " 'godact',\n",
       " 'acogtd',\n",
       " 'gtoacd',\n",
       " 'atodcg',\n",
       " 'dtcoag',\n",
       " 'dtaocg',\n",
       " 'gocdta',\n",
       " 'aocdtg',\n",
       " 'oagtcd',\n",
       " 'atgcdo',\n",
       " 'gacdto',\n",
       " 'tgadco',\n",
       " 'catogd',\n",
       " 'odagtc',\n",
       " 'agoctd',\n",
       " 'octagd',\n",
       " 'atodgc',\n",
       " 'goadtc',\n",
       " 'oatgcd',\n",
       " 'adcotg',\n",
       " 'dgtaoc',\n",
       " 'catdog',\n",
       " 'agdcto',\n",
       " 'atgocd',\n",
       " 'acotgd',\n",
       " 'cagtdo',\n",
       " 'goctad',\n",
       " 'docgta',\n",
       " 'cdotag',\n",
       " 'ogadct',\n",
       " 'gdtcao',\n",
       " 'gctdoa',\n",
       " 'ocadgt',\n",
       " 'tcdoga',\n",
       " 'otcadg',\n",
       " 'oagdct',\n",
       " 'aocgdt',\n",
       " 'godcat',\n",
       " 'ocdatg',\n",
       " 'cgadto',\n",
       " 'gatcod',\n",
       " 'ogtcad',\n",
       " 'godtca',\n",
       " 'dtacgo',\n",
       " 'ogdtca',\n",
       " 'gdcato',\n",
       " 'oatdgc',\n",
       " 'ogadtc',\n",
       " 'agtdco',\n",
       " 'daotgc',\n",
       " 'actdog',\n",
       " 'dotcag',\n",
       " 'adotgc',\n",
       " 'dtogca',\n",
       " 'dgcoat',\n",
       " 'cgdtao',\n",
       " 'acdtog',\n",
       " 'ogcdat',\n",
       " 'dagoct',\n",
       " 'dtacog',\n",
       " 'tcadog',\n",
       " 'adtgoc',\n",
       " 'todagc',\n",
       " 'dacotg',\n",
       " 'oagctd',\n",
       " 'atgcod',\n",
       " 'dagcto',\n",
       " 'gcdtoa',\n",
       " 'togadc',\n",
       " 'dgaoct',\n",
       " 'atogcd',\n",
       " 'odcatg',\n",
       " 'daogtc',\n",
       " 'atcdog',\n",
       " 'datocg',\n",
       " 'dtcoga',\n",
       " 'odagct',\n",
       " 'oadtgc',\n",
       " 'gcdato',\n",
       " 'todgca',\n",
       " 'agcodt',\n",
       " 'ctadog',\n",
       " 'oagcdt',\n",
       " 'gacodt',\n",
       " 'ctoadg',\n",
       " 'tocdga',\n",
       " 'gocdat',\n",
       " 'cagotd',\n",
       " 'agdtco',\n",
       " 'godtac',\n",
       " 'tagdco',\n",
       " 'gadcot',\n",
       " 'aotgcd',\n",
       " 'atdgco',\n",
       " 'cogadt',\n",
       " 'tacgod',\n",
       " 'cogdta',\n",
       " 'ocagtd',\n",
       " 'cdaogt',\n",
       " 'daoctg',\n",
       " 'oadcgt',\n",
       " 'agotdc',\n",
       " 'odtacg',\n",
       " 'goactd',\n",
       " 'caogtd',\n",
       " 'datcog',\n",
       " 'doactg',\n",
       " 'tcgoda',\n",
       " 'acgotd',\n",
       " 'otgdca',\n",
       " 'aotgdc',\n",
       " 'cdagto',\n",
       " 'gdacot',\n",
       " 'catodg',\n",
       " 'tdgaco',\n",
       " 'agdtoc',\n",
       " 'gcaodt',\n",
       " 'dtcaog',\n",
       " 'acgtdo',\n",
       " 'dgcaot',\n",
       " 'dtocag',\n",
       " 'cotgad',\n",
       " 'ctdgoa',\n",
       " 'atocgd',\n",
       " 'gtodca',\n",
       " 'tocgda',\n",
       " 'gcoatd',\n",
       " 'gdctao',\n",
       " 'gdocat',\n",
       " 'godatc',\n",
       " 'agotcd',\n",
       " 'dagtco',\n",
       " 'catdgo',\n",
       " 'atcgod',\n",
       " 'aoctdg',\n",
       " 'gdoact',\n",
       " 'tgcdao',\n",
       " 'togdca',\n",
       " 'gdatco',\n",
       " 'dogtca',\n",
       " 'cogtda',\n",
       " 'ctdgao',\n",
       " 'dotacg',\n",
       " 'ctadgo',\n",
       " 'tacogd',\n",
       " 'cagodt',\n",
       " 'cagdot',\n",
       " 'odctga',\n",
       " 'ogcatd',\n",
       " 'dctago',\n",
       " 'ogdcat',\n",
       " 'codgat',\n",
       " 'cgaotd',\n",
       " 'gdtaco',\n",
       " 'gdatoc',\n",
       " 'odtcag',\n",
       " 'tgdoac',\n",
       " 'dagtoc',\n",
       " 'gaoctd',\n",
       " 'cdatgo',\n",
       " 'cgtdoa',\n",
       " 'tcgdoa',\n",
       " 'cgdato',\n",
       " 'tdaocg',\n",
       " 'gocatd',\n",
       " 'dtagco',\n",
       " 'oacdgt',\n",
       " 'cogdat',\n",
       " 'gocadt',\n",
       " 'dtogac',\n",
       " 'ctaodg',\n",
       " 'cgodat',\n",
       " 'datcgo',\n",
       " 'gdaotc',\n",
       " 'ocadtg',\n",
       " 'gotacd',\n",
       " 'ctaogd',\n",
       " 'adotcg',\n",
       " 'taocgd',\n",
       " 'ocdagt',\n",
       " 'tadocg',\n",
       " 'coadtg',\n",
       " 'adtcgo',\n",
       " 'gtodac',\n",
       " 'gotadc',\n",
       " 'adocgt',\n",
       " 'otcdga',\n",
       " 'ogdcta',\n",
       " 'gtocda',\n",
       " 'tcagod',\n",
       " 'doatcg',\n",
       " 'cdtaog',\n",
       " 'gcatdo',\n",
       " 'oacgdt',\n",
       " 'cdgtoa',\n",
       " 'atdogc',\n",
       " 'daotcg',\n",
       " 'tgadoc',\n",
       " 'odgtac',\n",
       " 'dgctoa',\n",
       " 'otgdac',\n",
       " 'otgacd',\n",
       " 'agdoct',\n",
       " 'tgodac',\n",
       " 'tocagd',\n",
       " 'otagdc',\n",
       " 'gcdaot',\n",
       " 'tcadgo',\n",
       " 'dactgo',\n",
       " 'cotagd',\n",
       " 'atcodg',\n",
       " 'otdagc',\n",
       " 'aocgtd',\n",
       " 'dcatgo',\n",
       " 'gadoct',\n",
       " 'tdgoca',\n",
       " 'ctogda',\n",
       " 'otgadc',\n",
       " 'cgodta',\n",
       " 'aotcdg',\n",
       " 'gcdoat',\n",
       " 'ogatdc',\n",
       " 'gtaodc',\n",
       " 'agocdt',\n",
       " 'dotagc',\n",
       " 'dtgaco',\n",
       " 'cdaotg',\n",
       " 'aogdct',\n",
       " 'adogtc',\n",
       " 'ctgado',\n",
       " 'dcogta',\n",
       " 'adogct',\n",
       " 'cotadg',\n",
       " 'cagdto',\n",
       " 'cdogta',\n",
       " 'dcgaot',\n",
       " 'odgcat',\n",
       " 'dgoatc',\n",
       " 'gotcad',\n",
       " 'oactgd',\n",
       " 'gcadto',\n",
       " 'tdgoac',\n",
       " 'toacdg',\n",
       " 'ogacdt',\n",
       " 'tcoagd',\n",
       " 'atdcog',\n",
       " 'aogctd',\n",
       " 'dcagto',\n",
       " 'cgtdao',\n",
       " 'tagodc',\n",
       " 'gcotda',\n",
       " 'odatgc',\n",
       " 'gctado',\n",
       " 'gotcda',\n",
       " 'gdtcoa',\n",
       " 'tgaodc',\n",
       " 'gctdao',\n",
       " 'ogtdac',\n",
       " 'dgacot',\n",
       " 'tgodca',\n",
       " 'actdgo',\n",
       " 'dgtcoa',\n",
       " 'tacdog',\n",
       " 'ogdtac',\n",
       " 'adgtoc',\n",
       " 'tacodg',\n",
       " 'dctoga',\n",
       " 'cdgtao']"
      ]
     },
     "execution_count": 22,
     "metadata": {},
     "output_type": "execute_result"
    }
   ],
   "source": [
    "strings"
   ]
  },
  {
   "cell_type": "raw",
   "metadata": {
    "collapsed": true
   },
   "source": [
    "P-1.30 Write a Python program that can take a positive integer greater than 2 as input and write out the number of times one must repeatedly divide this number by 2 before getting a value less than 2."
   ]
  },
  {
   "cell_type": "code",
   "execution_count": 2,
   "metadata": {
    "collapsed": false
   },
   "outputs": [
    {
     "name": "stdout",
     "output_type": "stream",
     "text": [
      "Enter a number greater than 2 5\n",
      "2 1.25\n"
     ]
    }
   ],
   "source": [
    "x = int(input(\"Enter a number greater than 2 \"))\n",
    "count = 0\n",
    "while x>=2:\n",
    "    x /=2\n",
    "    count+=1\n",
    "print(count,x)"
   ]
  },
  {
   "cell_type": "raw",
   "metadata": {},
   "source": [
    "P-1.31 Write a Python program that can “make change.” Your program should take two numbers as input, one that is a monetary amount charged and the other that is a monetary amount given. It should then return the number of each kind of bill and coin to give back as change for the difference between the amount given and the amount charged. The values assigned to the bills and coins can be based on the monetary system of any current or former government. Try to design your program so that it returns as few bills and coins as possible."
   ]
  },
  {
   "cell_type": "code",
   "execution_count": 76,
   "metadata": {
    "collapsed": true
   },
   "outputs": [],
   "source": [
    "def change(charged,given):\n",
    "    value = charged - given\n",
    "    currency = [2000,500,200,100,50,20,10,5,2,1]\n",
    "    x = [1 for i in range(len(currency))]\n",
    "    bill = 0    \n",
    "    for i in range(len(x)):\n",
    "        while currency[i]*x[i]<=value:\n",
    "            x[i]+=1\n",
    "        bill = bill + x[i]-1\n",
    "        if currency[i]*(x[i]-1)==value:\n",
    "            return bill\n",
    "        else:\n",
    "            value = value - currency[i]*(x[i]-1)"
   ]
  },
  {
   "cell_type": "code",
   "execution_count": 77,
   "metadata": {
    "collapsed": false
   },
   "outputs": [
    {
     "data": {
      "text/plain": [
       "2"
      ]
     },
     "execution_count": 77,
     "metadata": {},
     "output_type": "execute_result"
    }
   ],
   "source": [
    "change(2003,2000)"
   ]
  },
  {
   "cell_type": "raw",
   "metadata": {
    "collapsed": true
   },
   "source": [
    "P-1.32 Write a Python program that can simulate a simple calculator, using the console as the exclusive input and output device. That is, each input to the calculator, be it a number, like 12.34 or 1034, or an operator, like + or =,\n",
    "can be done on a separate line. After each such input, you should output to the Python console what would be displayed on your calculator."
   ]
  },
  {
   "cell_type": "code",
   "execution_count": 24,
   "metadata": {
    "collapsed": false
   },
   "outputs": [
    {
     "name": "stdout",
     "output_type": "stream",
     "text": [
      "Enter a number,type = to calculate 5\n",
      "Enter your arithmetic operation +\n",
      "Enter a number 6\n",
      "Enter a number,type = to calculate =\n",
      "11.0\n"
     ]
    }
   ],
   "source": [
    "a = 5\n",
    "s = 0\n",
    "while a!='something':\n",
    "    a = input(\"Enter a number,type = to calculate \")\n",
    "    if a=='=':\n",
    "        break\n",
    "    else:\n",
    "        y = input(\"Enter your arithmetic operation \")\n",
    "        b = input(\"Enter a number \")\n",
    "        if y=='+':\n",
    "            s +=float(a) + float(b)\n",
    "        if y =='*':\n",
    "            s +=float(a) * float(b)\n",
    "        if y =='-':\n",
    "            s +=float(a) - float(b)\n",
    "print(s)"
   ]
  },
  {
   "cell_type": "raw",
   "metadata": {
    "collapsed": true
   },
   "source": [
    "P-1.35 The birthday paradox says that the probability that two people in a room will have the same birthday is more than half, provided n, the number of people in the room, is more than 23. This property is not really a paradox,\n",
    "but many people find it surprising. Design a Python program that can test this paradox by a series of experiments on randomly generated birthdays, which test this paradox for n = 5,10,15,20, . . . ,100."
   ]
  },
  {
   "cell_type": "code",
   "execution_count": 90,
   "metadata": {
    "collapsed": false
   },
   "outputs": [],
   "source": [
    "month = ['jan','feb','mar','apr','may','june','july','aug','sep','oct','nov','dec']\n",
    "n = 70\n",
    "bday=[]\n",
    "for i in range(n):\n",
    "    m = month[rd.randrange(12)]\n",
    "    if m=='jan' or m=='mar' or m=='may' or m=='july' or m=='aug' or m =='oct' or m=='dec':\n",
    "        bday.append(m+str(rd.randrange(1,32)))\n",
    "    elif m =='feb':\n",
    "            bday.append(m+str(rd.randrange(1,29)))\n",
    "    else:\n",
    "        bday.append(m+str(rd.randrange(1,31)))"
   ]
  },
  {
   "cell_type": "code",
   "execution_count": 91,
   "metadata": {
    "collapsed": true
   },
   "outputs": [],
   "source": [
    "d = dict()\n",
    "for i in bday:\n",
    "    if i not in d:\n",
    "        d[i]=1\n",
    "    else:\n",
    "        d[i] += 1"
   ]
  },
  {
   "cell_type": "code",
   "execution_count": 92,
   "metadata": {
    "collapsed": false
   },
   "outputs": [
    {
     "data": {
      "text/plain": [
       "8"
      ]
     },
     "execution_count": 92,
     "metadata": {},
     "output_type": "execute_result"
    }
   ],
   "source": [
    "s =[]\n",
    "for key in d:\n",
    "    if d[key]>=2:\n",
    "        s.append(d[key])\n",
    "sum(s)\n",
    "        "
   ]
  },
  {
   "cell_type": "raw",
   "metadata": {},
   "source": [
    "P-1.36 Write a Python program that inputs a list of words, separated by whitespace, and outputs how many times each word appears in the list. You need not worry about efficiency at this point, however, as this topic is\n",
    "something that will be addressed later in this book."
   ]
  },
  {
   "cell_type": "code",
   "execution_count": 93,
   "metadata": {
    "collapsed": true
   },
   "outputs": [],
   "source": [
    "d = dict()\n",
    "for i in bday:\n",
    "    if i not in d:\n",
    "        d[i]=1\n",
    "    else:\n",
    "        d[i] += 1"
   ]
  }
 ],
 "metadata": {
  "kernelspec": {
   "display_name": "Python 3",
   "language": "python",
   "name": "python3"
  },
  "language_info": {
   "codemirror_mode": {
    "name": "ipython",
    "version": 3
   },
   "file_extension": ".py",
   "mimetype": "text/x-python",
   "name": "python",
   "nbconvert_exporter": "python",
   "pygments_lexer": "ipython3",
   "version": "3.6.0"
  }
 },
 "nbformat": 4,
 "nbformat_minor": 2
}
