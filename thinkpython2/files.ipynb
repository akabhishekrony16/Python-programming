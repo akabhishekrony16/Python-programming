{
 "cells": [
  {
   "cell_type": "code",
   "execution_count": null,
   "metadata": {
    "collapsed": true
   },
   "outputs": [],
   "source": [
    "#reading and writing files"
   ]
  },
  {
   "cell_type": "code",
   "execution_count": null,
   "metadata": {
    "collapsed": true
   },
   "outputs": [],
   "source": [
    "#To write a file, you have to open it with mode 'w' as a second parameter:\n",
    "fout = open('C:/Users/HP/Desktop/thinkpython2/output.txt', 'w')\n",
    "line1 = \"This here's the wattle,\\n\"\n",
    "fout.write(line1)"
   ]
  },
  {
   "cell_type": "code",
   "execution_count": 9,
   "metadata": {
    "collapsed": true
   },
   "outputs": [],
   "source": [
    "line2 = \"the emblem of our land.\\n\"\n",
    "fout.write(line2)\n",
    "fout.close()"
   ]
  },
  {
   "cell_type": "code",
   "execution_count": 7,
   "metadata": {
    "collapsed": true
   },
   "outputs": [],
   "source": [
    "#14.3 Format operator"
   ]
  },
  {
   "cell_type": "code",
   "execution_count": null,
   "metadata": {
    "collapsed": true
   },
   "outputs": [],
   "source": [
    "'''\n",
    "The argument of write has to be a string, so if we want to put other values in a file, we\n",
    "have to convert them to strings."
   ]
  },
  {
   "cell_type": "code",
   "execution_count": 11,
   "metadata": {
    "collapsed": false
   },
   "outputs": [
    {
     "name": "stdout",
     "output_type": "stream",
     "text": [
      "I have spotted 42 camels.\n"
     ]
    }
   ],
   "source": [
    "camels=42\n",
    "print('I have spotted %d camels.' % camels)"
   ]
  },
  {
   "cell_type": "code",
   "execution_count": 12,
   "metadata": {
    "collapsed": false
   },
   "outputs": [
    {
     "data": {
      "text/plain": [
       "'42'"
      ]
     },
     "execution_count": 12,
     "metadata": {},
     "output_type": "execute_result"
    }
   ],
   "source": [
    "camels=42\n",
    "'%d' %camels"
   ]
  },
  {
   "cell_type": "code",
   "execution_count": null,
   "metadata": {
    "collapsed": true
   },
   "outputs": [],
   "source": [
    "'''\n",
    "If there is more than one format sequence in the string, the second argument has to be a\n",
    "tuple. Each format sequence is matched with an element of the tuple, in order."
   ]
  },
  {
   "cell_type": "code",
   "execution_count": 13,
   "metadata": {
    "collapsed": false
   },
   "outputs": [
    {
     "data": {
      "text/plain": [
       "'In 3 years I have spotted 0.1 camels.'"
      ]
     },
     "execution_count": 13,
     "metadata": {},
     "output_type": "execute_result"
    }
   ],
   "source": [
    "'In %d years I have spotted %g %s.' % (3, 0.1, 'camels')"
   ]
  },
  {
   "cell_type": "code",
   "execution_count": null,
   "metadata": {
    "collapsed": true
   },
   "outputs": [],
   "source": [
    "#14.4 Filenames and paths"
   ]
  },
  {
   "cell_type": "code",
   "execution_count": 14,
   "metadata": {
    "collapsed": false
   },
   "outputs": [
    {
     "data": {
      "text/plain": [
       "'C:\\\\Users\\\\HP\\\\thinkpython2'"
      ]
     },
     "execution_count": 14,
     "metadata": {},
     "output_type": "execute_result"
    }
   ],
   "source": [
    "#to get current working directory\n",
    "import os\n",
    "cwd = os.getcwd()\n",
    "cwd"
   ]
  },
  {
   "cell_type": "code",
   "execution_count": null,
   "metadata": {
    "collapsed": true
   },
   "outputs": [],
   "source": [
    "'''\n",
    "A path that begins with / does not depend on the current directory; it is called an absolute\n",
    "path. To find the absolute path to a file, you can use os.path.abspath:\n",
    "'''"
   ]
  },
  {
   "cell_type": "code",
   "execution_count": 18,
   "metadata": {
    "collapsed": false
   },
   "outputs": [
    {
     "data": {
      "text/plain": [
       "'C:\\\\Users\\\\HP\\\\thinkpython2\\\\bear.txt'"
      ]
     },
     "execution_count": 18,
     "metadata": {},
     "output_type": "execute_result"
    }
   ],
   "source": [
    "os.path.abspath('bear.txt')"
   ]
  },
  {
   "cell_type": "code",
   "execution_count": null,
   "metadata": {
    "collapsed": true
   },
   "outputs": [],
   "source": [
    "'''\n",
    "os.path provides other functions for working with filenames and paths. For example,\n",
    "os.path.exists checks whether a file or directory exists:"
   ]
  },
  {
   "cell_type": "code",
   "execution_count": 22,
   "metadata": {
    "collapsed": false
   },
   "outputs": [
    {
     "data": {
      "text/plain": [
       "True"
      ]
     },
     "execution_count": 22,
     "metadata": {},
     "output_type": "execute_result"
    }
   ],
   "source": [
    "os.path.exists('C:/Users/HP/Desktop/thinkpython2/output.txt')"
   ]
  },
  {
   "cell_type": "code",
   "execution_count": null,
   "metadata": {
    "collapsed": true
   },
   "outputs": [],
   "source": [
    "'''\n",
    "If it exists, os.path.isdir checks whether it’s a directory:"
   ]
  },
  {
   "cell_type": "code",
   "execution_count": 23,
   "metadata": {
    "collapsed": false
   },
   "outputs": [
    {
     "data": {
      "text/plain": [
       "False"
      ]
     },
     "execution_count": 23,
     "metadata": {},
     "output_type": "execute_result"
    }
   ],
   "source": [
    "os.path.isdir('memo.txt')"
   ]
  },
  {
   "cell_type": "code",
   "execution_count": 31,
   "metadata": {
    "collapsed": false
   },
   "outputs": [
    {
     "data": {
      "text/plain": [
       "True"
      ]
     },
     "execution_count": 31,
     "metadata": {},
     "output_type": "execute_result"
    }
   ],
   "source": [
    "os.path.isdir('C:')"
   ]
  },
  {
   "cell_type": "code",
   "execution_count": null,
   "metadata": {
    "collapsed": true
   },
   "outputs": [],
   "source": [
    "#Similarly, os.path.isfile checks whether it’s a file."
   ]
  },
  {
   "cell_type": "code",
   "execution_count": null,
   "metadata": {
    "collapsed": true
   },
   "outputs": [],
   "source": [
    "'''\n",
    "os.listdir returns a list of the files (and other directories) in the given directory:"
   ]
  },
  {
   "cell_type": "code",
   "execution_count": 33,
   "metadata": {
    "collapsed": false
   },
   "outputs": [
    {
     "data": {
      "text/plain": [
       "['Bin Tere.mp3',\n",
       " 'Bolo Na Tum Zaraa.mp3',\n",
       " 'Camera.lnk',\n",
       " 'cism',\n",
       " 'Dabi Dabi Kwahishien.mp3',\n",
       " 'desktop.ini',\n",
       " 'features.csv',\n",
       " 'Google Chrome.lnk',\n",
       " 'KMPlayer.lnk',\n",
       " 'machine learning',\n",
       " 'Microsoft Office Excel 2007.lnk',\n",
       " 'Microsoft Office PowerPoint 2007.lnk',\n",
       " 'Microsoft Office Word 2007.lnk',\n",
       " 'Narcos.S02E09.720p.WEBRiP.x265.ShAaNiG.mkv',\n",
       " 'Narcos.S02E10.720p.WEBRiP.x265.ShAaNiG.mkv',\n",
       " 'neural networks',\n",
       " 'presentation.pptx',\n",
       " 'PROJECT.docx',\n",
       " 'python pasting',\n",
       " 'reampling',\n",
       " 'REGRESSION',\n",
       " 'thinkpython2',\n",
       " 'time series assignment']"
      ]
     },
     "execution_count": 33,
     "metadata": {},
     "output_type": "execute_result"
    }
   ],
   "source": [
    "os.listdir('C:/Users/HP/desktop')"
   ]
  },
  {
   "cell_type": "code",
   "execution_count": null,
   "metadata": {
    "collapsed": true
   },
   "outputs": [],
   "source": [
    "#os.path.join takes a directory and a file name and joins them into a complete path."
   ]
  },
  {
   "cell_type": "code",
   "execution_count": null,
   "metadata": {
    "collapsed": true
   },
   "outputs": [],
   "source": [
    "'''\n",
    "To demonstrate these functions, the following example “walks” through a directory, prints\n",
    "the names of all the files, and calls itself recursively on all the directories."
   ]
  },
  {
   "cell_type": "code",
   "execution_count": 36,
   "metadata": {
    "collapsed": true
   },
   "outputs": [],
   "source": [
    "def walk(dirname):\n",
    "    for name in os.listdir(dirname):\n",
    "        path = os.path.join(dirname, name)\n",
    "        if os.path.isfile(path):\n",
    "            print(path)\n",
    "        else:\n",
    "            walk(path)"
   ]
  },
  {
   "cell_type": "code",
   "execution_count": 37,
   "metadata": {
    "collapsed": false
   },
   "outputs": [
    {
     "name": "stdout",
     "output_type": "stream",
     "text": [
      "C:/Users/HP/desktop\\Bin Tere.mp3\n",
      "C:/Users/HP/desktop\\Bolo Na Tum Zaraa.mp3\n",
      "C:/Users/HP/desktop\\Camera.lnk\n",
      "C:/Users/HP/desktop\\cism\\.Rhistory\n",
      "C:/Users/HP/desktop\\cism\\boot.txt\n",
      "C:/Users/HP/desktop\\cism\\bootstrap.R\n",
      "C:/Users/HP/desktop\\cism\\bootstrapstandarderrorbias.R\n",
      "C:/Users/HP/desktop\\cism\\gibbssampler.R\n",
      "C:/Users/HP/desktop\\cism\\histogram.R\n",
      "C:/Users/HP/desktop\\cism\\introduction to markov chains.pdf\n",
      "C:/Users/HP/desktop\\cism\\mhhasting.R\n",
      "C:/Users/HP/desktop\\cism\\mokell codes\\cism\\.Rhistory\n",
      "C:/Users/HP/desktop\\cism\\mokell codes\\cism\\feedmandiaconis.R\n",
      "C:/Users/HP/desktop\\cism\\mokell codes\\cism\\gibbssampler.R\n",
      "C:/Users/HP/desktop\\cism\\mokell codes\\cism\\kerneldensityestimate.R\n",
      "C:/Users/HP/desktop\\cism\\mokell codes\\cism\\sampling.R\n",
      "C:/Users/HP/desktop\\cism\\mokell codes\\cism\\scott.R\n",
      "C:/Users/HP/desktop\\cism\\mokell codes\\cism\\sturgesrule.R\n",
      "C:/Users/HP/desktop\\cism\\mokell codes\\cism.zip\n",
      "C:/Users/HP/desktop\\cism\\patch.csv\n",
      "C:/Users/HP/desktop\\cism\\scott.R\n",
      "C:/Users/HP/desktop\\cism\\sturgesrule.R\n",
      "C:/Users/HP/desktop\\cism\\[Maria_L._Rizzo]_Statistical_computing_with_R(BookZZ.org).pdf\n",
      "C:/Users/HP/desktop\\Dabi Dabi Kwahishien.mp3\n",
      "C:/Users/HP/desktop\\desktop.ini\n",
      "C:/Users/HP/desktop\\features.csv\n",
      "C:/Users/HP/desktop\\Google Chrome.lnk\n",
      "C:/Users/HP/desktop\\KMPlayer.lnk\n",
      "C:/Users/HP/desktop\\machine learning\\abhishek\\Adding borders to an image using python - Stack Overflow.pdf\n",
      "C:/Users/HP/desktop\\machine learning\\abhishek\\python - Add padding to images to get them into the same shape - Stack Overflow.pdf\n",
      "C:/Users/HP/desktop\\machine learning\\abhishek\\pythoncodesthinkpython2\\recursionfunction.ipynb.py\n",
      "C:/Users/HP/desktop\\machine learning\\abhishek\\pythoncodesthinkpython2\\returnfunction.py\n",
      "C:/Users/HP/desktop\\machine learning\\abhishek\\pythoncodesthinkpython2\\turtle.py\n",
      "C:/Users/HP/desktop\\machine learning\\abhishek\\thinkpython2.pdf\n",
      "C:/Users/HP/desktop\\machine learning\\LDA\\.Rhistory\n",
      "C:/Users/HP/desktop\\machine learning\\LDA\\aa.png\n",
      "C:/Users/HP/desktop\\machine learning\\LDA\\ad.txt\n",
      "C:/Users/HP/desktop\\machine learning\\LDA\\asdad.jpg\n",
      "C:/Users/HP/desktop\\machine learning\\LDA\\Assignment 2.docx\n",
      "C:/Users/HP/desktop\\machine learning\\LDA\\LDA.R\n",
      "C:/Users/HP/desktop\\machine learning\\LDA\\LDA2.R\n",
      "C:/Users/HP/desktop\\machine learning\\LDA\\plot1.jpg\n",
      "C:/Users/HP/desktop\\machine learning\\LDA\\projection_test.csv\n",
      "C:/Users/HP/desktop\\machine learning\\LDA\\projection_test1.csv\n",
      "C:/Users/HP/desktop\\machine learning\\LDA\\projection_training.csv\n",
      "C:/Users/HP/desktop\\machine learning\\LDA\\projection_training1.csv\n",
      "C:/Users/HP/desktop\\machine learning\\LDA\\szc.jpg\n",
      "C:/Users/HP/desktop\\machine learning\\LDA\\versicolor.csv\n",
      "C:/Users/HP/desktop\\machine learning\\LDA\\virginica.csv\n",
      "C:/Users/HP/desktop\\machine learning\\Machine Learning Slides\\Day 1.pdf\n",
      "C:/Users/HP/desktop\\machine learning\\Machine Learning Slides\\Day 10.pdf\n",
      "C:/Users/HP/desktop\\machine learning\\Machine Learning Slides\\Day 2.pdf\n",
      "C:/Users/HP/desktop\\machine learning\\Machine Learning Slides\\Day 3.pdf\n",
      "C:/Users/HP/desktop\\machine learning\\Machine Learning Slides\\Day 4.pdf\n",
      "C:/Users/HP/desktop\\machine learning\\Machine Learning Slides\\Day 5.pdf\n",
      "C:/Users/HP/desktop\\machine learning\\Machine Learning Slides\\Day 6.pdf\n",
      "C:/Users/HP/desktop\\machine learning\\Machine Learning Slides\\Day 7.pdf\n",
      "C:/Users/HP/desktop\\machine learning\\Machine Learning Slides\\Day 8.pdf\n",
      "C:/Users/HP/desktop\\machine learning\\Machine Learning Slides\\Day 9.pdf\n",
      "C:/Users/HP/desktop\\machine learning\\machinelearningvideos\\Cluster Analysis in Data Mining tutoreal 18 The K Medians and K Modes Clustering Methods.mp4\n",
      "C:/Users/HP/desktop\\machine learning\\machinelearningvideos\\Data Mining Lecture - - Finding frequent item sets - Apriori Algorithm - Solved Example (Eng-Hindi).mp4\n",
      "C:/Users/HP/desktop\\machine learning\\machinelearningvideos\\Lecture 1 - Machine Learning (Stanford).mp4\n",
      "C:/Users/HP/desktop\\machine learning\\machinelearningvideos\\Lecture 2 - Machine Learning (Stanford).mp4\n",
      "C:/Users/HP/desktop\\machine learning\\machinelearningvideos\\Machine learning - Decision trees.mp4\n",
      "C:/Users/HP/desktop\\machine learning\\machinelearningvideos\\Practical Machine Learning- 6.5 - B Hierarchical Clustering Example.mp4\n",
      "C:/Users/HP/desktop\\machine learning\\machinelearningvideos\\Visualizing a Decision Tree - Machine Learning Recipes #2.mp4\n",
      "C:/Users/HP/desktop\\machine learning\\supervised\\bayes\\.RData\n",
      "C:/Users/HP/desktop\\machine learning\\supervised\\bayes\\.Rhistory\n",
      "C:/Users/HP/desktop\\machine learning\\supervised\\bayes\\Assignment 3.docx\n",
      "C:/Users/HP/desktop\\machine learning\\supervised\\bayes\\bayes.jpeg\n",
      "C:/Users/HP/desktop\\machine learning\\supervised\\bayes\\bayes.R\n",
      "C:/Users/HP/desktop\\machine learning\\supervised\\bayes\\bayes.txt\n",
      "C:/Users/HP/desktop\\machine learning\\supervised\\bayes\\bayes2.jpg\n",
      "C:/Users/HP/desktop\\machine learning\\supervised\\bayes\\test.txt\n",
      "C:/Users/HP/desktop\\machine learning\\supervised\\bayes\\trainversi.txt\n",
      "C:/Users/HP/desktop\\machine learning\\supervised\\bayes\\trainvirg.txt\n",
      "C:/Users/HP/desktop\\machine learning\\supervised\\bayes\\versicolor.csv\n",
      "C:/Users/HP/desktop\\machine learning\\supervised\\bayes\\virginica.csv\n",
      "C:/Users/HP/desktop\\machine learning\\supervised\\decison tree\\bg.jpg\n",
      "C:/Users/HP/desktop\\machine learning\\supervised\\decison tree\\cancer stages.R\n",
      "C:/Users/HP/desktop\\machine learning\\supervised\\decison tree\\entropybased.jpg\n",
      "C:/Users/HP/desktop\\machine learning\\supervised\\LDA\\.Rhistory\n",
      "C:/Users/HP/desktop\\machine learning\\supervised\\LDA\\aa.png\n",
      "C:/Users/HP/desktop\\machine learning\\supervised\\LDA\\ad.txt\n",
      "C:/Users/HP/desktop\\machine learning\\supervised\\LDA\\asdad.jpg\n",
      "C:/Users/HP/desktop\\machine learning\\supervised\\LDA\\Assignment 2.docx\n",
      "C:/Users/HP/desktop\\machine learning\\supervised\\LDA\\LDA.R\n",
      "C:/Users/HP/desktop\\machine learning\\supervised\\LDA\\LDA2.R\n",
      "C:/Users/HP/desktop\\machine learning\\supervised\\LDA\\plot1.jpg\n",
      "C:/Users/HP/desktop\\machine learning\\supervised\\LDA\\projection_test.csv\n",
      "C:/Users/HP/desktop\\machine learning\\supervised\\LDA\\projection_test1.csv\n",
      "C:/Users/HP/desktop\\machine learning\\supervised\\LDA\\projection_training.csv\n",
      "C:/Users/HP/desktop\\machine learning\\supervised\\LDA\\projection_training1.csv\n",
      "C:/Users/HP/desktop\\machine learning\\supervised\\LDA\\szc.jpg\n",
      "C:/Users/HP/desktop\\machine learning\\supervised\\LDA\\versicolor.csv\n",
      "C:/Users/HP/desktop\\machine learning\\supervised\\LDA\\virginica.csv\n",
      "C:/Users/HP/desktop\\machine learning\\unsupervised\\kmeans\\.RData\n",
      "C:/Users/HP/desktop\\machine learning\\unsupervised\\kmeans\\.Rhistory\n",
      "C:/Users/HP/desktop\\machine learning\\unsupervised\\kmeans\\assgn.R\n",
      "C:/Users/HP/desktop\\machine learning\\unsupervised\\kmeans\\ASSIGNMENT NO1.docx\n",
      "C:/Users/HP/desktop\\machine learning\\unsupervised\\kmeans\\ASSIGNMENT NO1.pdf\n",
      "C:/Users/HP/desktop\\machine learning\\unsupervised\\kmeans\\kmeans.R\n",
      "C:/Users/HP/desktop\\machine learning\\unsupervised\\kmeans\\kmeansfunction.R\n",
      "C:/Users/HP/desktop\\machine learning\\unsupervised\\kmeans\\kmeansinbuilt.R\n",
      "C:/Users/HP/desktop\\machine learning\\unsupervised\\kmeans\\protein.csv\n",
      "C:/Users/HP/desktop\\Microsoft Office Excel 2007.lnk\n",
      "C:/Users/HP/desktop\\Microsoft Office PowerPoint 2007.lnk\n",
      "C:/Users/HP/desktop\\Microsoft Office Word 2007.lnk\n",
      "C:/Users/HP/desktop\\Narcos.S02E09.720p.WEBRiP.x265.ShAaNiG.mkv\n",
      "C:/Users/HP/desktop\\Narcos.S02E10.720p.WEBRiP.x265.ShAaNiG.mkv\n",
      "C:/Users/HP/desktop\\neural networks\\.RData\n",
      "C:/Users/HP/desktop\\neural networks\\.Rhistory\n",
      "C:/Users/HP/desktop\\neural networks\\mnist_test.csv\n",
      "C:/Users/HP/desktop\\neural networks\\mnist_test200.csv\n",
      "C:/Users/HP/desktop\\neural networks\\mnist_test_10.csv\n",
      "C:/Users/HP/desktop\\neural networks\\mnist_train.csv\n",
      "C:/Users/HP/desktop\\neural networks\\mnist_train1000.csv\n",
      "C:/Users/HP/desktop\\neural networks\\mnist_train_100.csv\n",
      "C:/Users/HP/desktop\\neural networks\\neuralnetworkfinal.R\n",
      "C:/Users/HP/desktop\\neural networks\\samarjeet\\.Rhistory\n",
      "C:/Users/HP/desktop\\neural networks\\samarjeet\\cleantransform.R\n",
      "C:/Users/HP/desktop\\neural networks\\samarjeet\\csv files\\0.csv\n",
      "C:/Users/HP/desktop\\neural networks\\samarjeet\\csv files\\10.csv\n",
      "C:/Users/HP/desktop\\neural networks\\samarjeet\\csv files\\2.csv\n",
      "C:/Users/HP/desktop\\neural networks\\samarjeet\\csv files\\4.csv\n",
      "C:/Users/HP/desktop\\neural networks\\samarjeet\\csv files\\6.csv\n",
      "C:/Users/HP/desktop\\neural networks\\samarjeet\\csv files\\8.csv\n",
      "C:/Users/HP/desktop\\neural networks\\samarjeet\\finaldata.csv\n",
      "C:/Users/HP/desktop\\neural networks\\samarjeet\\plots\\plot1.jpeg\n",
      "C:/Users/HP/desktop\\neural networks\\samarjeet\\plots\\plot2.jpeg\n",
      "C:/Users/HP/desktop\\neural networks\\samarjeet\\plots\\plot3.jpeg\n",
      "C:/Users/HP/desktop\\neural networks\\samarjeet\\plots\\plot4.jpeg\n",
      "C:/Users/HP/desktop\\neural networks\\samarjeet\\plots\\plot5.jpeg\n",
      "C:/Users/HP/desktop\\neural networks\\samarjeet\\plots\\plot6.jpeg\n",
      "C:/Users/HP/desktop\\neural networks\\samarjeet\\samarjeet\\.Rhistory\n",
      "C:/Users/HP/desktop\\neural networks\\samarjeet\\samarjeet\\data1.csv\n",
      "C:/Users/HP/desktop\\neural networks\\samarjeet\\samarjeet\\data2.csv\n",
      "C:/Users/HP/desktop\\neural networks\\samarjeet\\samarjeet\\data3.csv\n",
      "C:/Users/HP/desktop\\neural networks\\samarjeet\\samarjeet\\data4.csv\n",
      "C:/Users/HP/desktop\\neural networks\\samarjeet\\samarjeet\\neuralsamr.R\n",
      "C:/Users/HP/desktop\\neural networks\\samarjeet\\samarjeet.rar\n",
      "C:/Users/HP/desktop\\neural networks\\samarjeet\\samarnetwork.R\n",
      "C:/Users/HP/desktop\\neural networks\\samarjeet\\text files\\SS1_4.txt\n",
      "C:/Users/HP/desktop\\neural networks\\samarjeet\\text files\\SS2_4.txt\n",
      "C:/Users/HP/desktop\\neural networks\\samarjeet\\text files\\SS3_4.txt\n",
      "C:/Users/HP/desktop\\neural networks\\samarjeet\\text files\\SS4_4.txt\n",
      "C:/Users/HP/desktop\\neural networks\\samarjeet\\text files\\SS5_4.txt\n",
      "C:/Users/HP/desktop\\neural networks\\samarjeet\\text files\\SS6_4.txt\n",
      "C:/Users/HP/desktop\\neural networks\\training\\finalstage1\\1.csv\n",
      "C:/Users/HP/desktop\\neural networks\\training\\finalstage1\\10.csv\n",
      "C:/Users/HP/desktop\\neural networks\\training\\finalstage1\\11.csv\n",
      "C:/Users/HP/desktop\\neural networks\\training\\finalstage1\\12.csv\n",
      "C:/Users/HP/desktop\\neural networks\\training\\finalstage1\\13.csv\n",
      "C:/Users/HP/desktop\\neural networks\\training\\finalstage1\\14.csv\n",
      "C:/Users/HP/desktop\\neural networks\\training\\finalstage1\\15.csv\n",
      "C:/Users/HP/desktop\\neural networks\\training\\finalstage1\\16.csv\n",
      "C:/Users/HP/desktop\\neural networks\\training\\finalstage1\\17.csv\n",
      "C:/Users/HP/desktop\\neural networks\\training\\finalstage1\\18.csv\n",
      "C:/Users/HP/desktop\\neural networks\\training\\finalstage1\\19.csv\n",
      "C:/Users/HP/desktop\\neural networks\\training\\finalstage1\\2.csv\n",
      "C:/Users/HP/desktop\\neural networks\\training\\finalstage1\\20.csv\n",
      "C:/Users/HP/desktop\\neural networks\\training\\finalstage1\\21.csv\n",
      "C:/Users/HP/desktop\\neural networks\\training\\finalstage1\\22.csv\n",
      "C:/Users/HP/desktop\\neural networks\\training\\finalstage1\\23.csv\n",
      "C:/Users/HP/desktop\\neural networks\\training\\finalstage1\\24.csv\n",
      "C:/Users/HP/desktop\\neural networks\\training\\finalstage1\\25.csv\n",
      "C:/Users/HP/desktop\\neural networks\\training\\finalstage1\\26.csv\n",
      "C:/Users/HP/desktop\\neural networks\\training\\finalstage1\\27.csv\n",
      "C:/Users/HP/desktop\\neural networks\\training\\finalstage1\\28.csv\n",
      "C:/Users/HP/desktop\\neural networks\\training\\finalstage1\\29.csv\n",
      "C:/Users/HP/desktop\\neural networks\\training\\finalstage1\\3.csv\n",
      "C:/Users/HP/desktop\\neural networks\\training\\finalstage1\\30.csv\n",
      "C:/Users/HP/desktop\\neural networks\\training\\finalstage1\\31.csv\n",
      "C:/Users/HP/desktop\\neural networks\\training\\finalstage1\\32.csv\n",
      "C:/Users/HP/desktop\\neural networks\\training\\finalstage1\\4.csv\n",
      "C:/Users/HP/desktop\\neural networks\\training\\finalstage1\\5.csv\n",
      "C:/Users/HP/desktop\\neural networks\\training\\finalstage1\\6.csv\n",
      "C:/Users/HP/desktop\\neural networks\\training\\finalstage1\\7.csv\n",
      "C:/Users/HP/desktop\\neural networks\\training\\finalstage1\\8.csv\n",
      "C:/Users/HP/desktop\\neural networks\\training\\finalstage1\\9.csv\n",
      "C:/Users/HP/desktop\\neural networks\\training\\finalstage2\\1.csv\n",
      "C:/Users/HP/desktop\\neural networks\\training\\finalstage2\\10.csv\n",
      "C:/Users/HP/desktop\\neural networks\\training\\finalstage2\\11.csv\n",
      "C:/Users/HP/desktop\\neural networks\\training\\finalstage2\\12.csv\n",
      "C:/Users/HP/desktop\\neural networks\\training\\finalstage2\\13.csv\n",
      "C:/Users/HP/desktop\\neural networks\\training\\finalstage2\\14.csv\n",
      "C:/Users/HP/desktop\\neural networks\\training\\finalstage2\\15.csv\n",
      "C:/Users/HP/desktop\\neural networks\\training\\finalstage2\\16.csv\n",
      "C:/Users/HP/desktop\\neural networks\\training\\finalstage2\\17.csv\n",
      "C:/Users/HP/desktop\\neural networks\\training\\finalstage2\\18.csv\n",
      "C:/Users/HP/desktop\\neural networks\\training\\finalstage2\\19.csv\n",
      "C:/Users/HP/desktop\\neural networks\\training\\finalstage2\\2.csv\n",
      "C:/Users/HP/desktop\\neural networks\\training\\finalstage2\\20.csv\n",
      "C:/Users/HP/desktop\\neural networks\\training\\finalstage2\\21.csv\n",
      "C:/Users/HP/desktop\\neural networks\\training\\finalstage2\\3.csv\n",
      "C:/Users/HP/desktop\\neural networks\\training\\finalstage2\\4.csv\n",
      "C:/Users/HP/desktop\\neural networks\\training\\finalstage2\\5.csv\n",
      "C:/Users/HP/desktop\\neural networks\\training\\finalstage2\\6.csv\n",
      "C:/Users/HP/desktop\\neural networks\\training\\finalstage2\\7.csv\n",
      "C:/Users/HP/desktop\\neural networks\\training\\finalstage2\\8.csv\n",
      "C:/Users/HP/desktop\\neural networks\\training\\finalstage2\\9.csv\n",
      "C:/Users/HP/desktop\\neural networks\\training\\finalstage3\\1.csv\n",
      "C:/Users/HP/desktop\\neural networks\\training\\finalstage3\\10.csv\n",
      "C:/Users/HP/desktop\\neural networks\\training\\finalstage3\\11.csv\n",
      "C:/Users/HP/desktop\\neural networks\\training\\finalstage3\\12.csv\n",
      "C:/Users/HP/desktop\\neural networks\\training\\finalstage3\\13.csv\n",
      "C:/Users/HP/desktop\\neural networks\\training\\finalstage3\\14.csv\n",
      "C:/Users/HP/desktop\\neural networks\\training\\finalstage3\\15.csv\n",
      "C:/Users/HP/desktop\\neural networks\\training\\finalstage3\\16.csv\n",
      "C:/Users/HP/desktop\\neural networks\\training\\finalstage3\\17.csv\n",
      "C:/Users/HP/desktop\\neural networks\\training\\finalstage3\\18.csv\n",
      "C:/Users/HP/desktop\\neural networks\\training\\finalstage3\\19.csv\n",
      "C:/Users/HP/desktop\\neural networks\\training\\finalstage3\\2.csv\n",
      "C:/Users/HP/desktop\\neural networks\\training\\finalstage3\\20.csv\n",
      "C:/Users/HP/desktop\\neural networks\\training\\finalstage3\\21.csv\n",
      "C:/Users/HP/desktop\\neural networks\\training\\finalstage3\\22.csv\n",
      "C:/Users/HP/desktop\\neural networks\\training\\finalstage3\\23.csv\n",
      "C:/Users/HP/desktop\\neural networks\\training\\finalstage3\\24.csv\n",
      "C:/Users/HP/desktop\\neural networks\\training\\finalstage3\\3.csv\n",
      "C:/Users/HP/desktop\\neural networks\\training\\finalstage3\\4.csv\n",
      "C:/Users/HP/desktop\\neural networks\\training\\finalstage3\\5.csv\n",
      "C:/Users/HP/desktop\\neural networks\\training\\finalstage3\\6.csv\n",
      "C:/Users/HP/desktop\\neural networks\\training\\finalstage3\\7.csv\n",
      "C:/Users/HP/desktop\\neural networks\\training\\finalstage3\\8.csv\n",
      "C:/Users/HP/desktop\\neural networks\\training\\finalstage3\\9.csv\n",
      "C:/Users/HP/desktop\\neural networks\\training\\finalstage4\\1.csv\n",
      "C:/Users/HP/desktop\\neural networks\\training\\finalstage4\\10.csv\n",
      "C:/Users/HP/desktop\\neural networks\\training\\finalstage4\\11.csv\n",
      "C:/Users/HP/desktop\\neural networks\\training\\finalstage4\\12.csv\n",
      "C:/Users/HP/desktop\\neural networks\\training\\finalstage4\\13.csv\n",
      "C:/Users/HP/desktop\\neural networks\\training\\finalstage4\\14.csv\n",
      "C:/Users/HP/desktop\\neural networks\\training\\finalstage4\\15.csv\n",
      "C:/Users/HP/desktop\\neural networks\\training\\finalstage4\\16.csv\n",
      "C:/Users/HP/desktop\\neural networks\\training\\finalstage4\\17.csv\n",
      "C:/Users/HP/desktop\\neural networks\\training\\finalstage4\\18.csv\n",
      "C:/Users/HP/desktop\\neural networks\\training\\finalstage4\\19.csv\n",
      "C:/Users/HP/desktop\\neural networks\\training\\finalstage4\\2.csv\n",
      "C:/Users/HP/desktop\\neural networks\\training\\finalstage4\\20.csv\n",
      "C:/Users/HP/desktop\\neural networks\\training\\finalstage4\\21.csv\n",
      "C:/Users/HP/desktop\\neural networks\\training\\finalstage4\\22.csv\n",
      "C:/Users/HP/desktop\\neural networks\\training\\finalstage4\\23.csv\n",
      "C:/Users/HP/desktop\\neural networks\\training\\finalstage4\\3.csv\n",
      "C:/Users/HP/desktop\\neural networks\\training\\finalstage4\\4.csv\n",
      "C:/Users/HP/desktop\\neural networks\\training\\finalstage4\\5.csv\n",
      "C:/Users/HP/desktop\\neural networks\\training\\finalstage4\\6.csv\n",
      "C:/Users/HP/desktop\\neural networks\\training\\finalstage4\\7.csv\n",
      "C:/Users/HP/desktop\\neural networks\\training\\finalstage4\\8.csv\n",
      "C:/Users/HP/desktop\\neural networks\\training\\finalstage4\\9.csv\n",
      "C:/Users/HP/desktop\\neural networks\\training\\pca.R\n",
      "C:/Users/HP/desktop\\neural networks\\training\\testing.csv\n",
      "C:/Users/HP/desktop\\neural networks\\training\\training.csv\n",
      "C:/Users/HP/desktop\\presentation.pptx\n",
      "C:/Users/HP/desktop\\PROJECT.docx\n",
      "C:/Users/HP/desktop\\python pasting\\csvstage1\\1.csv\n",
      "C:/Users/HP/desktop\\python pasting\\csvstage1\\10.csv\n",
      "C:/Users/HP/desktop\\python pasting\\csvstage1\\11.csv\n",
      "C:/Users/HP/desktop\\python pasting\\csvstage1\\12.csv\n",
      "C:/Users/HP/desktop\\python pasting\\csvstage1\\13.csv\n",
      "C:/Users/HP/desktop\\python pasting\\csvstage1\\14.csv\n",
      "C:/Users/HP/desktop\\python pasting\\csvstage1\\15.csv\n",
      "C:/Users/HP/desktop\\python pasting\\csvstage1\\16.csv\n",
      "C:/Users/HP/desktop\\python pasting\\csvstage1\\17.csv\n",
      "C:/Users/HP/desktop\\python pasting\\csvstage1\\18.csv\n",
      "C:/Users/HP/desktop\\python pasting\\csvstage1\\19.csv\n",
      "C:/Users/HP/desktop\\python pasting\\csvstage1\\2.csv\n",
      "C:/Users/HP/desktop\\python pasting\\csvstage1\\20.csv\n",
      "C:/Users/HP/desktop\\python pasting\\csvstage1\\21.csv\n",
      "C:/Users/HP/desktop\\python pasting\\csvstage1\\22.csv\n",
      "C:/Users/HP/desktop\\python pasting\\csvstage1\\23.csv\n",
      "C:/Users/HP/desktop\\python pasting\\csvstage1\\24.csv\n",
      "C:/Users/HP/desktop\\python pasting\\csvstage1\\25.csv\n",
      "C:/Users/HP/desktop\\python pasting\\csvstage1\\26.csv\n",
      "C:/Users/HP/desktop\\python pasting\\csvstage1\\27.csv\n",
      "C:/Users/HP/desktop\\python pasting\\csvstage1\\28.csv\n",
      "C:/Users/HP/desktop\\python pasting\\csvstage1\\29.csv\n",
      "C:/Users/HP/desktop\\python pasting\\csvstage1\\3.csv\n",
      "C:/Users/HP/desktop\\python pasting\\csvstage1\\30.csv\n",
      "C:/Users/HP/desktop\\python pasting\\csvstage1\\31.csv\n",
      "C:/Users/HP/desktop\\python pasting\\csvstage1\\32.csv\n",
      "C:/Users/HP/desktop\\python pasting\\csvstage1\\4.csv\n",
      "C:/Users/HP/desktop\\python pasting\\csvstage1\\5.csv\n",
      "C:/Users/HP/desktop\\python pasting\\csvstage1\\6.csv\n",
      "C:/Users/HP/desktop\\python pasting\\csvstage1\\7.csv\n",
      "C:/Users/HP/desktop\\python pasting\\csvstage1\\8.csv\n",
      "C:/Users/HP/desktop\\python pasting\\csvstage1\\9.csv\n",
      "C:/Users/HP/desktop\\python pasting\\csvstage2\\1.csv\n",
      "C:/Users/HP/desktop\\python pasting\\csvstage2\\10.csv\n",
      "C:/Users/HP/desktop\\python pasting\\csvstage2\\11.csv\n",
      "C:/Users/HP/desktop\\python pasting\\csvstage2\\12.csv\n",
      "C:/Users/HP/desktop\\python pasting\\csvstage2\\13.csv\n",
      "C:/Users/HP/desktop\\python pasting\\csvstage2\\14.csv\n",
      "C:/Users/HP/desktop\\python pasting\\csvstage2\\15.csv\n",
      "C:/Users/HP/desktop\\python pasting\\csvstage2\\16.csv\n",
      "C:/Users/HP/desktop\\python pasting\\csvstage2\\17.csv\n",
      "C:/Users/HP/desktop\\python pasting\\csvstage2\\18.csv\n",
      "C:/Users/HP/desktop\\python pasting\\csvstage2\\19.csv\n",
      "C:/Users/HP/desktop\\python pasting\\csvstage2\\2.csv\n",
      "C:/Users/HP/desktop\\python pasting\\csvstage2\\20.csv\n",
      "C:/Users/HP/desktop\\python pasting\\csvstage2\\21.csv\n",
      "C:/Users/HP/desktop\\python pasting\\csvstage2\\3.csv\n",
      "C:/Users/HP/desktop\\python pasting\\csvstage2\\4.csv\n",
      "C:/Users/HP/desktop\\python pasting\\csvstage2\\5.csv\n",
      "C:/Users/HP/desktop\\python pasting\\csvstage2\\6.csv\n",
      "C:/Users/HP/desktop\\python pasting\\csvstage2\\7.csv\n",
      "C:/Users/HP/desktop\\python pasting\\csvstage2\\8.csv\n",
      "C:/Users/HP/desktop\\python pasting\\csvstage2\\9.csv\n",
      "C:/Users/HP/desktop\\python pasting\\csvstage3\\1.csv\n",
      "C:/Users/HP/desktop\\python pasting\\csvstage3\\10.csv\n",
      "C:/Users/HP/desktop\\python pasting\\csvstage3\\11.csv\n",
      "C:/Users/HP/desktop\\python pasting\\csvstage3\\12.csv\n",
      "C:/Users/HP/desktop\\python pasting\\csvstage3\\13.csv\n",
      "C:/Users/HP/desktop\\python pasting\\csvstage3\\14.csv\n",
      "C:/Users/HP/desktop\\python pasting\\csvstage3\\15.csv\n",
      "C:/Users/HP/desktop\\python pasting\\csvstage3\\16.csv\n",
      "C:/Users/HP/desktop\\python pasting\\csvstage3\\17.csv\n",
      "C:/Users/HP/desktop\\python pasting\\csvstage3\\18.csv\n",
      "C:/Users/HP/desktop\\python pasting\\csvstage3\\19.csv\n",
      "C:/Users/HP/desktop\\python pasting\\csvstage3\\2.csv\n",
      "C:/Users/HP/desktop\\python pasting\\csvstage3\\20.csv\n",
      "C:/Users/HP/desktop\\python pasting\\csvstage3\\21.csv\n",
      "C:/Users/HP/desktop\\python pasting\\csvstage3\\22.csv\n",
      "C:/Users/HP/desktop\\python pasting\\csvstage3\\23.csv\n",
      "C:/Users/HP/desktop\\python pasting\\csvstage3\\24.csv\n",
      "C:/Users/HP/desktop\\python pasting\\csvstage3\\3.csv\n",
      "C:/Users/HP/desktop\\python pasting\\csvstage3\\4.csv\n",
      "C:/Users/HP/desktop\\python pasting\\csvstage3\\5.csv\n",
      "C:/Users/HP/desktop\\python pasting\\csvstage3\\6.csv\n",
      "C:/Users/HP/desktop\\python pasting\\csvstage3\\7.csv\n",
      "C:/Users/HP/desktop\\python pasting\\csvstage3\\8.csv\n",
      "C:/Users/HP/desktop\\python pasting\\csvstage3\\9.csv\n",
      "C:/Users/HP/desktop\\python pasting\\csvstage4\\1.csv\n",
      "C:/Users/HP/desktop\\python pasting\\csvstage4\\10.csv\n",
      "C:/Users/HP/desktop\\python pasting\\csvstage4\\11.csv\n",
      "C:/Users/HP/desktop\\python pasting\\csvstage4\\12.csv\n",
      "C:/Users/HP/desktop\\python pasting\\csvstage4\\13.csv\n",
      "C:/Users/HP/desktop\\python pasting\\csvstage4\\14.csv\n",
      "C:/Users/HP/desktop\\python pasting\\csvstage4\\15.csv\n",
      "C:/Users/HP/desktop\\python pasting\\csvstage4\\16.csv\n",
      "C:/Users/HP/desktop\\python pasting\\csvstage4\\17.csv\n",
      "C:/Users/HP/desktop\\python pasting\\csvstage4\\18.csv\n",
      "C:/Users/HP/desktop\\python pasting\\csvstage4\\19.csv\n",
      "C:/Users/HP/desktop\\python pasting\\csvstage4\\2.csv\n",
      "C:/Users/HP/desktop\\python pasting\\csvstage4\\20.csv\n",
      "C:/Users/HP/desktop\\python pasting\\csvstage4\\21.csv\n",
      "C:/Users/HP/desktop\\python pasting\\csvstage4\\22.csv\n",
      "C:/Users/HP/desktop\\python pasting\\csvstage4\\23.csv\n",
      "C:/Users/HP/desktop\\python pasting\\csvstage4\\3.csv\n",
      "C:/Users/HP/desktop\\python pasting\\csvstage4\\4.csv\n",
      "C:/Users/HP/desktop\\python pasting\\csvstage4\\5.csv\n",
      "C:/Users/HP/desktop\\python pasting\\csvstage4\\6.csv\n",
      "C:/Users/HP/desktop\\python pasting\\csvstage4\\7.csv\n",
      "C:/Users/HP/desktop\\python pasting\\csvstage4\\8.csv\n",
      "C:/Users/HP/desktop\\python pasting\\csvstage4\\9.csv\n",
      "C:/Users/HP/desktop\\python pasting\\finalstage1\\1.csv\n",
      "C:/Users/HP/desktop\\python pasting\\finalstage1\\10.csv\n",
      "C:/Users/HP/desktop\\python pasting\\finalstage1\\11.csv\n",
      "C:/Users/HP/desktop\\python pasting\\finalstage1\\12.csv\n",
      "C:/Users/HP/desktop\\python pasting\\finalstage1\\13.csv\n",
      "C:/Users/HP/desktop\\python pasting\\finalstage1\\14.csv\n",
      "C:/Users/HP/desktop\\python pasting\\finalstage1\\15.csv\n",
      "C:/Users/HP/desktop\\python pasting\\finalstage1\\16.csv\n",
      "C:/Users/HP/desktop\\python pasting\\finalstage1\\17.csv\n",
      "C:/Users/HP/desktop\\python pasting\\finalstage1\\18.csv\n",
      "C:/Users/HP/desktop\\python pasting\\finalstage1\\19.csv\n",
      "C:/Users/HP/desktop\\python pasting\\finalstage1\\2.csv\n",
      "C:/Users/HP/desktop\\python pasting\\finalstage1\\20.csv\n",
      "C:/Users/HP/desktop\\python pasting\\finalstage1\\21.csv\n",
      "C:/Users/HP/desktop\\python pasting\\finalstage1\\22.csv\n",
      "C:/Users/HP/desktop\\python pasting\\finalstage1\\23.csv\n",
      "C:/Users/HP/desktop\\python pasting\\finalstage1\\24.csv\n",
      "C:/Users/HP/desktop\\python pasting\\finalstage1\\25.csv\n",
      "C:/Users/HP/desktop\\python pasting\\finalstage1\\26.csv\n",
      "C:/Users/HP/desktop\\python pasting\\finalstage1\\27.csv\n",
      "C:/Users/HP/desktop\\python pasting\\finalstage1\\28.csv\n",
      "C:/Users/HP/desktop\\python pasting\\finalstage1\\29.csv\n",
      "C:/Users/HP/desktop\\python pasting\\finalstage1\\3.csv\n",
      "C:/Users/HP/desktop\\python pasting\\finalstage1\\30.csv\n",
      "C:/Users/HP/desktop\\python pasting\\finalstage1\\31.csv\n",
      "C:/Users/HP/desktop\\python pasting\\finalstage1\\32.csv\n",
      "C:/Users/HP/desktop\\python pasting\\finalstage1\\4.csv\n",
      "C:/Users/HP/desktop\\python pasting\\finalstage1\\5.csv\n",
      "C:/Users/HP/desktop\\python pasting\\finalstage1\\6.csv\n",
      "C:/Users/HP/desktop\\python pasting\\finalstage1\\7.csv\n",
      "C:/Users/HP/desktop\\python pasting\\finalstage1\\8.csv\n",
      "C:/Users/HP/desktop\\python pasting\\finalstage1\\9.csv\n",
      "C:/Users/HP/desktop\\python pasting\\finalstage2\\1.csv\n",
      "C:/Users/HP/desktop\\python pasting\\finalstage2\\10.csv\n",
      "C:/Users/HP/desktop\\python pasting\\finalstage2\\11.csv\n",
      "C:/Users/HP/desktop\\python pasting\\finalstage2\\12.csv\n",
      "C:/Users/HP/desktop\\python pasting\\finalstage2\\13.csv\n",
      "C:/Users/HP/desktop\\python pasting\\finalstage2\\14.csv\n",
      "C:/Users/HP/desktop\\python pasting\\finalstage2\\15.csv\n",
      "C:/Users/HP/desktop\\python pasting\\finalstage2\\16.csv\n",
      "C:/Users/HP/desktop\\python pasting\\finalstage2\\17.csv\n",
      "C:/Users/HP/desktop\\python pasting\\finalstage2\\18.csv\n",
      "C:/Users/HP/desktop\\python pasting\\finalstage2\\19.csv\n",
      "C:/Users/HP/desktop\\python pasting\\finalstage2\\2.csv\n",
      "C:/Users/HP/desktop\\python pasting\\finalstage2\\20.csv\n",
      "C:/Users/HP/desktop\\python pasting\\finalstage2\\21.csv\n",
      "C:/Users/HP/desktop\\python pasting\\finalstage2\\3.csv\n",
      "C:/Users/HP/desktop\\python pasting\\finalstage2\\4.csv\n",
      "C:/Users/HP/desktop\\python pasting\\finalstage2\\5.csv\n",
      "C:/Users/HP/desktop\\python pasting\\finalstage2\\6.csv\n",
      "C:/Users/HP/desktop\\python pasting\\finalstage2\\7.csv\n",
      "C:/Users/HP/desktop\\python pasting\\finalstage2\\8.csv\n",
      "C:/Users/HP/desktop\\python pasting\\finalstage2\\9.csv\n",
      "C:/Users/HP/desktop\\python pasting\\finalstage3\\1.csv\n",
      "C:/Users/HP/desktop\\python pasting\\finalstage3\\10.csv\n",
      "C:/Users/HP/desktop\\python pasting\\finalstage3\\11.csv\n",
      "C:/Users/HP/desktop\\python pasting\\finalstage3\\12.csv\n",
      "C:/Users/HP/desktop\\python pasting\\finalstage3\\13.csv\n",
      "C:/Users/HP/desktop\\python pasting\\finalstage3\\14.csv\n",
      "C:/Users/HP/desktop\\python pasting\\finalstage3\\15.csv\n",
      "C:/Users/HP/desktop\\python pasting\\finalstage3\\16.csv\n",
      "C:/Users/HP/desktop\\python pasting\\finalstage3\\17.csv\n",
      "C:/Users/HP/desktop\\python pasting\\finalstage3\\18.csv\n",
      "C:/Users/HP/desktop\\python pasting\\finalstage3\\19.csv\n",
      "C:/Users/HP/desktop\\python pasting\\finalstage3\\2.csv\n",
      "C:/Users/HP/desktop\\python pasting\\finalstage3\\20.csv\n",
      "C:/Users/HP/desktop\\python pasting\\finalstage3\\21.csv\n",
      "C:/Users/HP/desktop\\python pasting\\finalstage3\\22.csv\n",
      "C:/Users/HP/desktop\\python pasting\\finalstage3\\23.csv\n",
      "C:/Users/HP/desktop\\python pasting\\finalstage3\\24.csv\n",
      "C:/Users/HP/desktop\\python pasting\\finalstage3\\3.csv\n",
      "C:/Users/HP/desktop\\python pasting\\finalstage3\\4.csv\n",
      "C:/Users/HP/desktop\\python pasting\\finalstage3\\5.csv\n",
      "C:/Users/HP/desktop\\python pasting\\finalstage3\\6.csv\n",
      "C:/Users/HP/desktop\\python pasting\\finalstage3\\7.csv\n",
      "C:/Users/HP/desktop\\python pasting\\finalstage3\\8.csv\n",
      "C:/Users/HP/desktop\\python pasting\\finalstage3\\9.csv\n",
      "C:/Users/HP/desktop\\python pasting\\finalstage4\\1.csv\n",
      "C:/Users/HP/desktop\\python pasting\\finalstage4\\10.csv\n",
      "C:/Users/HP/desktop\\python pasting\\finalstage4\\11.csv\n",
      "C:/Users/HP/desktop\\python pasting\\finalstage4\\12.csv\n",
      "C:/Users/HP/desktop\\python pasting\\finalstage4\\13.csv\n",
      "C:/Users/HP/desktop\\python pasting\\finalstage4\\14.csv\n",
      "C:/Users/HP/desktop\\python pasting\\finalstage4\\15.csv\n",
      "C:/Users/HP/desktop\\python pasting\\finalstage4\\16.csv\n",
      "C:/Users/HP/desktop\\python pasting\\finalstage4\\17.csv\n",
      "C:/Users/HP/desktop\\python pasting\\finalstage4\\18.csv\n",
      "C:/Users/HP/desktop\\python pasting\\finalstage4\\19.csv\n",
      "C:/Users/HP/desktop\\python pasting\\finalstage4\\2.csv\n",
      "C:/Users/HP/desktop\\python pasting\\finalstage4\\20.csv\n",
      "C:/Users/HP/desktop\\python pasting\\finalstage4\\21.csv\n",
      "C:/Users/HP/desktop\\python pasting\\finalstage4\\22.csv\n",
      "C:/Users/HP/desktop\\python pasting\\finalstage4\\23.csv\n",
      "C:/Users/HP/desktop\\python pasting\\finalstage4\\3.csv\n",
      "C:/Users/HP/desktop\\python pasting\\finalstage4\\4.csv\n",
      "C:/Users/HP/desktop\\python pasting\\finalstage4\\5.csv\n",
      "C:/Users/HP/desktop\\python pasting\\finalstage4\\6.csv\n",
      "C:/Users/HP/desktop\\python pasting\\finalstage4\\7.csv\n",
      "C:/Users/HP/desktop\\python pasting\\finalstage4\\8.csv\n",
      "C:/Users/HP/desktop\\python pasting\\finalstage4\\9.csv\n",
      "C:/Users/HP/desktop\\python pasting\\stage1\\1.jpg\n",
      "C:/Users/HP/desktop\\python pasting\\stage1\\10.jpg\n",
      "C:/Users/HP/desktop\\python pasting\\stage1\\11.jpg\n",
      "C:/Users/HP/desktop\\python pasting\\stage1\\12.jpg\n",
      "C:/Users/HP/desktop\\python pasting\\stage1\\13.jpg\n",
      "C:/Users/HP/desktop\\python pasting\\stage1\\14.jpg\n",
      "C:/Users/HP/desktop\\python pasting\\stage1\\15.jpg\n",
      "C:/Users/HP/desktop\\python pasting\\stage1\\16.jpg\n",
      "C:/Users/HP/desktop\\python pasting\\stage1\\17.jpg\n",
      "C:/Users/HP/desktop\\python pasting\\stage1\\18.jpg\n",
      "C:/Users/HP/desktop\\python pasting\\stage1\\19.jpg\n",
      "C:/Users/HP/desktop\\python pasting\\stage1\\2.jpg\n",
      "C:/Users/HP/desktop\\python pasting\\stage1\\20.jpg\n",
      "C:/Users/HP/desktop\\python pasting\\stage1\\21.jpg\n",
      "C:/Users/HP/desktop\\python pasting\\stage1\\22.jpg\n",
      "C:/Users/HP/desktop\\python pasting\\stage1\\23.jpg\n",
      "C:/Users/HP/desktop\\python pasting\\stage1\\24.jpg\n",
      "C:/Users/HP/desktop\\python pasting\\stage1\\25.jpg\n",
      "C:/Users/HP/desktop\\python pasting\\stage1\\26.jpg\n",
      "C:/Users/HP/desktop\\python pasting\\stage1\\27.jpg\n",
      "C:/Users/HP/desktop\\python pasting\\stage1\\28.jpg\n",
      "C:/Users/HP/desktop\\python pasting\\stage1\\29.jpg\n",
      "C:/Users/HP/desktop\\python pasting\\stage1\\3.jpg\n",
      "C:/Users/HP/desktop\\python pasting\\stage1\\30.jpg\n",
      "C:/Users/HP/desktop\\python pasting\\stage1\\31.jpg\n",
      "C:/Users/HP/desktop\\python pasting\\stage1\\32.jpg\n",
      "C:/Users/HP/desktop\\python pasting\\stage1\\4.jpg\n",
      "C:/Users/HP/desktop\\python pasting\\stage1\\5.jpg\n",
      "C:/Users/HP/desktop\\python pasting\\stage1\\6.jpg\n",
      "C:/Users/HP/desktop\\python pasting\\stage1\\7.jpg\n",
      "C:/Users/HP/desktop\\python pasting\\stage1\\8.jpg\n",
      "C:/Users/HP/desktop\\python pasting\\stage1\\9.jpg\n",
      "C:/Users/HP/desktop\\python pasting\\stage2\\1.jpg\n",
      "C:/Users/HP/desktop\\python pasting\\stage2\\10.jpg\n",
      "C:/Users/HP/desktop\\python pasting\\stage2\\11.jpg\n",
      "C:/Users/HP/desktop\\python pasting\\stage2\\12.jpg\n",
      "C:/Users/HP/desktop\\python pasting\\stage2\\13.jpg\n",
      "C:/Users/HP/desktop\\python pasting\\stage2\\14.jpg\n",
      "C:/Users/HP/desktop\\python pasting\\stage2\\15.jpg\n",
      "C:/Users/HP/desktop\\python pasting\\stage2\\16.jpg\n",
      "C:/Users/HP/desktop\\python pasting\\stage2\\17.jpg\n",
      "C:/Users/HP/desktop\\python pasting\\stage2\\18.jpg\n",
      "C:/Users/HP/desktop\\python pasting\\stage2\\19.jpg\n",
      "C:/Users/HP/desktop\\python pasting\\stage2\\2.jpg\n",
      "C:/Users/HP/desktop\\python pasting\\stage2\\20.jpg\n",
      "C:/Users/HP/desktop\\python pasting\\stage2\\21.jpg\n",
      "C:/Users/HP/desktop\\python pasting\\stage2\\3.jpg\n",
      "C:/Users/HP/desktop\\python pasting\\stage2\\4.jpg\n",
      "C:/Users/HP/desktop\\python pasting\\stage2\\5.jpg\n",
      "C:/Users/HP/desktop\\python pasting\\stage2\\6.jpg\n",
      "C:/Users/HP/desktop\\python pasting\\stage2\\7.jpg\n",
      "C:/Users/HP/desktop\\python pasting\\stage2\\8.jpg\n",
      "C:/Users/HP/desktop\\python pasting\\stage2\\9.jpg\n",
      "C:/Users/HP/desktop\\python pasting\\stage3\\1.jpg\n",
      "C:/Users/HP/desktop\\python pasting\\stage3\\10.jpg\n",
      "C:/Users/HP/desktop\\python pasting\\stage3\\11.jpg\n",
      "C:/Users/HP/desktop\\python pasting\\stage3\\12.jpg\n",
      "C:/Users/HP/desktop\\python pasting\\stage3\\13.jpg\n",
      "C:/Users/HP/desktop\\python pasting\\stage3\\14.jpg\n",
      "C:/Users/HP/desktop\\python pasting\\stage3\\15.jpg\n",
      "C:/Users/HP/desktop\\python pasting\\stage3\\16.jpg\n",
      "C:/Users/HP/desktop\\python pasting\\stage3\\17.jpg\n",
      "C:/Users/HP/desktop\\python pasting\\stage3\\18.jpg\n",
      "C:/Users/HP/desktop\\python pasting\\stage3\\19.jpg\n",
      "C:/Users/HP/desktop\\python pasting\\stage3\\2.jpg\n",
      "C:/Users/HP/desktop\\python pasting\\stage3\\20.jpg\n",
      "C:/Users/HP/desktop\\python pasting\\stage3\\21.jpg\n",
      "C:/Users/HP/desktop\\python pasting\\stage3\\22.jpg\n",
      "C:/Users/HP/desktop\\python pasting\\stage3\\23.jpg\n",
      "C:/Users/HP/desktop\\python pasting\\stage3\\24.jpg\n",
      "C:/Users/HP/desktop\\python pasting\\stage3\\3.jpg\n",
      "C:/Users/HP/desktop\\python pasting\\stage3\\4.jpg\n",
      "C:/Users/HP/desktop\\python pasting\\stage3\\5.jpg\n",
      "C:/Users/HP/desktop\\python pasting\\stage3\\6.jpg\n",
      "C:/Users/HP/desktop\\python pasting\\stage3\\7.jpg\n",
      "C:/Users/HP/desktop\\python pasting\\stage3\\8.jpg\n",
      "C:/Users/HP/desktop\\python pasting\\stage3\\9.jpg\n",
      "C:/Users/HP/desktop\\python pasting\\stage4\\1.jpg\n",
      "C:/Users/HP/desktop\\python pasting\\stage4\\10.jpg\n",
      "C:/Users/HP/desktop\\python pasting\\stage4\\11.jpg\n",
      "C:/Users/HP/desktop\\python pasting\\stage4\\12.jpg\n",
      "C:/Users/HP/desktop\\python pasting\\stage4\\13.jpg\n",
      "C:/Users/HP/desktop\\python pasting\\stage4\\14.jpg\n",
      "C:/Users/HP/desktop\\python pasting\\stage4\\15.jpg\n",
      "C:/Users/HP/desktop\\python pasting\\stage4\\16.jpg\n",
      "C:/Users/HP/desktop\\python pasting\\stage4\\17.jpg\n",
      "C:/Users/HP/desktop\\python pasting\\stage4\\18.jpg\n",
      "C:/Users/HP/desktop\\python pasting\\stage4\\19.jpg\n",
      "C:/Users/HP/desktop\\python pasting\\stage4\\2.jpg\n",
      "C:/Users/HP/desktop\\python pasting\\stage4\\20.jpg\n",
      "C:/Users/HP/desktop\\python pasting\\stage4\\21.jpg\n",
      "C:/Users/HP/desktop\\python pasting\\stage4\\22.jpg\n",
      "C:/Users/HP/desktop\\python pasting\\stage4\\23.jpg\n",
      "C:/Users/HP/desktop\\python pasting\\stage4\\3.jpg\n",
      "C:/Users/HP/desktop\\python pasting\\stage4\\4.jpg\n",
      "C:/Users/HP/desktop\\python pasting\\stage4\\5.jpg\n",
      "C:/Users/HP/desktop\\python pasting\\stage4\\6.jpg\n",
      "C:/Users/HP/desktop\\python pasting\\stage4\\7.jpg\n",
      "C:/Users/HP/desktop\\python pasting\\stage4\\8.jpg\n",
      "C:/Users/HP/desktop\\python pasting\\stage4\\9.jpg\n",
      "C:/Users/HP/desktop\\reampling\\.Rhistory\n",
      "C:/Users/HP/desktop\\reampling\\bootstrapandjacknife.pdf\n",
      "C:/Users/HP/desktop\\reampling\\bootstrappackage.pdf\n",
      "C:/Users/HP/desktop\\reampling\\jacknife.pdf\n",
      "C:/Users/HP/desktop\\reampling\\jacknifevsbootstrap.R\n",
      "C:/Users/HP/desktop\\reampling\\meanbootjack.R\n",
      "C:/Users/HP/desktop\\reampling\\meanmedian.R\n",
      "C:/Users/HP/desktop\\reampling\\RESAMPLING TECHNIQUES.pptx\n",
      "C:/Users/HP/desktop\\REGRESSION\\ex1\\EX1.csv\n",
      "C:/Users/HP/desktop\\REGRESSION\\ex1\\ex1.docx\n",
      "C:/Users/HP/desktop\\REGRESSION\\ex1\\ex1.jpeg\n",
      "C:/Users/HP/desktop\\REGRESSION\\ex1\\EX1.R\n",
      "C:/Users/HP/desktop\\REGRESSION\\ex1\\SIMPLE LINEAR REGRESSION ON NUMBER OF COMPONENTS REPAIRED VS LENGTH OF SERVICE CALLS.docx\n",
      "C:/Users/HP/desktop\\REGRESSION\\ex2\\EX1.R\n",
      "C:/Users/HP/desktop\\REGRESSION\\ex2\\ex2.csv\n",
      "C:/Users/HP/desktop\\REGRESSION\\ex2\\ex2.docx\n",
      "C:/Users/HP/desktop\\REGRESSION\\ex2\\ex2.jpeg\n",
      "C:/Users/HP/desktop\\REGRESSION\\ex2\\SIMPLE LINEAR REGRESSION ON NUMBER OF COMPONENTS REPAIRED VS LENGTH OF SERVICE CALLS.docx\n",
      "C:/Users/HP/desktop\\REGRESSION\\ex3\\.Rhistory\n",
      "C:/Users/HP/desktop\\REGRESSION\\ex3\\Data.txt\n",
      "C:/Users/HP/desktop\\REGRESSION\\ex3\\ex3.jpeg\n",
      "C:/Users/HP/desktop\\REGRESSION\\ex3\\ex3.R\n",
      "C:/Users/HP/desktop\\REGRESSION\\ex3\\ex3residuals.jpeg\n",
      "C:/Users/HP/desktop\\REGRESSION\\ex3\\ex3residualvspredictor.jpeg\n",
      "C:/Users/HP/desktop\\REGRESSION\\ex3\\Exercise3.docx\n",
      "C:/Users/HP/desktop\\REGRESSION\\ex3\\Residual analysis.docx\n",
      "C:/Users/HP/desktop\\REGRESSION\\ex4\\.Rhistory\n",
      "C:/Users/HP/desktop\\REGRESSION\\ex4\\data.txt\n",
      "C:/Users/HP/desktop\\REGRESSION\\ex4\\data2.txt\n",
      "C:/Users/HP/desktop\\REGRESSION\\ex4\\ex4.R\n",
      "C:/Users/HP/desktop\\REGRESSION\\ex4\\ex4_1.docx\n",
      "C:/Users/HP/desktop\\REGRESSION\\ex4\\ex4_2.docx\n",
      "C:/Users/HP/desktop\\REGRESSION\\ex4\\exmamal.jpeg\n",
      "C:/Users/HP/desktop\\REGRESSION\\ex4\\mamal.R\n",
      "C:/Users/HP/desktop\\REGRESSION\\ex4\\plots\\plot1.jpeg\n",
      "C:/Users/HP/desktop\\REGRESSION\\ex4\\plots\\plot2.jpeg\n",
      "C:/Users/HP/desktop\\REGRESSION\\ex4\\plots\\plot21.jpeg\n",
      "C:/Users/HP/desktop\\REGRESSION\\ex4\\plots\\plot3.jpeg\n",
      "C:/Users/HP/desktop\\REGRESSION\\ex4\\plots\\plot4.jpeg\n",
      "C:/Users/HP/desktop\\REGRESSION\\ex4\\plots\\plotex41.jpeg\n",
      "C:/Users/HP/desktop\\REGRESSION\\ex4\\plots\\plotex4_2.jpeg\n",
      "C:/Users/HP/desktop\\REGRESSION\\ex4\\plots\\plotex4_2_1.jpeg\n",
      "C:/Users/HP/desktop\\REGRESSION\\ex4\\Transformation.docx\n",
      "C:/Users/HP/desktop\\REGRESSION\\ex5\\data.csv\n",
      "C:/Users/HP/desktop\\REGRESSION\\ex5\\ex5.docx\n",
      "C:/Users/HP/desktop\\REGRESSION\\ex5\\ex5.R\n",
      "C:/Users/HP/desktop\\REGRESSION\\ex5\\plots\\fit1.jpeg\n",
      "C:/Users/HP/desktop\\REGRESSION\\ex5\\plots\\fit1_trans1.jpeg\n",
      "C:/Users/HP/desktop\\REGRESSION\\ex5\\plots\\fit2.jpeg\n",
      "C:/Users/HP/desktop\\REGRESSION\\ex5\\plots\\fit3.jpeg\n",
      "C:/Users/HP/desktop\\REGRESSION\\ex5\\plots\\fit4.jpeg\n",
      "C:/Users/HP/desktop\\REGRESSION\\ex5\\plots\\fit_trans1_plot.jpeg\n",
      "C:/Users/HP/desktop\\REGRESSION\\ex5\\plots\\fit_trans_1.jpeg\n",
      "C:/Users/HP/desktop\\REGRESSION\\ex5\\plots\\fit_trans_2.jpeg\n",
      "C:/Users/HP/desktop\\REGRESSION\\ex5\\plots\\fit_trans_2_plot.jpeg\n",
      "C:/Users/HP/desktop\\REGRESSION\\ex5\\plots\\fit_trans_3.jpeg\n",
      "C:/Users/HP/desktop\\REGRESSION\\ex5\\plots\\fit_trans_4.jpeg\n",
      "C:/Users/HP/desktop\\REGRESSION\\ex5\\plots\\plot1.jpeg\n",
      "C:/Users/HP/desktop\\REGRESSION\\ex5\\plots\\transformplot.jpeg\n",
      "C:/Users/HP/desktop\\REGRESSION\\ex5\\Transformation.docx\n",
      "C:/Users/HP/desktop\\REGRESSION\\ex6\\ex6.docx\n",
      "C:/Users/HP/desktop\\REGRESSION\\ex6\\Exercise on dummy.csv\n",
      "C:/Users/HP/desktop\\REGRESSION\\ex6\\Exercise on dummy.xlsx\n",
      "C:/Users/HP/desktop\\REGRESSION\\ex6\\Exercise-6.docx\n",
      "C:/Users/HP/desktop\\REGRESSION\\ex6\\plot1.jpeg\n",
      "C:/Users/HP/desktop\\REGRESSION\\ex6\\plot3.jpeg\n",
      "C:/Users/HP/desktop\\REGRESSION\\ex6\\residuals.jpeg\n",
      "C:/Users/HP/desktop\\REGRESSION\\logistic regression\\binary.csv\n",
      "C:/Users/HP/desktop\\REGRESSION\\logistic regression\\logistic.R\n",
      "C:/Users/HP/desktop\\thinkpython2\\bear.txt\n",
      "C:/Users/HP/desktop\\thinkpython2\\clock.txt\n",
      "C:/Users/HP/desktop\\thinkpython2\\ema.txt\n",
      "C:/Users/HP/desktop\\thinkpython2\\markov.txt\n",
      "C:/Users/HP/desktop\\thinkpython2\\output.txt\n",
      "C:/Users/HP/desktop\\thinkpython2\\pythoncodesthinkpython2\\recursionfunction.ipynb.py\n",
      "C:/Users/HP/desktop\\thinkpython2\\pythoncodesthinkpython2\\returnfunction.py\n",
      "C:/Users/HP/desktop\\thinkpython2\\pythoncodesthinkpython2\\turtle.py\n",
      "C:/Users/HP/desktop\\thinkpython2\\rony.txt\n",
      "C:/Users/HP/desktop\\thinkpython2\\thinkpython2.pdf\n",
      "C:/Users/HP/desktop\\thinkpython2\\words.txt\n",
      "C:/Users/HP/desktop\\time series assignment\\time series assignment no 1\\.RData\n",
      "C:/Users/HP/desktop\\time series assignment\\time series assignment no 1\\.Rhistory\n",
      "C:/Users/HP/desktop\\time series assignment\\time series assignment no 1\\data.csv\n",
      "C:/Users/HP/desktop\\time series assignment\\time series assignment no 1\\data_exponentialsmoothing.csv\n",
      "C:/Users/HP/desktop\\time series assignment\\time series assignment no 1\\data_mov_average_even.csv\n",
      "C:/Users/HP/desktop\\time series assignment\\time series assignment no 1\\data_mov_average_odd.csv\n",
      "C:/Users/HP/desktop\\time series assignment\\time series assignment no 1\\firstorderdifflog.jpeg\n",
      "C:/Users/HP/desktop\\time series assignment\\time series assignment no 1\\slogstockbfrefrstorderdiff.jpeg\n",
      "C:/Users/HP/desktop\\time series assignment\\time series assignment no 1\\Time series\\curvefitting.csv\n",
      "C:/Users/HP/desktop\\time series assignment\\time series assignment no 1\\Time series\\data.csv\n",
      "C:/Users/HP/desktop\\time series assignment\\time series assignment no 1\\Time series\\data1.csv\n",
      "C:/Users/HP/desktop\\time series assignment\\time series assignment no 1\\Time series\\data_exponentialsmoothing.csv\n",
      "C:/Users/HP/desktop\\time series assignment\\time series assignment no 1\\Time series\\data_mov_average_even.csv\n",
      "C:/Users/HP/desktop\\time series assignment\\time series assignment no 1\\Time series\\data_mov_average_odd.csv\n",
      "C:/Users/HP/desktop\\time series assignment\\time series assignment no 1\\Time series\\deaseas.jpg\n",
      "C:/Users/HP/desktop\\time series assignment\\time series assignment no 1\\Time series\\plot.jpg\n",
      "C:/Users/HP/desktop\\time series assignment\\time series assignment no 1\\Time series\\seas2.R\n",
      "C:/Users/HP/desktop\\time series assignment\\time series assignment no 1\\Time series\\seasonality.csv\n",
      "C:/Users/HP/desktop\\time series assignment\\time series assignment no 1\\Time series\\seasonality.R\n",
      "C:/Users/HP/desktop\\time series assignment\\time series assignment no 1\\Time series\\TIME SERIES ASSIGNMENT NO.docx\n",
      "C:/Users/HP/desktop\\time series assignment\\time series assignment no 1\\Time series\\TIME SERIES ASSIGNMENT NO1.docx\n",
      "C:/Users/HP/desktop\\time series assignment\\time series assignment no 1\\Time series\\timeseriesplot.R\n",
      "C:/Users/HP/desktop\\time series assignment\\time series assignment no 1\\TIME SERIES ASSIGNMENT NO.docx\n",
      "C:/Users/HP/desktop\\time series assignment\\time series assignment no 1\\Time series assignment.pdf\n",
      "C:/Users/HP/desktop\\time series assignment\\time series assignment no 1\\timeseriesplot.R\n",
      "C:/Users/HP/desktop\\time series assignment\\time series assignment no 1\\Time_Series_Assimnment 1.docx\n",
      "C:/Users/HP/desktop\\time series assignment\\time series assignment no 1\\ts_exp.jpg\n",
      "C:/Users/HP/desktop\\time series assignment\\time series assignment no 1\\ts_ma.jpg\n",
      "C:/Users/HP/desktop\\time series assignment\\time series assignment no 1\\ts_plot.jpg\n",
      "C:/Users/HP/desktop\\time series assignment\\time series assignment no 2\\.RData\n",
      "C:/Users/HP/desktop\\time series assignment\\time series assignment no 2\\.Rhistory\n",
      "C:/Users/HP/desktop\\time series assignment\\time series assignment no 2\\acf.xlsx\n",
      "C:/Users/HP/desktop\\time series assignment\\time series assignment no 2\\acfofarch.xlsx\n",
      "C:/Users/HP/desktop\\time series assignment\\time series assignment no 2\\acfteststatistic.txt\n",
      "C:/Users/HP/desktop\\time series assignment\\time series assignment no 2\\apple.csv\n",
      "C:/Users/HP/desktop\\time series assignment\\time series assignment no 2\\ARCH MODEL_3.pdf\n",
      "C:/Users/HP/desktop\\time series assignment\\time series assignment no 2\\arimagarch.pdf\n",
      "C:/Users/HP/desktop\\time series assignment\\time series assignment no 2\\coefficients of ar16.txt\n",
      "C:/Users/HP/desktop\\time series assignment\\time series assignment no 2\\coefficients of ar4.txt\n",
      "C:/Users/HP/desktop\\time series assignment\\time series assignment no 2\\pacf.xlsx\n",
      "C:/Users/HP/desktop\\time series assignment\\time series assignment no 2\\pacfteststatistic.txt\n",
      "C:/Users/HP/desktop\\time series assignment\\time series assignment no 2\\residualanalysisar16.xlsx\n",
      "C:/Users/HP/desktop\\time series assignment\\time series assignment no 2\\residualanalysisar4.xlsx\n",
      "C:/Users/HP/desktop\\time series assignment\\time series assignment no 2\\residualteststatisticacfar16.txt\n",
      "C:/Users/HP/desktop\\time series assignment\\time series assignment no 2\\residualteststatisticacfar4.txt\n",
      "C:/Users/HP/desktop\\time series assignment\\time series assignment no 2\\s.e.ar16.txt\n",
      "C:/Users/HP/desktop\\time series assignment\\time series assignment no 2\\s.e.ar4.txt\n",
      "C:/Users/HP/desktop\\time series assignment\\time series assignment no 2\\statistical finance.docx\n",
      "C:/Users/HP/desktop\\time series assignment\\time series assignment no 2\\tabulatedvalueschisq.txt\n",
      "C:/Users/HP/desktop\\time series assignment\\time series assignment no 2\\tcs.csv\n",
      "C:/Users/HP/desktop\\time series assignment\\time series assignment no 2\\testingcoeffar16.xlsx\n",
      "C:/Users/HP/desktop\\time series assignment\\time series assignment no 2\\testingcoeffar4.xlsx\n",
      "C:/Users/HP/desktop\\time series assignment\\time series assignment no 2\\volatility.R\n"
     ]
    }
   ],
   "source": [
    "walk('C:/Users/HP/desktop')"
   ]
  },
  {
   "cell_type": "code",
   "execution_count": 42,
   "metadata": {
    "collapsed": false
   },
   "outputs": [
    {
     "data": {
      "text/plain": [
       "True"
      ]
     },
     "execution_count": 42,
     "metadata": {},
     "output_type": "execute_result"
    }
   ],
   "source": [
    "os.path.isfile('C:/Users/HP/desktop/project.docx')"
   ]
  },
  {
   "cell_type": "code",
   "execution_count": 43,
   "metadata": {
    "collapsed": false
   },
   "outputs": [
    {
     "name": "stdout",
     "output_type": "stream",
     "text": [
      "C:/Users/HP/desktop\\cism\\mokell codes\\cism\\.Rhistory\n",
      "C:/Users/HP/desktop\\cism\\mokell codes\\cism\\feedmandiaconis.R\n",
      "C:/Users/HP/desktop\\cism\\mokell codes\\cism\\gibbssampler.R\n",
      "C:/Users/HP/desktop\\cism\\mokell codes\\cism\\kerneldensityestimate.R\n",
      "C:/Users/HP/desktop\\cism\\mokell codes\\cism\\sampling.R\n",
      "C:/Users/HP/desktop\\cism\\mokell codes\\cism\\scott.R\n",
      "C:/Users/HP/desktop\\cism\\mokell codes\\cism\\sturgesrule.R\n",
      "C:/Users/HP/desktop\\cism\\mokell codes\\cism.zip\n",
      "C:/Users/HP/desktop\\cism\\mokell codes\\cism\n",
      "C:/Users/HP/desktop\\cism\\.Rhistory\n",
      "C:/Users/HP/desktop\\cism\\boot.txt\n",
      "C:/Users/HP/desktop\\cism\\bootstrap.R\n",
      "C:/Users/HP/desktop\\cism\\bootstrapstandarderrorbias.R\n",
      "C:/Users/HP/desktop\\cism\\gibbssampler.R\n",
      "C:/Users/HP/desktop\\cism\\histogram.R\n",
      "C:/Users/HP/desktop\\cism\\introduction to markov chains.pdf\n",
      "C:/Users/HP/desktop\\cism\\mhhasting.R\n",
      "C:/Users/HP/desktop\\cism\\patch.csv\n",
      "C:/Users/HP/desktop\\cism\\scott.R\n",
      "C:/Users/HP/desktop\\cism\\sturgesrule.R\n",
      "C:/Users/HP/desktop\\cism\\[Maria_L._Rizzo]_Statistical_computing_with_R(BookZZ.org).pdf\n",
      "C:/Users/HP/desktop\\cism\\mokell codes\n",
      "C:/Users/HP/desktop\\machine learning\\abhishek\\pythoncodesthinkpython2\\recursionfunction.ipynb.py\n",
      "C:/Users/HP/desktop\\machine learning\\abhishek\\pythoncodesthinkpython2\\returnfunction.py\n",
      "C:/Users/HP/desktop\\machine learning\\abhishek\\pythoncodesthinkpython2\\turtle.py\n",
      "C:/Users/HP/desktop\\machine learning\\abhishek\\Adding borders to an image using python - Stack Overflow.pdf\n",
      "C:/Users/HP/desktop\\machine learning\\abhishek\\python - Add padding to images to get them into the same shape - Stack Overflow.pdf\n",
      "C:/Users/HP/desktop\\machine learning\\abhishek\\thinkpython2.pdf\n",
      "C:/Users/HP/desktop\\machine learning\\abhishek\\pythoncodesthinkpython2\n",
      "C:/Users/HP/desktop\\machine learning\\LDA\\.Rhistory\n",
      "C:/Users/HP/desktop\\machine learning\\LDA\\aa.png\n",
      "C:/Users/HP/desktop\\machine learning\\LDA\\ad.txt\n",
      "C:/Users/HP/desktop\\machine learning\\LDA\\asdad.jpg\n",
      "C:/Users/HP/desktop\\machine learning\\LDA\\Assignment 2.docx\n",
      "C:/Users/HP/desktop\\machine learning\\LDA\\LDA.R\n",
      "C:/Users/HP/desktop\\machine learning\\LDA\\LDA2.R\n",
      "C:/Users/HP/desktop\\machine learning\\LDA\\plot1.jpg\n",
      "C:/Users/HP/desktop\\machine learning\\LDA\\projection_test.csv\n",
      "C:/Users/HP/desktop\\machine learning\\LDA\\projection_test1.csv\n",
      "C:/Users/HP/desktop\\machine learning\\LDA\\projection_training.csv\n",
      "C:/Users/HP/desktop\\machine learning\\LDA\\projection_training1.csv\n",
      "C:/Users/HP/desktop\\machine learning\\LDA\\szc.jpg\n",
      "C:/Users/HP/desktop\\machine learning\\LDA\\versicolor.csv\n",
      "C:/Users/HP/desktop\\machine learning\\LDA\\virginica.csv\n",
      "C:/Users/HP/desktop\\machine learning\\Machine Learning Slides\\Day 1.pdf\n",
      "C:/Users/HP/desktop\\machine learning\\Machine Learning Slides\\Day 10.pdf\n",
      "C:/Users/HP/desktop\\machine learning\\Machine Learning Slides\\Day 2.pdf\n",
      "C:/Users/HP/desktop\\machine learning\\Machine Learning Slides\\Day 3.pdf\n",
      "C:/Users/HP/desktop\\machine learning\\Machine Learning Slides\\Day 4.pdf\n",
      "C:/Users/HP/desktop\\machine learning\\Machine Learning Slides\\Day 5.pdf\n",
      "C:/Users/HP/desktop\\machine learning\\Machine Learning Slides\\Day 6.pdf\n",
      "C:/Users/HP/desktop\\machine learning\\Machine Learning Slides\\Day 7.pdf\n",
      "C:/Users/HP/desktop\\machine learning\\Machine Learning Slides\\Day 8.pdf\n",
      "C:/Users/HP/desktop\\machine learning\\Machine Learning Slides\\Day 9.pdf\n",
      "C:/Users/HP/desktop\\machine learning\\machinelearningvideos\\Cluster Analysis in Data Mining tutoreal 18 The K Medians and K Modes Clustering Methods.mp4\n",
      "C:/Users/HP/desktop\\machine learning\\machinelearningvideos\\Data Mining Lecture - - Finding frequent item sets - Apriori Algorithm - Solved Example (Eng-Hindi).mp4\n",
      "C:/Users/HP/desktop\\machine learning\\machinelearningvideos\\Lecture 1 - Machine Learning (Stanford).mp4\n",
      "C:/Users/HP/desktop\\machine learning\\machinelearningvideos\\Lecture 2 - Machine Learning (Stanford).mp4\n",
      "C:/Users/HP/desktop\\machine learning\\machinelearningvideos\\Machine learning - Decision trees.mp4\n",
      "C:/Users/HP/desktop\\machine learning\\machinelearningvideos\\Practical Machine Learning- 6.5 - B Hierarchical Clustering Example.mp4\n",
      "C:/Users/HP/desktop\\machine learning\\machinelearningvideos\\Visualizing a Decision Tree - Machine Learning Recipes #2.mp4\n",
      "C:/Users/HP/desktop\\machine learning\\supervised\\bayes\\.RData\n",
      "C:/Users/HP/desktop\\machine learning\\supervised\\bayes\\.Rhistory\n",
      "C:/Users/HP/desktop\\machine learning\\supervised\\bayes\\Assignment 3.docx\n",
      "C:/Users/HP/desktop\\machine learning\\supervised\\bayes\\bayes.jpeg\n",
      "C:/Users/HP/desktop\\machine learning\\supervised\\bayes\\bayes.R\n",
      "C:/Users/HP/desktop\\machine learning\\supervised\\bayes\\bayes.txt\n",
      "C:/Users/HP/desktop\\machine learning\\supervised\\bayes\\bayes2.jpg\n",
      "C:/Users/HP/desktop\\machine learning\\supervised\\bayes\\test.txt\n",
      "C:/Users/HP/desktop\\machine learning\\supervised\\bayes\\trainversi.txt\n",
      "C:/Users/HP/desktop\\machine learning\\supervised\\bayes\\trainvirg.txt\n",
      "C:/Users/HP/desktop\\machine learning\\supervised\\bayes\\versicolor.csv\n",
      "C:/Users/HP/desktop\\machine learning\\supervised\\bayes\\virginica.csv\n",
      "C:/Users/HP/desktop\\machine learning\\supervised\\decison tree\\bg.jpg\n",
      "C:/Users/HP/desktop\\machine learning\\supervised\\decison tree\\cancer stages.R\n",
      "C:/Users/HP/desktop\\machine learning\\supervised\\decison tree\\entropybased.jpg\n",
      "C:/Users/HP/desktop\\machine learning\\supervised\\LDA\\.Rhistory\n",
      "C:/Users/HP/desktop\\machine learning\\supervised\\LDA\\aa.png\n",
      "C:/Users/HP/desktop\\machine learning\\supervised\\LDA\\ad.txt\n",
      "C:/Users/HP/desktop\\machine learning\\supervised\\LDA\\asdad.jpg\n",
      "C:/Users/HP/desktop\\machine learning\\supervised\\LDA\\Assignment 2.docx\n",
      "C:/Users/HP/desktop\\machine learning\\supervised\\LDA\\LDA.R\n",
      "C:/Users/HP/desktop\\machine learning\\supervised\\LDA\\LDA2.R\n",
      "C:/Users/HP/desktop\\machine learning\\supervised\\LDA\\plot1.jpg\n",
      "C:/Users/HP/desktop\\machine learning\\supervised\\LDA\\projection_test.csv\n",
      "C:/Users/HP/desktop\\machine learning\\supervised\\LDA\\projection_test1.csv\n",
      "C:/Users/HP/desktop\\machine learning\\supervised\\LDA\\projection_training.csv\n",
      "C:/Users/HP/desktop\\machine learning\\supervised\\LDA\\projection_training1.csv\n",
      "C:/Users/HP/desktop\\machine learning\\supervised\\LDA\\szc.jpg\n",
      "C:/Users/HP/desktop\\machine learning\\supervised\\LDA\\versicolor.csv\n",
      "C:/Users/HP/desktop\\machine learning\\supervised\\LDA\\virginica.csv\n",
      "C:/Users/HP/desktop\\machine learning\\supervised\\bayes\n",
      "C:/Users/HP/desktop\\machine learning\\supervised\\decison tree\n",
      "C:/Users/HP/desktop\\machine learning\\supervised\\LDA\n",
      "C:/Users/HP/desktop\\machine learning\\unsupervised\\kmeans\\.RData\n",
      "C:/Users/HP/desktop\\machine learning\\unsupervised\\kmeans\\.Rhistory\n",
      "C:/Users/HP/desktop\\machine learning\\unsupervised\\kmeans\\assgn.R\n",
      "C:/Users/HP/desktop\\machine learning\\unsupervised\\kmeans\\ASSIGNMENT NO1.docx\n",
      "C:/Users/HP/desktop\\machine learning\\unsupervised\\kmeans\\ASSIGNMENT NO1.pdf\n",
      "C:/Users/HP/desktop\\machine learning\\unsupervised\\kmeans\\kmeans.R\n",
      "C:/Users/HP/desktop\\machine learning\\unsupervised\\kmeans\\kmeansfunction.R\n",
      "C:/Users/HP/desktop\\machine learning\\unsupervised\\kmeans\\kmeansinbuilt.R\n",
      "C:/Users/HP/desktop\\machine learning\\unsupervised\\kmeans\\protein.csv\n",
      "C:/Users/HP/desktop\\machine learning\\unsupervised\\kmeans\n",
      "C:/Users/HP/desktop\\machine learning\\abhishek\n",
      "C:/Users/HP/desktop\\machine learning\\LDA\n",
      "C:/Users/HP/desktop\\machine learning\\Machine Learning Slides\n",
      "C:/Users/HP/desktop\\machine learning\\machinelearningvideos\n",
      "C:/Users/HP/desktop\\machine learning\\supervised\n",
      "C:/Users/HP/desktop\\machine learning\\unsupervised\n",
      "C:/Users/HP/desktop\\neural networks\\samarjeet\\csv files\\0.csv\n",
      "C:/Users/HP/desktop\\neural networks\\samarjeet\\csv files\\10.csv\n",
      "C:/Users/HP/desktop\\neural networks\\samarjeet\\csv files\\2.csv\n",
      "C:/Users/HP/desktop\\neural networks\\samarjeet\\csv files\\4.csv\n",
      "C:/Users/HP/desktop\\neural networks\\samarjeet\\csv files\\6.csv\n",
      "C:/Users/HP/desktop\\neural networks\\samarjeet\\csv files\\8.csv\n",
      "C:/Users/HP/desktop\\neural networks\\samarjeet\\plots\\plot1.jpeg\n",
      "C:/Users/HP/desktop\\neural networks\\samarjeet\\plots\\plot2.jpeg\n",
      "C:/Users/HP/desktop\\neural networks\\samarjeet\\plots\\plot3.jpeg\n",
      "C:/Users/HP/desktop\\neural networks\\samarjeet\\plots\\plot4.jpeg\n",
      "C:/Users/HP/desktop\\neural networks\\samarjeet\\plots\\plot5.jpeg\n",
      "C:/Users/HP/desktop\\neural networks\\samarjeet\\plots\\plot6.jpeg\n",
      "C:/Users/HP/desktop\\neural networks\\samarjeet\\samarjeet\\.Rhistory\n",
      "C:/Users/HP/desktop\\neural networks\\samarjeet\\samarjeet\\data1.csv\n",
      "C:/Users/HP/desktop\\neural networks\\samarjeet\\samarjeet\\data2.csv\n",
      "C:/Users/HP/desktop\\neural networks\\samarjeet\\samarjeet\\data3.csv\n",
      "C:/Users/HP/desktop\\neural networks\\samarjeet\\samarjeet\\data4.csv\n",
      "C:/Users/HP/desktop\\neural networks\\samarjeet\\samarjeet\\neuralsamr.R\n",
      "C:/Users/HP/desktop\\neural networks\\samarjeet\\text files\\SS1_4.txt\n",
      "C:/Users/HP/desktop\\neural networks\\samarjeet\\text files\\SS2_4.txt\n",
      "C:/Users/HP/desktop\\neural networks\\samarjeet\\text files\\SS3_4.txt\n",
      "C:/Users/HP/desktop\\neural networks\\samarjeet\\text files\\SS4_4.txt\n",
      "C:/Users/HP/desktop\\neural networks\\samarjeet\\text files\\SS5_4.txt\n",
      "C:/Users/HP/desktop\\neural networks\\samarjeet\\text files\\SS6_4.txt\n",
      "C:/Users/HP/desktop\\neural networks\\samarjeet\\.Rhistory\n",
      "C:/Users/HP/desktop\\neural networks\\samarjeet\\cleantransform.R\n",
      "C:/Users/HP/desktop\\neural networks\\samarjeet\\finaldata.csv\n",
      "C:/Users/HP/desktop\\neural networks\\samarjeet\\samarjeet.rar\n",
      "C:/Users/HP/desktop\\neural networks\\samarjeet\\samarnetwork.R\n",
      "C:/Users/HP/desktop\\neural networks\\samarjeet\\csv files\n",
      "C:/Users/HP/desktop\\neural networks\\samarjeet\\plots\n",
      "C:/Users/HP/desktop\\neural networks\\samarjeet\\samarjeet\n",
      "C:/Users/HP/desktop\\neural networks\\samarjeet\\text files\n",
      "C:/Users/HP/desktop\\neural networks\\training\\finalstage1\\1.csv\n",
      "C:/Users/HP/desktop\\neural networks\\training\\finalstage1\\10.csv\n",
      "C:/Users/HP/desktop\\neural networks\\training\\finalstage1\\11.csv\n",
      "C:/Users/HP/desktop\\neural networks\\training\\finalstage1\\12.csv\n",
      "C:/Users/HP/desktop\\neural networks\\training\\finalstage1\\13.csv\n",
      "C:/Users/HP/desktop\\neural networks\\training\\finalstage1\\14.csv\n",
      "C:/Users/HP/desktop\\neural networks\\training\\finalstage1\\15.csv\n",
      "C:/Users/HP/desktop\\neural networks\\training\\finalstage1\\16.csv\n",
      "C:/Users/HP/desktop\\neural networks\\training\\finalstage1\\17.csv\n",
      "C:/Users/HP/desktop\\neural networks\\training\\finalstage1\\18.csv\n",
      "C:/Users/HP/desktop\\neural networks\\training\\finalstage1\\19.csv\n",
      "C:/Users/HP/desktop\\neural networks\\training\\finalstage1\\2.csv\n",
      "C:/Users/HP/desktop\\neural networks\\training\\finalstage1\\20.csv\n",
      "C:/Users/HP/desktop\\neural networks\\training\\finalstage1\\21.csv\n",
      "C:/Users/HP/desktop\\neural networks\\training\\finalstage1\\22.csv\n",
      "C:/Users/HP/desktop\\neural networks\\training\\finalstage1\\23.csv\n",
      "C:/Users/HP/desktop\\neural networks\\training\\finalstage1\\24.csv\n",
      "C:/Users/HP/desktop\\neural networks\\training\\finalstage1\\25.csv\n",
      "C:/Users/HP/desktop\\neural networks\\training\\finalstage1\\26.csv\n",
      "C:/Users/HP/desktop\\neural networks\\training\\finalstage1\\27.csv\n",
      "C:/Users/HP/desktop\\neural networks\\training\\finalstage1\\28.csv\n",
      "C:/Users/HP/desktop\\neural networks\\training\\finalstage1\\29.csv\n",
      "C:/Users/HP/desktop\\neural networks\\training\\finalstage1\\3.csv\n",
      "C:/Users/HP/desktop\\neural networks\\training\\finalstage1\\30.csv\n",
      "C:/Users/HP/desktop\\neural networks\\training\\finalstage1\\31.csv\n",
      "C:/Users/HP/desktop\\neural networks\\training\\finalstage1\\32.csv\n",
      "C:/Users/HP/desktop\\neural networks\\training\\finalstage1\\4.csv\n",
      "C:/Users/HP/desktop\\neural networks\\training\\finalstage1\\5.csv\n",
      "C:/Users/HP/desktop\\neural networks\\training\\finalstage1\\6.csv\n",
      "C:/Users/HP/desktop\\neural networks\\training\\finalstage1\\7.csv\n",
      "C:/Users/HP/desktop\\neural networks\\training\\finalstage1\\8.csv\n",
      "C:/Users/HP/desktop\\neural networks\\training\\finalstage1\\9.csv\n",
      "C:/Users/HP/desktop\\neural networks\\training\\finalstage2\\1.csv\n",
      "C:/Users/HP/desktop\\neural networks\\training\\finalstage2\\10.csv\n",
      "C:/Users/HP/desktop\\neural networks\\training\\finalstage2\\11.csv\n",
      "C:/Users/HP/desktop\\neural networks\\training\\finalstage2\\12.csv\n",
      "C:/Users/HP/desktop\\neural networks\\training\\finalstage2\\13.csv\n",
      "C:/Users/HP/desktop\\neural networks\\training\\finalstage2\\14.csv\n",
      "C:/Users/HP/desktop\\neural networks\\training\\finalstage2\\15.csv\n",
      "C:/Users/HP/desktop\\neural networks\\training\\finalstage2\\16.csv\n",
      "C:/Users/HP/desktop\\neural networks\\training\\finalstage2\\17.csv\n",
      "C:/Users/HP/desktop\\neural networks\\training\\finalstage2\\18.csv\n",
      "C:/Users/HP/desktop\\neural networks\\training\\finalstage2\\19.csv\n",
      "C:/Users/HP/desktop\\neural networks\\training\\finalstage2\\2.csv\n",
      "C:/Users/HP/desktop\\neural networks\\training\\finalstage2\\20.csv\n",
      "C:/Users/HP/desktop\\neural networks\\training\\finalstage2\\21.csv\n",
      "C:/Users/HP/desktop\\neural networks\\training\\finalstage2\\3.csv\n",
      "C:/Users/HP/desktop\\neural networks\\training\\finalstage2\\4.csv\n",
      "C:/Users/HP/desktop\\neural networks\\training\\finalstage2\\5.csv\n",
      "C:/Users/HP/desktop\\neural networks\\training\\finalstage2\\6.csv\n",
      "C:/Users/HP/desktop\\neural networks\\training\\finalstage2\\7.csv\n",
      "C:/Users/HP/desktop\\neural networks\\training\\finalstage2\\8.csv\n",
      "C:/Users/HP/desktop\\neural networks\\training\\finalstage2\\9.csv\n",
      "C:/Users/HP/desktop\\neural networks\\training\\finalstage3\\1.csv\n",
      "C:/Users/HP/desktop\\neural networks\\training\\finalstage3\\10.csv\n",
      "C:/Users/HP/desktop\\neural networks\\training\\finalstage3\\11.csv\n",
      "C:/Users/HP/desktop\\neural networks\\training\\finalstage3\\12.csv\n",
      "C:/Users/HP/desktop\\neural networks\\training\\finalstage3\\13.csv\n",
      "C:/Users/HP/desktop\\neural networks\\training\\finalstage3\\14.csv\n",
      "C:/Users/HP/desktop\\neural networks\\training\\finalstage3\\15.csv\n",
      "C:/Users/HP/desktop\\neural networks\\training\\finalstage3\\16.csv\n",
      "C:/Users/HP/desktop\\neural networks\\training\\finalstage3\\17.csv\n",
      "C:/Users/HP/desktop\\neural networks\\training\\finalstage3\\18.csv\n",
      "C:/Users/HP/desktop\\neural networks\\training\\finalstage3\\19.csv\n",
      "C:/Users/HP/desktop\\neural networks\\training\\finalstage3\\2.csv\n",
      "C:/Users/HP/desktop\\neural networks\\training\\finalstage3\\20.csv\n",
      "C:/Users/HP/desktop\\neural networks\\training\\finalstage3\\21.csv\n",
      "C:/Users/HP/desktop\\neural networks\\training\\finalstage3\\22.csv\n",
      "C:/Users/HP/desktop\\neural networks\\training\\finalstage3\\23.csv\n",
      "C:/Users/HP/desktop\\neural networks\\training\\finalstage3\\24.csv\n",
      "C:/Users/HP/desktop\\neural networks\\training\\finalstage3\\3.csv\n",
      "C:/Users/HP/desktop\\neural networks\\training\\finalstage3\\4.csv\n",
      "C:/Users/HP/desktop\\neural networks\\training\\finalstage3\\5.csv\n",
      "C:/Users/HP/desktop\\neural networks\\training\\finalstage3\\6.csv\n",
      "C:/Users/HP/desktop\\neural networks\\training\\finalstage3\\7.csv\n",
      "C:/Users/HP/desktop\\neural networks\\training\\finalstage3\\8.csv\n",
      "C:/Users/HP/desktop\\neural networks\\training\\finalstage3\\9.csv\n",
      "C:/Users/HP/desktop\\neural networks\\training\\finalstage4\\1.csv\n",
      "C:/Users/HP/desktop\\neural networks\\training\\finalstage4\\10.csv\n",
      "C:/Users/HP/desktop\\neural networks\\training\\finalstage4\\11.csv\n",
      "C:/Users/HP/desktop\\neural networks\\training\\finalstage4\\12.csv\n",
      "C:/Users/HP/desktop\\neural networks\\training\\finalstage4\\13.csv\n",
      "C:/Users/HP/desktop\\neural networks\\training\\finalstage4\\14.csv\n",
      "C:/Users/HP/desktop\\neural networks\\training\\finalstage4\\15.csv\n",
      "C:/Users/HP/desktop\\neural networks\\training\\finalstage4\\16.csv\n",
      "C:/Users/HP/desktop\\neural networks\\training\\finalstage4\\17.csv\n",
      "C:/Users/HP/desktop\\neural networks\\training\\finalstage4\\18.csv\n",
      "C:/Users/HP/desktop\\neural networks\\training\\finalstage4\\19.csv\n",
      "C:/Users/HP/desktop\\neural networks\\training\\finalstage4\\2.csv\n",
      "C:/Users/HP/desktop\\neural networks\\training\\finalstage4\\20.csv\n",
      "C:/Users/HP/desktop\\neural networks\\training\\finalstage4\\21.csv\n",
      "C:/Users/HP/desktop\\neural networks\\training\\finalstage4\\22.csv\n",
      "C:/Users/HP/desktop\\neural networks\\training\\finalstage4\\23.csv\n",
      "C:/Users/HP/desktop\\neural networks\\training\\finalstage4\\3.csv\n",
      "C:/Users/HP/desktop\\neural networks\\training\\finalstage4\\4.csv\n",
      "C:/Users/HP/desktop\\neural networks\\training\\finalstage4\\5.csv\n",
      "C:/Users/HP/desktop\\neural networks\\training\\finalstage4\\6.csv\n",
      "C:/Users/HP/desktop\\neural networks\\training\\finalstage4\\7.csv\n",
      "C:/Users/HP/desktop\\neural networks\\training\\finalstage4\\8.csv\n",
      "C:/Users/HP/desktop\\neural networks\\training\\finalstage4\\9.csv\n",
      "C:/Users/HP/desktop\\neural networks\\training\\pca.R\n",
      "C:/Users/HP/desktop\\neural networks\\training\\testing.csv\n",
      "C:/Users/HP/desktop\\neural networks\\training\\training.csv\n",
      "C:/Users/HP/desktop\\neural networks\\training\\finalstage1\n",
      "C:/Users/HP/desktop\\neural networks\\training\\finalstage2\n",
      "C:/Users/HP/desktop\\neural networks\\training\\finalstage3\n",
      "C:/Users/HP/desktop\\neural networks\\training\\finalstage4\n",
      "C:/Users/HP/desktop\\neural networks\\.RData\n",
      "C:/Users/HP/desktop\\neural networks\\.Rhistory\n",
      "C:/Users/HP/desktop\\neural networks\\mnist_test.csv\n",
      "C:/Users/HP/desktop\\neural networks\\mnist_test200.csv\n",
      "C:/Users/HP/desktop\\neural networks\\mnist_test_10.csv\n",
      "C:/Users/HP/desktop\\neural networks\\mnist_train.csv\n",
      "C:/Users/HP/desktop\\neural networks\\mnist_train1000.csv\n",
      "C:/Users/HP/desktop\\neural networks\\mnist_train_100.csv\n",
      "C:/Users/HP/desktop\\neural networks\\neuralnetworkfinal.R\n",
      "C:/Users/HP/desktop\\neural networks\\samarjeet\n",
      "C:/Users/HP/desktop\\neural networks\\training\n",
      "C:/Users/HP/desktop\\python pasting\\csvstage1\\1.csv\n",
      "C:/Users/HP/desktop\\python pasting\\csvstage1\\10.csv\n",
      "C:/Users/HP/desktop\\python pasting\\csvstage1\\11.csv\n",
      "C:/Users/HP/desktop\\python pasting\\csvstage1\\12.csv\n",
      "C:/Users/HP/desktop\\python pasting\\csvstage1\\13.csv\n",
      "C:/Users/HP/desktop\\python pasting\\csvstage1\\14.csv\n",
      "C:/Users/HP/desktop\\python pasting\\csvstage1\\15.csv\n",
      "C:/Users/HP/desktop\\python pasting\\csvstage1\\16.csv\n",
      "C:/Users/HP/desktop\\python pasting\\csvstage1\\17.csv\n",
      "C:/Users/HP/desktop\\python pasting\\csvstage1\\18.csv\n",
      "C:/Users/HP/desktop\\python pasting\\csvstage1\\19.csv\n",
      "C:/Users/HP/desktop\\python pasting\\csvstage1\\2.csv\n",
      "C:/Users/HP/desktop\\python pasting\\csvstage1\\20.csv\n",
      "C:/Users/HP/desktop\\python pasting\\csvstage1\\21.csv\n",
      "C:/Users/HP/desktop\\python pasting\\csvstage1\\22.csv\n",
      "C:/Users/HP/desktop\\python pasting\\csvstage1\\23.csv\n",
      "C:/Users/HP/desktop\\python pasting\\csvstage1\\24.csv\n",
      "C:/Users/HP/desktop\\python pasting\\csvstage1\\25.csv\n",
      "C:/Users/HP/desktop\\python pasting\\csvstage1\\26.csv\n",
      "C:/Users/HP/desktop\\python pasting\\csvstage1\\27.csv\n",
      "C:/Users/HP/desktop\\python pasting\\csvstage1\\28.csv\n",
      "C:/Users/HP/desktop\\python pasting\\csvstage1\\29.csv\n",
      "C:/Users/HP/desktop\\python pasting\\csvstage1\\3.csv\n",
      "C:/Users/HP/desktop\\python pasting\\csvstage1\\30.csv\n",
      "C:/Users/HP/desktop\\python pasting\\csvstage1\\31.csv\n",
      "C:/Users/HP/desktop\\python pasting\\csvstage1\\32.csv\n",
      "C:/Users/HP/desktop\\python pasting\\csvstage1\\4.csv\n",
      "C:/Users/HP/desktop\\python pasting\\csvstage1\\5.csv\n",
      "C:/Users/HP/desktop\\python pasting\\csvstage1\\6.csv\n",
      "C:/Users/HP/desktop\\python pasting\\csvstage1\\7.csv\n",
      "C:/Users/HP/desktop\\python pasting\\csvstage1\\8.csv\n",
      "C:/Users/HP/desktop\\python pasting\\csvstage1\\9.csv\n",
      "C:/Users/HP/desktop\\python pasting\\csvstage2\\1.csv\n",
      "C:/Users/HP/desktop\\python pasting\\csvstage2\\10.csv\n",
      "C:/Users/HP/desktop\\python pasting\\csvstage2\\11.csv\n",
      "C:/Users/HP/desktop\\python pasting\\csvstage2\\12.csv\n",
      "C:/Users/HP/desktop\\python pasting\\csvstage2\\13.csv\n",
      "C:/Users/HP/desktop\\python pasting\\csvstage2\\14.csv\n",
      "C:/Users/HP/desktop\\python pasting\\csvstage2\\15.csv\n",
      "C:/Users/HP/desktop\\python pasting\\csvstage2\\16.csv\n",
      "C:/Users/HP/desktop\\python pasting\\csvstage2\\17.csv\n",
      "C:/Users/HP/desktop\\python pasting\\csvstage2\\18.csv\n",
      "C:/Users/HP/desktop\\python pasting\\csvstage2\\19.csv\n",
      "C:/Users/HP/desktop\\python pasting\\csvstage2\\2.csv\n",
      "C:/Users/HP/desktop\\python pasting\\csvstage2\\20.csv\n",
      "C:/Users/HP/desktop\\python pasting\\csvstage2\\21.csv\n",
      "C:/Users/HP/desktop\\python pasting\\csvstage2\\3.csv\n",
      "C:/Users/HP/desktop\\python pasting\\csvstage2\\4.csv\n",
      "C:/Users/HP/desktop\\python pasting\\csvstage2\\5.csv\n",
      "C:/Users/HP/desktop\\python pasting\\csvstage2\\6.csv\n",
      "C:/Users/HP/desktop\\python pasting\\csvstage2\\7.csv\n",
      "C:/Users/HP/desktop\\python pasting\\csvstage2\\8.csv\n",
      "C:/Users/HP/desktop\\python pasting\\csvstage2\\9.csv\n",
      "C:/Users/HP/desktop\\python pasting\\csvstage3\\1.csv\n",
      "C:/Users/HP/desktop\\python pasting\\csvstage3\\10.csv\n",
      "C:/Users/HP/desktop\\python pasting\\csvstage3\\11.csv\n",
      "C:/Users/HP/desktop\\python pasting\\csvstage3\\12.csv\n",
      "C:/Users/HP/desktop\\python pasting\\csvstage3\\13.csv\n",
      "C:/Users/HP/desktop\\python pasting\\csvstage3\\14.csv\n",
      "C:/Users/HP/desktop\\python pasting\\csvstage3\\15.csv\n",
      "C:/Users/HP/desktop\\python pasting\\csvstage3\\16.csv\n",
      "C:/Users/HP/desktop\\python pasting\\csvstage3\\17.csv\n",
      "C:/Users/HP/desktop\\python pasting\\csvstage3\\18.csv\n",
      "C:/Users/HP/desktop\\python pasting\\csvstage3\\19.csv\n",
      "C:/Users/HP/desktop\\python pasting\\csvstage3\\2.csv\n",
      "C:/Users/HP/desktop\\python pasting\\csvstage3\\20.csv\n",
      "C:/Users/HP/desktop\\python pasting\\csvstage3\\21.csv\n",
      "C:/Users/HP/desktop\\python pasting\\csvstage3\\22.csv\n",
      "C:/Users/HP/desktop\\python pasting\\csvstage3\\23.csv\n",
      "C:/Users/HP/desktop\\python pasting\\csvstage3\\24.csv\n",
      "C:/Users/HP/desktop\\python pasting\\csvstage3\\3.csv\n",
      "C:/Users/HP/desktop\\python pasting\\csvstage3\\4.csv\n",
      "C:/Users/HP/desktop\\python pasting\\csvstage3\\5.csv\n",
      "C:/Users/HP/desktop\\python pasting\\csvstage3\\6.csv\n",
      "C:/Users/HP/desktop\\python pasting\\csvstage3\\7.csv\n",
      "C:/Users/HP/desktop\\python pasting\\csvstage3\\8.csv\n",
      "C:/Users/HP/desktop\\python pasting\\csvstage3\\9.csv\n",
      "C:/Users/HP/desktop\\python pasting\\csvstage4\\1.csv\n",
      "C:/Users/HP/desktop\\python pasting\\csvstage4\\10.csv\n",
      "C:/Users/HP/desktop\\python pasting\\csvstage4\\11.csv\n",
      "C:/Users/HP/desktop\\python pasting\\csvstage4\\12.csv\n",
      "C:/Users/HP/desktop\\python pasting\\csvstage4\\13.csv\n",
      "C:/Users/HP/desktop\\python pasting\\csvstage4\\14.csv\n",
      "C:/Users/HP/desktop\\python pasting\\csvstage4\\15.csv\n",
      "C:/Users/HP/desktop\\python pasting\\csvstage4\\16.csv\n",
      "C:/Users/HP/desktop\\python pasting\\csvstage4\\17.csv\n",
      "C:/Users/HP/desktop\\python pasting\\csvstage4\\18.csv\n",
      "C:/Users/HP/desktop\\python pasting\\csvstage4\\19.csv\n",
      "C:/Users/HP/desktop\\python pasting\\csvstage4\\2.csv\n",
      "C:/Users/HP/desktop\\python pasting\\csvstage4\\20.csv\n",
      "C:/Users/HP/desktop\\python pasting\\csvstage4\\21.csv\n",
      "C:/Users/HP/desktop\\python pasting\\csvstage4\\22.csv\n",
      "C:/Users/HP/desktop\\python pasting\\csvstage4\\23.csv\n",
      "C:/Users/HP/desktop\\python pasting\\csvstage4\\3.csv\n",
      "C:/Users/HP/desktop\\python pasting\\csvstage4\\4.csv\n",
      "C:/Users/HP/desktop\\python pasting\\csvstage4\\5.csv\n",
      "C:/Users/HP/desktop\\python pasting\\csvstage4\\6.csv\n",
      "C:/Users/HP/desktop\\python pasting\\csvstage4\\7.csv\n",
      "C:/Users/HP/desktop\\python pasting\\csvstage4\\8.csv\n",
      "C:/Users/HP/desktop\\python pasting\\csvstage4\\9.csv\n",
      "C:/Users/HP/desktop\\python pasting\\finalstage1\\1.csv\n",
      "C:/Users/HP/desktop\\python pasting\\finalstage1\\10.csv\n",
      "C:/Users/HP/desktop\\python pasting\\finalstage1\\11.csv\n",
      "C:/Users/HP/desktop\\python pasting\\finalstage1\\12.csv\n",
      "C:/Users/HP/desktop\\python pasting\\finalstage1\\13.csv\n",
      "C:/Users/HP/desktop\\python pasting\\finalstage1\\14.csv\n",
      "C:/Users/HP/desktop\\python pasting\\finalstage1\\15.csv\n",
      "C:/Users/HP/desktop\\python pasting\\finalstage1\\16.csv\n",
      "C:/Users/HP/desktop\\python pasting\\finalstage1\\17.csv\n",
      "C:/Users/HP/desktop\\python pasting\\finalstage1\\18.csv\n",
      "C:/Users/HP/desktop\\python pasting\\finalstage1\\19.csv\n",
      "C:/Users/HP/desktop\\python pasting\\finalstage1\\2.csv\n",
      "C:/Users/HP/desktop\\python pasting\\finalstage1\\20.csv\n",
      "C:/Users/HP/desktop\\python pasting\\finalstage1\\21.csv\n",
      "C:/Users/HP/desktop\\python pasting\\finalstage1\\22.csv\n",
      "C:/Users/HP/desktop\\python pasting\\finalstage1\\23.csv\n",
      "C:/Users/HP/desktop\\python pasting\\finalstage1\\24.csv\n",
      "C:/Users/HP/desktop\\python pasting\\finalstage1\\25.csv\n",
      "C:/Users/HP/desktop\\python pasting\\finalstage1\\26.csv\n",
      "C:/Users/HP/desktop\\python pasting\\finalstage1\\27.csv\n",
      "C:/Users/HP/desktop\\python pasting\\finalstage1\\28.csv\n",
      "C:/Users/HP/desktop\\python pasting\\finalstage1\\29.csv\n",
      "C:/Users/HP/desktop\\python pasting\\finalstage1\\3.csv\n",
      "C:/Users/HP/desktop\\python pasting\\finalstage1\\30.csv\n",
      "C:/Users/HP/desktop\\python pasting\\finalstage1\\31.csv\n",
      "C:/Users/HP/desktop\\python pasting\\finalstage1\\32.csv\n",
      "C:/Users/HP/desktop\\python pasting\\finalstage1\\4.csv\n",
      "C:/Users/HP/desktop\\python pasting\\finalstage1\\5.csv\n",
      "C:/Users/HP/desktop\\python pasting\\finalstage1\\6.csv\n",
      "C:/Users/HP/desktop\\python pasting\\finalstage1\\7.csv\n",
      "C:/Users/HP/desktop\\python pasting\\finalstage1\\8.csv\n",
      "C:/Users/HP/desktop\\python pasting\\finalstage1\\9.csv\n",
      "C:/Users/HP/desktop\\python pasting\\finalstage2\\1.csv\n",
      "C:/Users/HP/desktop\\python pasting\\finalstage2\\10.csv\n",
      "C:/Users/HP/desktop\\python pasting\\finalstage2\\11.csv\n",
      "C:/Users/HP/desktop\\python pasting\\finalstage2\\12.csv\n",
      "C:/Users/HP/desktop\\python pasting\\finalstage2\\13.csv\n",
      "C:/Users/HP/desktop\\python pasting\\finalstage2\\14.csv\n",
      "C:/Users/HP/desktop\\python pasting\\finalstage2\\15.csv\n",
      "C:/Users/HP/desktop\\python pasting\\finalstage2\\16.csv\n",
      "C:/Users/HP/desktop\\python pasting\\finalstage2\\17.csv\n",
      "C:/Users/HP/desktop\\python pasting\\finalstage2\\18.csv\n",
      "C:/Users/HP/desktop\\python pasting\\finalstage2\\19.csv\n",
      "C:/Users/HP/desktop\\python pasting\\finalstage2\\2.csv\n",
      "C:/Users/HP/desktop\\python pasting\\finalstage2\\20.csv\n",
      "C:/Users/HP/desktop\\python pasting\\finalstage2\\21.csv\n",
      "C:/Users/HP/desktop\\python pasting\\finalstage2\\3.csv\n",
      "C:/Users/HP/desktop\\python pasting\\finalstage2\\4.csv\n",
      "C:/Users/HP/desktop\\python pasting\\finalstage2\\5.csv\n",
      "C:/Users/HP/desktop\\python pasting\\finalstage2\\6.csv\n",
      "C:/Users/HP/desktop\\python pasting\\finalstage2\\7.csv\n",
      "C:/Users/HP/desktop\\python pasting\\finalstage2\\8.csv\n",
      "C:/Users/HP/desktop\\python pasting\\finalstage2\\9.csv\n",
      "C:/Users/HP/desktop\\python pasting\\finalstage3\\1.csv\n",
      "C:/Users/HP/desktop\\python pasting\\finalstage3\\10.csv\n",
      "C:/Users/HP/desktop\\python pasting\\finalstage3\\11.csv\n",
      "C:/Users/HP/desktop\\python pasting\\finalstage3\\12.csv\n",
      "C:/Users/HP/desktop\\python pasting\\finalstage3\\13.csv\n",
      "C:/Users/HP/desktop\\python pasting\\finalstage3\\14.csv\n",
      "C:/Users/HP/desktop\\python pasting\\finalstage3\\15.csv\n",
      "C:/Users/HP/desktop\\python pasting\\finalstage3\\16.csv\n",
      "C:/Users/HP/desktop\\python pasting\\finalstage3\\17.csv\n",
      "C:/Users/HP/desktop\\python pasting\\finalstage3\\18.csv\n",
      "C:/Users/HP/desktop\\python pasting\\finalstage3\\19.csv\n",
      "C:/Users/HP/desktop\\python pasting\\finalstage3\\2.csv\n",
      "C:/Users/HP/desktop\\python pasting\\finalstage3\\20.csv\n",
      "C:/Users/HP/desktop\\python pasting\\finalstage3\\21.csv\n",
      "C:/Users/HP/desktop\\python pasting\\finalstage3\\22.csv\n",
      "C:/Users/HP/desktop\\python pasting\\finalstage3\\23.csv\n",
      "C:/Users/HP/desktop\\python pasting\\finalstage3\\24.csv\n",
      "C:/Users/HP/desktop\\python pasting\\finalstage3\\3.csv\n",
      "C:/Users/HP/desktop\\python pasting\\finalstage3\\4.csv\n",
      "C:/Users/HP/desktop\\python pasting\\finalstage3\\5.csv\n",
      "C:/Users/HP/desktop\\python pasting\\finalstage3\\6.csv\n",
      "C:/Users/HP/desktop\\python pasting\\finalstage3\\7.csv\n",
      "C:/Users/HP/desktop\\python pasting\\finalstage3\\8.csv\n",
      "C:/Users/HP/desktop\\python pasting\\finalstage3\\9.csv\n",
      "C:/Users/HP/desktop\\python pasting\\finalstage4\\1.csv\n",
      "C:/Users/HP/desktop\\python pasting\\finalstage4\\10.csv\n",
      "C:/Users/HP/desktop\\python pasting\\finalstage4\\11.csv\n",
      "C:/Users/HP/desktop\\python pasting\\finalstage4\\12.csv\n",
      "C:/Users/HP/desktop\\python pasting\\finalstage4\\13.csv\n",
      "C:/Users/HP/desktop\\python pasting\\finalstage4\\14.csv\n",
      "C:/Users/HP/desktop\\python pasting\\finalstage4\\15.csv\n",
      "C:/Users/HP/desktop\\python pasting\\finalstage4\\16.csv\n",
      "C:/Users/HP/desktop\\python pasting\\finalstage4\\17.csv\n",
      "C:/Users/HP/desktop\\python pasting\\finalstage4\\18.csv\n",
      "C:/Users/HP/desktop\\python pasting\\finalstage4\\19.csv\n",
      "C:/Users/HP/desktop\\python pasting\\finalstage4\\2.csv\n",
      "C:/Users/HP/desktop\\python pasting\\finalstage4\\20.csv\n",
      "C:/Users/HP/desktop\\python pasting\\finalstage4\\21.csv\n",
      "C:/Users/HP/desktop\\python pasting\\finalstage4\\22.csv\n",
      "C:/Users/HP/desktop\\python pasting\\finalstage4\\23.csv\n",
      "C:/Users/HP/desktop\\python pasting\\finalstage4\\3.csv\n",
      "C:/Users/HP/desktop\\python pasting\\finalstage4\\4.csv\n",
      "C:/Users/HP/desktop\\python pasting\\finalstage4\\5.csv\n",
      "C:/Users/HP/desktop\\python pasting\\finalstage4\\6.csv\n",
      "C:/Users/HP/desktop\\python pasting\\finalstage4\\7.csv\n",
      "C:/Users/HP/desktop\\python pasting\\finalstage4\\8.csv\n",
      "C:/Users/HP/desktop\\python pasting\\finalstage4\\9.csv\n",
      "C:/Users/HP/desktop\\python pasting\\stage1\\1.jpg\n",
      "C:/Users/HP/desktop\\python pasting\\stage1\\10.jpg\n",
      "C:/Users/HP/desktop\\python pasting\\stage1\\11.jpg\n",
      "C:/Users/HP/desktop\\python pasting\\stage1\\12.jpg\n",
      "C:/Users/HP/desktop\\python pasting\\stage1\\13.jpg\n",
      "C:/Users/HP/desktop\\python pasting\\stage1\\14.jpg\n",
      "C:/Users/HP/desktop\\python pasting\\stage1\\15.jpg\n",
      "C:/Users/HP/desktop\\python pasting\\stage1\\16.jpg\n",
      "C:/Users/HP/desktop\\python pasting\\stage1\\17.jpg\n",
      "C:/Users/HP/desktop\\python pasting\\stage1\\18.jpg\n",
      "C:/Users/HP/desktop\\python pasting\\stage1\\19.jpg\n",
      "C:/Users/HP/desktop\\python pasting\\stage1\\2.jpg\n",
      "C:/Users/HP/desktop\\python pasting\\stage1\\20.jpg\n",
      "C:/Users/HP/desktop\\python pasting\\stage1\\21.jpg\n",
      "C:/Users/HP/desktop\\python pasting\\stage1\\22.jpg\n",
      "C:/Users/HP/desktop\\python pasting\\stage1\\23.jpg\n",
      "C:/Users/HP/desktop\\python pasting\\stage1\\24.jpg\n",
      "C:/Users/HP/desktop\\python pasting\\stage1\\25.jpg\n",
      "C:/Users/HP/desktop\\python pasting\\stage1\\26.jpg\n",
      "C:/Users/HP/desktop\\python pasting\\stage1\\27.jpg\n",
      "C:/Users/HP/desktop\\python pasting\\stage1\\28.jpg\n",
      "C:/Users/HP/desktop\\python pasting\\stage1\\29.jpg\n",
      "C:/Users/HP/desktop\\python pasting\\stage1\\3.jpg\n",
      "C:/Users/HP/desktop\\python pasting\\stage1\\30.jpg\n",
      "C:/Users/HP/desktop\\python pasting\\stage1\\31.jpg\n",
      "C:/Users/HP/desktop\\python pasting\\stage1\\32.jpg\n",
      "C:/Users/HP/desktop\\python pasting\\stage1\\4.jpg\n",
      "C:/Users/HP/desktop\\python pasting\\stage1\\5.jpg\n",
      "C:/Users/HP/desktop\\python pasting\\stage1\\6.jpg\n",
      "C:/Users/HP/desktop\\python pasting\\stage1\\7.jpg\n",
      "C:/Users/HP/desktop\\python pasting\\stage1\\8.jpg\n",
      "C:/Users/HP/desktop\\python pasting\\stage1\\9.jpg\n",
      "C:/Users/HP/desktop\\python pasting\\stage2\\1.jpg\n",
      "C:/Users/HP/desktop\\python pasting\\stage2\\10.jpg\n",
      "C:/Users/HP/desktop\\python pasting\\stage2\\11.jpg\n",
      "C:/Users/HP/desktop\\python pasting\\stage2\\12.jpg\n",
      "C:/Users/HP/desktop\\python pasting\\stage2\\13.jpg\n",
      "C:/Users/HP/desktop\\python pasting\\stage2\\14.jpg\n",
      "C:/Users/HP/desktop\\python pasting\\stage2\\15.jpg\n",
      "C:/Users/HP/desktop\\python pasting\\stage2\\16.jpg\n",
      "C:/Users/HP/desktop\\python pasting\\stage2\\17.jpg\n",
      "C:/Users/HP/desktop\\python pasting\\stage2\\18.jpg\n",
      "C:/Users/HP/desktop\\python pasting\\stage2\\19.jpg\n",
      "C:/Users/HP/desktop\\python pasting\\stage2\\2.jpg\n",
      "C:/Users/HP/desktop\\python pasting\\stage2\\20.jpg\n",
      "C:/Users/HP/desktop\\python pasting\\stage2\\21.jpg\n",
      "C:/Users/HP/desktop\\python pasting\\stage2\\3.jpg\n",
      "C:/Users/HP/desktop\\python pasting\\stage2\\4.jpg\n",
      "C:/Users/HP/desktop\\python pasting\\stage2\\5.jpg\n",
      "C:/Users/HP/desktop\\python pasting\\stage2\\6.jpg\n",
      "C:/Users/HP/desktop\\python pasting\\stage2\\7.jpg\n",
      "C:/Users/HP/desktop\\python pasting\\stage2\\8.jpg\n",
      "C:/Users/HP/desktop\\python pasting\\stage2\\9.jpg\n",
      "C:/Users/HP/desktop\\python pasting\\stage3\\1.jpg\n",
      "C:/Users/HP/desktop\\python pasting\\stage3\\10.jpg\n",
      "C:/Users/HP/desktop\\python pasting\\stage3\\11.jpg\n",
      "C:/Users/HP/desktop\\python pasting\\stage3\\12.jpg\n",
      "C:/Users/HP/desktop\\python pasting\\stage3\\13.jpg\n",
      "C:/Users/HP/desktop\\python pasting\\stage3\\14.jpg\n",
      "C:/Users/HP/desktop\\python pasting\\stage3\\15.jpg\n",
      "C:/Users/HP/desktop\\python pasting\\stage3\\16.jpg\n",
      "C:/Users/HP/desktop\\python pasting\\stage3\\17.jpg\n",
      "C:/Users/HP/desktop\\python pasting\\stage3\\18.jpg\n",
      "C:/Users/HP/desktop\\python pasting\\stage3\\19.jpg\n",
      "C:/Users/HP/desktop\\python pasting\\stage3\\2.jpg\n",
      "C:/Users/HP/desktop\\python pasting\\stage3\\20.jpg\n",
      "C:/Users/HP/desktop\\python pasting\\stage3\\21.jpg\n",
      "C:/Users/HP/desktop\\python pasting\\stage3\\22.jpg\n",
      "C:/Users/HP/desktop\\python pasting\\stage3\\23.jpg\n",
      "C:/Users/HP/desktop\\python pasting\\stage3\\24.jpg\n",
      "C:/Users/HP/desktop\\python pasting\\stage3\\3.jpg\n",
      "C:/Users/HP/desktop\\python pasting\\stage3\\4.jpg\n",
      "C:/Users/HP/desktop\\python pasting\\stage3\\5.jpg\n",
      "C:/Users/HP/desktop\\python pasting\\stage3\\6.jpg\n",
      "C:/Users/HP/desktop\\python pasting\\stage3\\7.jpg\n",
      "C:/Users/HP/desktop\\python pasting\\stage3\\8.jpg\n",
      "C:/Users/HP/desktop\\python pasting\\stage3\\9.jpg\n",
      "C:/Users/HP/desktop\\python pasting\\stage4\\1.jpg\n",
      "C:/Users/HP/desktop\\python pasting\\stage4\\10.jpg\n",
      "C:/Users/HP/desktop\\python pasting\\stage4\\11.jpg\n",
      "C:/Users/HP/desktop\\python pasting\\stage4\\12.jpg\n",
      "C:/Users/HP/desktop\\python pasting\\stage4\\13.jpg\n",
      "C:/Users/HP/desktop\\python pasting\\stage4\\14.jpg\n",
      "C:/Users/HP/desktop\\python pasting\\stage4\\15.jpg\n",
      "C:/Users/HP/desktop\\python pasting\\stage4\\16.jpg\n",
      "C:/Users/HP/desktop\\python pasting\\stage4\\17.jpg\n",
      "C:/Users/HP/desktop\\python pasting\\stage4\\18.jpg\n",
      "C:/Users/HP/desktop\\python pasting\\stage4\\19.jpg\n",
      "C:/Users/HP/desktop\\python pasting\\stage4\\2.jpg\n",
      "C:/Users/HP/desktop\\python pasting\\stage4\\20.jpg\n",
      "C:/Users/HP/desktop\\python pasting\\stage4\\21.jpg\n",
      "C:/Users/HP/desktop\\python pasting\\stage4\\22.jpg\n",
      "C:/Users/HP/desktop\\python pasting\\stage4\\23.jpg\n",
      "C:/Users/HP/desktop\\python pasting\\stage4\\3.jpg\n",
      "C:/Users/HP/desktop\\python pasting\\stage4\\4.jpg\n",
      "C:/Users/HP/desktop\\python pasting\\stage4\\5.jpg\n",
      "C:/Users/HP/desktop\\python pasting\\stage4\\6.jpg\n",
      "C:/Users/HP/desktop\\python pasting\\stage4\\7.jpg\n",
      "C:/Users/HP/desktop\\python pasting\\stage4\\8.jpg\n",
      "C:/Users/HP/desktop\\python pasting\\stage4\\9.jpg\n",
      "C:/Users/HP/desktop\\python pasting\\csvstage1\n",
      "C:/Users/HP/desktop\\python pasting\\csvstage2\n",
      "C:/Users/HP/desktop\\python pasting\\csvstage3\n",
      "C:/Users/HP/desktop\\python pasting\\csvstage4\n",
      "C:/Users/HP/desktop\\python pasting\\finalstage1\n",
      "C:/Users/HP/desktop\\python pasting\\finalstage2\n",
      "C:/Users/HP/desktop\\python pasting\\finalstage3\n",
      "C:/Users/HP/desktop\\python pasting\\finalstage4\n",
      "C:/Users/HP/desktop\\python pasting\\stage1\n",
      "C:/Users/HP/desktop\\python pasting\\stage2\n",
      "C:/Users/HP/desktop\\python pasting\\stage3\n",
      "C:/Users/HP/desktop\\python pasting\\stage4\n",
      "C:/Users/HP/desktop\\reampling\\.Rhistory\n",
      "C:/Users/HP/desktop\\reampling\\bootstrapandjacknife.pdf\n",
      "C:/Users/HP/desktop\\reampling\\bootstrappackage.pdf\n",
      "C:/Users/HP/desktop\\reampling\\jacknife.pdf\n",
      "C:/Users/HP/desktop\\reampling\\jacknifevsbootstrap.R\n",
      "C:/Users/HP/desktop\\reampling\\meanbootjack.R\n",
      "C:/Users/HP/desktop\\reampling\\meanmedian.R\n",
      "C:/Users/HP/desktop\\reampling\\RESAMPLING TECHNIQUES.pptx\n",
      "C:/Users/HP/desktop\\REGRESSION\\ex1\\EX1.csv\n",
      "C:/Users/HP/desktop\\REGRESSION\\ex1\\ex1.docx\n",
      "C:/Users/HP/desktop\\REGRESSION\\ex1\\ex1.jpeg\n",
      "C:/Users/HP/desktop\\REGRESSION\\ex1\\EX1.R\n",
      "C:/Users/HP/desktop\\REGRESSION\\ex1\\SIMPLE LINEAR REGRESSION ON NUMBER OF COMPONENTS REPAIRED VS LENGTH OF SERVICE CALLS.docx\n",
      "C:/Users/HP/desktop\\REGRESSION\\ex2\\EX1.R\n",
      "C:/Users/HP/desktop\\REGRESSION\\ex2\\ex2.csv\n",
      "C:/Users/HP/desktop\\REGRESSION\\ex2\\ex2.docx\n",
      "C:/Users/HP/desktop\\REGRESSION\\ex2\\ex2.jpeg\n",
      "C:/Users/HP/desktop\\REGRESSION\\ex2\\SIMPLE LINEAR REGRESSION ON NUMBER OF COMPONENTS REPAIRED VS LENGTH OF SERVICE CALLS.docx\n",
      "C:/Users/HP/desktop\\REGRESSION\\ex3\\.Rhistory\n",
      "C:/Users/HP/desktop\\REGRESSION\\ex3\\Data.txt\n",
      "C:/Users/HP/desktop\\REGRESSION\\ex3\\ex3.jpeg\n",
      "C:/Users/HP/desktop\\REGRESSION\\ex3\\ex3.R\n",
      "C:/Users/HP/desktop\\REGRESSION\\ex3\\ex3residuals.jpeg\n",
      "C:/Users/HP/desktop\\REGRESSION\\ex3\\ex3residualvspredictor.jpeg\n",
      "C:/Users/HP/desktop\\REGRESSION\\ex3\\Exercise3.docx\n",
      "C:/Users/HP/desktop\\REGRESSION\\ex3\\Residual analysis.docx\n",
      "C:/Users/HP/desktop\\REGRESSION\\ex4\\plots\\plot1.jpeg\n",
      "C:/Users/HP/desktop\\REGRESSION\\ex4\\plots\\plot2.jpeg\n",
      "C:/Users/HP/desktop\\REGRESSION\\ex4\\plots\\plot21.jpeg\n",
      "C:/Users/HP/desktop\\REGRESSION\\ex4\\plots\\plot3.jpeg\n",
      "C:/Users/HP/desktop\\REGRESSION\\ex4\\plots\\plot4.jpeg\n",
      "C:/Users/HP/desktop\\REGRESSION\\ex4\\plots\\plotex41.jpeg\n",
      "C:/Users/HP/desktop\\REGRESSION\\ex4\\plots\\plotex4_2.jpeg\n",
      "C:/Users/HP/desktop\\REGRESSION\\ex4\\plots\\plotex4_2_1.jpeg\n",
      "C:/Users/HP/desktop\\REGRESSION\\ex4\\.Rhistory\n",
      "C:/Users/HP/desktop\\REGRESSION\\ex4\\data.txt\n",
      "C:/Users/HP/desktop\\REGRESSION\\ex4\\data2.txt\n",
      "C:/Users/HP/desktop\\REGRESSION\\ex4\\ex4.R\n",
      "C:/Users/HP/desktop\\REGRESSION\\ex4\\ex4_1.docx\n",
      "C:/Users/HP/desktop\\REGRESSION\\ex4\\ex4_2.docx\n",
      "C:/Users/HP/desktop\\REGRESSION\\ex4\\exmamal.jpeg\n",
      "C:/Users/HP/desktop\\REGRESSION\\ex4\\mamal.R\n",
      "C:/Users/HP/desktop\\REGRESSION\\ex4\\Transformation.docx\n",
      "C:/Users/HP/desktop\\REGRESSION\\ex4\\plots\n",
      "C:/Users/HP/desktop\\REGRESSION\\ex5\\plots\\fit1.jpeg\n",
      "C:/Users/HP/desktop\\REGRESSION\\ex5\\plots\\fit1_trans1.jpeg\n",
      "C:/Users/HP/desktop\\REGRESSION\\ex5\\plots\\fit2.jpeg\n",
      "C:/Users/HP/desktop\\REGRESSION\\ex5\\plots\\fit3.jpeg\n",
      "C:/Users/HP/desktop\\REGRESSION\\ex5\\plots\\fit4.jpeg\n",
      "C:/Users/HP/desktop\\REGRESSION\\ex5\\plots\\fit_trans1_plot.jpeg\n",
      "C:/Users/HP/desktop\\REGRESSION\\ex5\\plots\\fit_trans_1.jpeg\n",
      "C:/Users/HP/desktop\\REGRESSION\\ex5\\plots\\fit_trans_2.jpeg\n",
      "C:/Users/HP/desktop\\REGRESSION\\ex5\\plots\\fit_trans_2_plot.jpeg\n",
      "C:/Users/HP/desktop\\REGRESSION\\ex5\\plots\\fit_trans_3.jpeg\n",
      "C:/Users/HP/desktop\\REGRESSION\\ex5\\plots\\fit_trans_4.jpeg\n",
      "C:/Users/HP/desktop\\REGRESSION\\ex5\\plots\\plot1.jpeg\n",
      "C:/Users/HP/desktop\\REGRESSION\\ex5\\plots\\transformplot.jpeg\n",
      "C:/Users/HP/desktop\\REGRESSION\\ex5\\data.csv\n",
      "C:/Users/HP/desktop\\REGRESSION\\ex5\\ex5.docx\n",
      "C:/Users/HP/desktop\\REGRESSION\\ex5\\ex5.R\n",
      "C:/Users/HP/desktop\\REGRESSION\\ex5\\Transformation.docx\n",
      "C:/Users/HP/desktop\\REGRESSION\\ex5\\plots\n",
      "C:/Users/HP/desktop\\REGRESSION\\ex6\\ex6.docx\n",
      "C:/Users/HP/desktop\\REGRESSION\\ex6\\Exercise on dummy.csv\n",
      "C:/Users/HP/desktop\\REGRESSION\\ex6\\Exercise on dummy.xlsx\n",
      "C:/Users/HP/desktop\\REGRESSION\\ex6\\Exercise-6.docx\n",
      "C:/Users/HP/desktop\\REGRESSION\\ex6\\plot1.jpeg\n",
      "C:/Users/HP/desktop\\REGRESSION\\ex6\\plot3.jpeg\n",
      "C:/Users/HP/desktop\\REGRESSION\\ex6\\residuals.jpeg\n",
      "C:/Users/HP/desktop\\REGRESSION\\logistic regression\\binary.csv\n",
      "C:/Users/HP/desktop\\REGRESSION\\logistic regression\\logistic.R\n",
      "C:/Users/HP/desktop\\REGRESSION\\ex1\n",
      "C:/Users/HP/desktop\\REGRESSION\\ex2\n",
      "C:/Users/HP/desktop\\REGRESSION\\ex3\n",
      "C:/Users/HP/desktop\\REGRESSION\\ex4\n",
      "C:/Users/HP/desktop\\REGRESSION\\ex5\n",
      "C:/Users/HP/desktop\\REGRESSION\\ex6\n",
      "C:/Users/HP/desktop\\REGRESSION\\logistic regression\n",
      "C:/Users/HP/desktop\\thinkpython2\\pythoncodesthinkpython2\\recursionfunction.ipynb.py\n",
      "C:/Users/HP/desktop\\thinkpython2\\pythoncodesthinkpython2\\returnfunction.py\n",
      "C:/Users/HP/desktop\\thinkpython2\\pythoncodesthinkpython2\\turtle.py\n",
      "C:/Users/HP/desktop\\thinkpython2\\bear.txt\n",
      "C:/Users/HP/desktop\\thinkpython2\\clock.txt\n",
      "C:/Users/HP/desktop\\thinkpython2\\ema.txt\n",
      "C:/Users/HP/desktop\\thinkpython2\\markov.txt\n",
      "C:/Users/HP/desktop\\thinkpython2\\output.txt\n",
      "C:/Users/HP/desktop\\thinkpython2\\rony.txt\n",
      "C:/Users/HP/desktop\\thinkpython2\\thinkpython2.pdf\n",
      "C:/Users/HP/desktop\\thinkpython2\\words.txt\n",
      "C:/Users/HP/desktop\\thinkpython2\\pythoncodesthinkpython2\n",
      "C:/Users/HP/desktop\\time series assignment\\time series assignment no 1\\Time series\\curvefitting.csv\n",
      "C:/Users/HP/desktop\\time series assignment\\time series assignment no 1\\Time series\\data.csv\n",
      "C:/Users/HP/desktop\\time series assignment\\time series assignment no 1\\Time series\\data1.csv\n",
      "C:/Users/HP/desktop\\time series assignment\\time series assignment no 1\\Time series\\data_exponentialsmoothing.csv\n",
      "C:/Users/HP/desktop\\time series assignment\\time series assignment no 1\\Time series\\data_mov_average_even.csv\n",
      "C:/Users/HP/desktop\\time series assignment\\time series assignment no 1\\Time series\\data_mov_average_odd.csv\n",
      "C:/Users/HP/desktop\\time series assignment\\time series assignment no 1\\Time series\\deaseas.jpg\n",
      "C:/Users/HP/desktop\\time series assignment\\time series assignment no 1\\Time series\\plot.jpg\n",
      "C:/Users/HP/desktop\\time series assignment\\time series assignment no 1\\Time series\\seas2.R\n",
      "C:/Users/HP/desktop\\time series assignment\\time series assignment no 1\\Time series\\seasonality.csv\n",
      "C:/Users/HP/desktop\\time series assignment\\time series assignment no 1\\Time series\\seasonality.R\n",
      "C:/Users/HP/desktop\\time series assignment\\time series assignment no 1\\Time series\\TIME SERIES ASSIGNMENT NO.docx\n",
      "C:/Users/HP/desktop\\time series assignment\\time series assignment no 1\\Time series\\TIME SERIES ASSIGNMENT NO1.docx\n",
      "C:/Users/HP/desktop\\time series assignment\\time series assignment no 1\\Time series\\timeseriesplot.R\n",
      "C:/Users/HP/desktop\\time series assignment\\time series assignment no 1\\.RData\n",
      "C:/Users/HP/desktop\\time series assignment\\time series assignment no 1\\.Rhistory\n",
      "C:/Users/HP/desktop\\time series assignment\\time series assignment no 1\\data.csv\n",
      "C:/Users/HP/desktop\\time series assignment\\time series assignment no 1\\data_exponentialsmoothing.csv\n",
      "C:/Users/HP/desktop\\time series assignment\\time series assignment no 1\\data_mov_average_even.csv\n",
      "C:/Users/HP/desktop\\time series assignment\\time series assignment no 1\\data_mov_average_odd.csv\n",
      "C:/Users/HP/desktop\\time series assignment\\time series assignment no 1\\firstorderdifflog.jpeg\n",
      "C:/Users/HP/desktop\\time series assignment\\time series assignment no 1\\slogstockbfrefrstorderdiff.jpeg\n",
      "C:/Users/HP/desktop\\time series assignment\\time series assignment no 1\\TIME SERIES ASSIGNMENT NO.docx\n",
      "C:/Users/HP/desktop\\time series assignment\\time series assignment no 1\\Time series assignment.pdf\n",
      "C:/Users/HP/desktop\\time series assignment\\time series assignment no 1\\timeseriesplot.R\n",
      "C:/Users/HP/desktop\\time series assignment\\time series assignment no 1\\Time_Series_Assimnment 1.docx\n",
      "C:/Users/HP/desktop\\time series assignment\\time series assignment no 1\\ts_exp.jpg\n",
      "C:/Users/HP/desktop\\time series assignment\\time series assignment no 1\\ts_ma.jpg\n",
      "C:/Users/HP/desktop\\time series assignment\\time series assignment no 1\\ts_plot.jpg\n",
      "C:/Users/HP/desktop\\time series assignment\\time series assignment no 1\\Time series\n",
      "C:/Users/HP/desktop\\time series assignment\\time series assignment no 2\\.RData\n",
      "C:/Users/HP/desktop\\time series assignment\\time series assignment no 2\\.Rhistory\n",
      "C:/Users/HP/desktop\\time series assignment\\time series assignment no 2\\acf.xlsx\n",
      "C:/Users/HP/desktop\\time series assignment\\time series assignment no 2\\acfofarch.xlsx\n",
      "C:/Users/HP/desktop\\time series assignment\\time series assignment no 2\\acfteststatistic.txt\n",
      "C:/Users/HP/desktop\\time series assignment\\time series assignment no 2\\apple.csv\n",
      "C:/Users/HP/desktop\\time series assignment\\time series assignment no 2\\ARCH MODEL_3.pdf\n",
      "C:/Users/HP/desktop\\time series assignment\\time series assignment no 2\\arimagarch.pdf\n",
      "C:/Users/HP/desktop\\time series assignment\\time series assignment no 2\\coefficients of ar16.txt\n",
      "C:/Users/HP/desktop\\time series assignment\\time series assignment no 2\\coefficients of ar4.txt\n",
      "C:/Users/HP/desktop\\time series assignment\\time series assignment no 2\\pacf.xlsx\n",
      "C:/Users/HP/desktop\\time series assignment\\time series assignment no 2\\pacfteststatistic.txt\n",
      "C:/Users/HP/desktop\\time series assignment\\time series assignment no 2\\residualanalysisar16.xlsx\n",
      "C:/Users/HP/desktop\\time series assignment\\time series assignment no 2\\residualanalysisar4.xlsx\n",
      "C:/Users/HP/desktop\\time series assignment\\time series assignment no 2\\residualteststatisticacfar16.txt\n",
      "C:/Users/HP/desktop\\time series assignment\\time series assignment no 2\\residualteststatisticacfar4.txt\n",
      "C:/Users/HP/desktop\\time series assignment\\time series assignment no 2\\s.e.ar16.txt\n",
      "C:/Users/HP/desktop\\time series assignment\\time series assignment no 2\\s.e.ar4.txt\n",
      "C:/Users/HP/desktop\\time series assignment\\time series assignment no 2\\statistical finance.docx\n",
      "C:/Users/HP/desktop\\time series assignment\\time series assignment no 2\\tabulatedvalueschisq.txt\n",
      "C:/Users/HP/desktop\\time series assignment\\time series assignment no 2\\tcs.csv\n",
      "C:/Users/HP/desktop\\time series assignment\\time series assignment no 2\\testingcoeffar16.xlsx\n",
      "C:/Users/HP/desktop\\time series assignment\\time series assignment no 2\\testingcoeffar4.xlsx\n",
      "C:/Users/HP/desktop\\time series assignment\\time series assignment no 2\\volatility.R\n",
      "C:/Users/HP/desktop\\time series assignment\\time series assignment no 1\n",
      "C:/Users/HP/desktop\\time series assignment\\time series assignment no 2\n",
      "C:/Users/HP/desktop\\Bin Tere.mp3\n",
      "C:/Users/HP/desktop\\Bolo Na Tum Zaraa.mp3\n",
      "C:/Users/HP/desktop\\Camera.lnk\n",
      "C:/Users/HP/desktop\\Dabi Dabi Kwahishien.mp3\n",
      "C:/Users/HP/desktop\\desktop.ini\n",
      "C:/Users/HP/desktop\\features.csv\n",
      "C:/Users/HP/desktop\\Google Chrome.lnk\n",
      "C:/Users/HP/desktop\\KMPlayer.lnk\n",
      "C:/Users/HP/desktop\\Microsoft Office Excel 2007.lnk\n",
      "C:/Users/HP/desktop\\Microsoft Office PowerPoint 2007.lnk\n",
      "C:/Users/HP/desktop\\Microsoft Office Word 2007.lnk\n",
      "C:/Users/HP/desktop\\Narcos.S02E09.720p.WEBRiP.x265.ShAaNiG.mkv\n",
      "C:/Users/HP/desktop\\Narcos.S02E10.720p.WEBRiP.x265.ShAaNiG.mkv\n",
      "C:/Users/HP/desktop\\presentation.pptx\n",
      "C:/Users/HP/desktop\\PROJECT.docx\n",
      "C:/Users/HP/desktop\\cism\n",
      "C:/Users/HP/desktop\\machine learning\n",
      "C:/Users/HP/desktop\\neural networks\n",
      "C:/Users/HP/desktop\\python pasting\n",
      "C:/Users/HP/desktop\\reampling\n",
      "C:/Users/HP/desktop\\REGRESSION\n",
      "C:/Users/HP/desktop\\thinkpython2\n",
      "C:/Users/HP/desktop\\time series assignment\n"
     ]
    }
   ],
   "source": [
    "import os\n",
    "for root, dirs, files in os.walk(\"C:/Users/HP/desktop\", topdown=False):\n",
    "    for name in files:\n",
    "        print(os.path.join(root, name))\n",
    "    for name in dirs:\n",
    "        print(os.path.join(root, name))"
   ]
  },
  {
   "cell_type": "code",
   "execution_count": null,
   "metadata": {
    "collapsed": true
   },
   "outputs": [],
   "source": [
    "#14.5 Catching exceptions"
   ]
  },
  {
   "cell_type": "code",
   "execution_count": null,
   "metadata": {
    "collapsed": true
   },
   "outputs": [],
   "source": [
    "'''\n",
    "It is better to go ahead and try—and deal with problems if they happen—which is exactly\n",
    "what the try statement does. The syntax is similar to an if...else statement:"
   ]
  },
  {
   "cell_type": "code",
   "execution_count": 53,
   "metadata": {
    "collapsed": false
   },
   "outputs": [
    {
     "name": "stdout",
     "output_type": "stream",
     "text": [
      "Something went wrong.\n"
     ]
    }
   ],
   "source": [
    "try:\n",
    "    fin = open('bad_file')\n",
    "except:\n",
    "    print('Something went wrong.')"
   ]
  },
  {
   "cell_type": "code",
   "execution_count": null,
   "metadata": {
    "collapsed": true
   },
   "outputs": [],
   "source": [
    "#14.6 Databases"
   ]
  },
  {
   "cell_type": "code",
   "execution_count": 1,
   "metadata": {
    "collapsed": true
   },
   "outputs": [],
   "source": [
    "import dbm\n",
    "db=dbm.open('captions','c')"
   ]
  },
  {
   "cell_type": "code",
   "execution_count": 2,
   "metadata": {
    "collapsed": true
   },
   "outputs": [],
   "source": [
    "db['cheese.png']='photo of me'"
   ]
  },
  {
   "cell_type": "code",
   "execution_count": 3,
   "metadata": {
    "collapsed": false
   },
   "outputs": [
    {
     "data": {
      "text/plain": [
       "b'photo of me'"
      ]
     },
     "execution_count": 3,
     "metadata": {},
     "output_type": "execute_result"
    }
   ],
   "source": [
    "db['cheese.png']#The result is a bytes object, which is why it begins with b"
   ]
  },
  {
   "cell_type": "code",
   "execution_count": 4,
   "metadata": {
    "collapsed": false
   },
   "outputs": [
    {
     "data": {
      "text/plain": [
       "b'Photo of John Cleese doing a silly walk.'"
      ]
     },
     "execution_count": 4,
     "metadata": {},
     "output_type": "execute_result"
    }
   ],
   "source": [
    "db['cleese.png'] = 'Photo of John Cleese doing a silly walk.'\n",
    "db['cleese.png']"
   ]
  },
  {
   "cell_type": "code",
   "execution_count": 5,
   "metadata": {
    "collapsed": false
   },
   "outputs": [
    {
     "name": "stdout",
     "output_type": "stream",
     "text": [
      "b'cheese.png' b'photo of me'\n",
      "b'cleese.png' b'Photo of John Cleese doing a silly walk.'\n"
     ]
    }
   ],
   "source": [
    "for key in db:\n",
    "    print(key,db[key])"
   ]
  },
  {
   "cell_type": "code",
   "execution_count": 6,
   "metadata": {
    "collapsed": true
   },
   "outputs": [],
   "source": [
    "db.close()"
   ]
  },
  {
   "cell_type": "code",
   "execution_count": null,
   "metadata": {
    "collapsed": true
   },
   "outputs": [],
   "source": [
    "#14.7 Pickling"
   ]
  },
  {
   "cell_type": "code",
   "execution_count": null,
   "metadata": {
    "collapsed": true
   },
   "outputs": [],
   "source": [
    "'''\n",
    "A limitation of dbm is that the keys and values have to be strings or bytes. If you try to use\n",
    "any other type, you get an error.\n",
    "The pickle module can help. It translates almost any type of object into a string suitable\n",
    "for storage in a database, and then translates strings back into objects."
   ]
  },
  {
   "cell_type": "code",
   "execution_count": null,
   "metadata": {
    "collapsed": true
   },
   "outputs": [],
   "source": [
    "'''\n",
    "pickle.dumps takes an object as a parameter and returns a string representation (dumps is\n",
    "short for “dump string”):"
   ]
  },
  {
   "cell_type": "code",
   "execution_count": 7,
   "metadata": {
    "collapsed": false
   },
   "outputs": [
    {
     "data": {
      "text/plain": [
       "b'\\x80\\x03]q\\x00(K\\x01K\\x02K\\x03e.'"
      ]
     },
     "execution_count": 7,
     "metadata": {},
     "output_type": "execute_result"
    }
   ],
   "source": [
    "import pickle\n",
    "t=[1,2,3]\n",
    "pickle.dumps(t)"
   ]
  },
  {
   "cell_type": "code",
   "execution_count": 8,
   "metadata": {
    "collapsed": false
   },
   "outputs": [
    {
     "data": {
      "text/plain": [
       "[1, 2, 3]"
      ]
     },
     "execution_count": 8,
     "metadata": {},
     "output_type": "execute_result"
    }
   ],
   "source": [
    "t1 = [1, 2, 3]\n",
    "s = pickle.dumps(t1)\n",
    "t2 = pickle.loads(s)\n",
    "t2"
   ]
  },
  {
   "cell_type": "code",
   "execution_count": null,
   "metadata": {
    "collapsed": true
   },
   "outputs": [],
   "source": [
    "'''\n",
    "Although the new object has the same value as the old, it is not (in general) the same object:"
   ]
  },
  {
   "cell_type": "code",
   "execution_count": 9,
   "metadata": {
    "collapsed": false
   },
   "outputs": [
    {
     "data": {
      "text/plain": [
       "True"
      ]
     },
     "execution_count": 9,
     "metadata": {},
     "output_type": "execute_result"
    }
   ],
   "source": [
    "t1==t2"
   ]
  },
  {
   "cell_type": "code",
   "execution_count": 10,
   "metadata": {
    "collapsed": false
   },
   "outputs": [
    {
     "data": {
      "text/plain": [
       "False"
      ]
     },
     "execution_count": 10,
     "metadata": {},
     "output_type": "execute_result"
    }
   ],
   "source": [
    "t1 is t2"
   ]
  },
  {
   "cell_type": "code",
   "execution_count": null,
   "metadata": {
    "collapsed": true
   },
   "outputs": [],
   "source": [
    "'''\n",
    "In other words, pickling and then unpickling has the same effect as copying the object.\n",
    "You can use pickle to store non-strings in a database. In fact, this combination is so common\n",
    "that it has been encapsulated in a module called 'shelve'."
   ]
  },
  {
   "cell_type": "code",
   "execution_count": null,
   "metadata": {
    "collapsed": true
   },
   "outputs": [],
   "source": [
    "#writing modules"
   ]
  },
  {
   "cell_type": "code",
   "execution_count": 17,
   "metadata": {
    "collapsed": false
   },
   "outputs": [],
   "source": [
    "import returnfunction"
   ]
  },
  {
   "cell_type": "code",
   "execution_count": 19,
   "metadata": {
    "collapsed": false
   },
   "outputs": [
    {
     "data": {
      "text/plain": [
       "-1"
      ]
     },
     "execution_count": 19,
     "metadata": {},
     "output_type": "execute_result"
    }
   ],
   "source": [
    "returnfunction.compare(5,7)"
   ]
  },
  {
   "cell_type": "code",
   "execution_count": 8,
   "metadata": {
    "collapsed": false
   },
   "outputs": [
    {
     "name": "stdout",
     "output_type": "stream",
     "text": [
      "7\n"
     ]
    }
   ],
   "source": [
    "if __name__ == '__main__':\n",
    "    print(linecount('wc.py'))"
   ]
  },
  {
   "cell_type": "code",
   "execution_count": 1,
   "metadata": {
    "collapsed": false
   },
   "outputs": [
    {
     "name": "stdout",
     "output_type": "stream",
     "text": [
      "7\n"
     ]
    }
   ],
   "source": [
    "import wc"
   ]
  },
  {
   "cell_type": "code",
   "execution_count": 2,
   "metadata": {
    "collapsed": false
   },
   "outputs": [
    {
     "name": "stdout",
     "output_type": "stream",
     "text": [
      "__main__\n"
     ]
    }
   ],
   "source": [
    "print(__name__)"
   ]
  },
  {
   "cell_type": "code",
   "execution_count": 1,
   "metadata": {
    "collapsed": false
   },
   "outputs": [
    {
     "name": "stdout",
     "output_type": "stream",
     "text": [
      "7\n"
     ]
    }
   ],
   "source": [
    "import wc"
   ]
  },
  {
   "cell_type": "code",
   "execution_count": 4,
   "metadata": {
    "collapsed": false
   },
   "outputs": [
    {
     "data": {
      "text/plain": [
       "<module 'wc' from 'C:\\\\Users\\\\HP\\\\thinkpython2\\\\wc.py'>"
      ]
     },
     "execution_count": 4,
     "metadata": {},
     "output_type": "execute_result"
    }
   ],
   "source": [
    "wc"
   ]
  },
  {
   "cell_type": "code",
   "execution_count": 5,
   "metadata": {
    "collapsed": false
   },
   "outputs": [
    {
     "name": "stdout",
     "output_type": "stream",
     "text": [
      "7\n"
     ]
    }
   ],
   "source": [
    "def linecount(filename):\n",
    "    count = 0\n",
    "    for line in open(filename):\n",
    "        count += 1\n",
    "    return count\n",
    "\n",
    "print(linecount('wc.py'))"
   ]
  },
  {
   "cell_type": "code",
   "execution_count": 6,
   "metadata": {
    "collapsed": true
   },
   "outputs": [],
   "source": [
    "import wc"
   ]
  },
  {
   "cell_type": "code",
   "execution_count": 7,
   "metadata": {
    "collapsed": false
   },
   "outputs": [
    {
     "name": "stdout",
     "output_type": "stream",
     "text": [
      "__main__\n"
     ]
    }
   ],
   "source": [
    "print(__name__)"
   ]
  },
  {
   "cell_type": "code",
   "execution_count": null,
   "metadata": {
    "collapsed": true
   },
   "outputs": [],
   "source": [
    "#14.10 Debugging"
   ]
  },
  {
   "cell_type": "code",
   "execution_count": 9,
   "metadata": {
    "collapsed": false
   },
   "outputs": [
    {
     "name": "stdout",
     "output_type": "stream",
     "text": [
      "1 2\t 3\n",
      " 4\n"
     ]
    }
   ],
   "source": [
    "s = '1 2\\t 3\\n 4'\n",
    "print(s)"
   ]
  },
  {
   "cell_type": "code",
   "execution_count": 10,
   "metadata": {
    "collapsed": false
   },
   "outputs": [
    {
     "name": "stdout",
     "output_type": "stream",
     "text": [
      "'1 2\\t 3\\n 4'\n"
     ]
    }
   ],
   "source": [
    "print(repr(s))"
   ]
  },
  {
   "cell_type": "code",
   "execution_count": null,
   "metadata": {
    "collapsed": true
   },
   "outputs": [],
   "source": []
  }
 ],
 "metadata": {
  "kernelspec": {
   "display_name": "Python 3",
   "language": "python",
   "name": "python3"
  },
  "language_info": {
   "codemirror_mode": {
    "name": "ipython",
    "version": 3
   },
   "file_extension": ".py",
   "mimetype": "text/x-python",
   "name": "python",
   "nbconvert_exporter": "python",
   "pygments_lexer": "ipython3",
   "version": "3.6.0"
  }
 },
 "nbformat": 4,
 "nbformat_minor": 2
}
