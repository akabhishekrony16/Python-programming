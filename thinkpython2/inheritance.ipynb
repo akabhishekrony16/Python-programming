{
 "cells": [
  {
   "cell_type": "code",
   "execution_count": null,
   "metadata": {
    "collapsed": true
   },
   "outputs": [],
   "source": [
    "#18.1 Card objects"
   ]
  },
  {
   "cell_type": "code",
   "execution_count": null,
   "metadata": {
    "collapsed": true
   },
   "outputs": [],
   "source": [
    "'''\n",
    "Spades = 3     Jack=11   Queen=12   King=13\n",
    "Hearts = 2\n",
    "Diamonds = 1\n",
    "Clubs = 0"
   ]
  },
  {
   "cell_type": "code",
   "execution_count": 12,
   "metadata": {
    "collapsed": true
   },
   "outputs": [],
   "source": [
    "\"\"\"Represents a standard playing card.\"\"\"\n",
    "class card:\n",
    "    def __init__(self,suit=0,rank=2):\n",
    "        self.suit=suit\n",
    "        self.rank=rank\n",
    "    def __str__(self):\n",
    "        return 'suit = %d \\nrank = %d' %(self.suit,self.rank)"
   ]
  },
  {
   "cell_type": "code",
   "execution_count": 13,
   "metadata": {
    "collapsed": false
   },
   "outputs": [
    {
     "name": "stdout",
     "output_type": "stream",
     "text": [
      "suit = 1 \n",
      "rank = 12\n"
     ]
    }
   ],
   "source": [
    "#To create a Card, you call Card with the suit and rank of the card you want.\n",
    "queen_of_diamonds = card(1, 12)\n",
    "print(queen_of_diamonds)"
   ]
  },
  {
   "cell_type": "code",
   "execution_count": null,
   "metadata": {
    "collapsed": true
   },
   "outputs": [],
   "source": [
    "#18.2 Class attributes"
   ]
  },
  {
   "cell_type": "code",
   "execution_count": null,
   "metadata": {
    "collapsed": true
   },
   "outputs": [],
   "source": [
    "'''\n",
    "In order to print Card objects in a way that people can easily read, we need a mapping\n",
    "from the integer codes to the corresponding ranks and suits. A natural way to do that is\n",
    "with lists of strings. We assign these lists to class attributes:"
   ]
  },
  {
   "cell_type": "code",
   "execution_count": 3,
   "metadata": {
    "collapsed": true
   },
   "outputs": [],
   "source": [
    "class card:\n",
    "    suit_names = ['Clubs', 'Diamonds', 'Hearts', 'Spades']\n",
    "    rank_names = [None, 'Ace', '2', '3', '4', '5', '6', '7','8', '9', '10', 'Jack', 'Queen', 'King']\n",
    "    def __init__(self,suit=0,rank=2):\n",
    "        self.suit=suit\n",
    "        self.rank=rank\n",
    "    def __str__(self):\n",
    "        return '%s of %s' % (card.rank_names[self.rank],card.suit_names[self.suit])"
   ]
  },
  {
   "cell_type": "code",
   "execution_count": 25,
   "metadata": {
    "collapsed": false
   },
   "outputs": [
    {
     "data": {
      "text/plain": [
       "'Queen of Diamonds'"
      ]
     },
     "execution_count": 25,
     "metadata": {},
     "output_type": "execute_result"
    }
   ],
   "source": [
    "card1 = card(1, 12)\n",
    "str(card1)"
   ]
  },
  {
   "cell_type": "code",
   "execution_count": null,
   "metadata": {
    "collapsed": true
   },
   "outputs": [],
   "source": [
    "'''\n",
    "Variables like suit_names and rank_names, which are defined inside a class but outside\n",
    "of any method, are called class attributes because they are associated with the class object\n",
    "Card.\n",
    "This term distinguishes them from variables like suit and rank, which are called instance\n",
    "attributes because they are associated with a particular instance."
   ]
  },
  {
   "cell_type": "code",
   "execution_count": null,
   "metadata": {
    "collapsed": true
   },
   "outputs": [],
   "source": [
    "#18.3 Comparing cards"
   ]
  },
  {
   "cell_type": "code",
   "execution_count": null,
   "metadata": {
    "collapsed": true
   },
   "outputs": [],
   "source": [
    "'''\n",
    "__lt__ takes two parameters, self and other, and returns True if self is strictly less than other.\n",
    "\n",
    "The answer might depend on what game you are playing, but to keep things simple, we’ll\n",
    "make the arbitrary choice that suit is more important, so all of the Spades outrank all of the\n",
    "Diamonds, and so on."
   ]
  },
  {
   "cell_type": "code",
   "execution_count": null,
   "metadata": {
    "collapsed": true
   },
   "outputs": [],
   "source": [
    "'''\n",
    "For built-in types, there are relational operators (<, >, ==, etc.) that compare values and determine\n",
    "when one is greater than, less than, or equal to another. For programmer-defined\n",
    "types, we can override the behavior of the built-in operators by providing a method named\n",
    "__lt__, which stands for “less than”."
   ]
  },
  {
   "cell_type": "code",
   "execution_count": 8,
   "metadata": {
    "collapsed": true
   },
   "outputs": [],
   "source": [
    "class card:\n",
    "    suit_names = ['Clubs', 'Diamonds', 'Hearts', 'Spades']\n",
    "    rank_names = [None, 'Ace', '2', '3', '4', '5', '6', '7','8', '9', '10', 'Jack', 'Queen', 'King']\n",
    "    def __init__(self,suit=0,rank=2):\n",
    "        self.suit=suit\n",
    "        self.rank=rank\n",
    "    def __str__(self):\n",
    "        return '%s of %s' % (card.rank_names[self.rank],card.suit_names[self.suit])\n",
    "    def __lt__(self, other):\n",
    "        # check the suits\n",
    "        if self.suit < other.suit: \n",
    "            return True\n",
    "        if self.suit > other.suit: \n",
    "            return False\n",
    "        # suits are the same... check ranks\n",
    "        return self.rank < other.rank"
   ]
  },
  {
   "cell_type": "code",
   "execution_count": 2,
   "metadata": {
    "collapsed": false
   },
   "outputs": [
    {
     "data": {
      "text/plain": [
       "True"
      ]
     },
     "execution_count": 2,
     "metadata": {},
     "output_type": "execute_result"
    }
   ],
   "source": [
    "card1=card(1,12)\n",
    "card2=card(1,13)\n",
    "card1.__lt__(card2)"
   ]
  },
  {
   "cell_type": "code",
   "execution_count": 15,
   "metadata": {
    "collapsed": false
   },
   "outputs": [
    {
     "data": {
      "text/plain": [
       "False"
      ]
     },
     "execution_count": 15,
     "metadata": {},
     "output_type": "execute_result"
    }
   ],
   "source": [
    "#using tuples\n",
    "t1=(2,8)\n",
    "t2=(1,6)\n",
    "t1<t2"
   ]
  },
  {
   "cell_type": "code",
   "execution_count": 7,
   "metadata": {
    "collapsed": true
   },
   "outputs": [],
   "source": [
    "class card:\n",
    "    suit_names = ['Clubs', 'Diamonds', 'Hearts', 'Spades']\n",
    "    rank_names = [None, 'Ace', '2', '3', '4', '5', '6', '7','8', '9', '10', 'Jack', 'Queen', 'King']\n",
    "    def __init__(self,suit=0,rank=2):\n",
    "        self.suit=suit\n",
    "        self.rank=rank\n",
    "    def __str__(self):\n",
    "        return '%s of %s' % (card.rank_names[self.rank],card.suit_names[self.suit])\n",
    "    def __lt__(self, other):\n",
    "        # check the suits\n",
    "        if self.suit < other.suit: \n",
    "            return True\n",
    "        if self.suit > other.suit: \n",
    "            return False\n",
    "        # suits are the same... check ranks\n",
    "        return self.rank < other.rank\n",
    "    def __lt__(self, other):\n",
    "        t1 = self.suit, self.rank\n",
    "        t2 = other.suit, other.rank\n",
    "        return t1 < t2"
   ]
  },
  {
   "cell_type": "code",
   "execution_count": 3,
   "metadata": {
    "collapsed": false
   },
   "outputs": [
    {
     "data": {
      "text/plain": [
       "True"
      ]
     },
     "execution_count": 3,
     "metadata": {},
     "output_type": "execute_result"
    }
   ],
   "source": [
    "card1=card(1,12)\n",
    "card2=card(1,13)\n",
    "card1.__lt__(card2)"
   ]
  },
  {
   "cell_type": "code",
   "execution_count": null,
   "metadata": {
    "collapsed": true
   },
   "outputs": [],
   "source": [
    "#18.4 Decks"
   ]
  },
  {
   "cell_type": "code",
   "execution_count": null,
   "metadata": {
    "collapsed": true
   },
   "outputs": [],
   "source": [
    "'''\n",
    "Now that we have Cards, the next step is to define Decks. Since a deck is made up of cards,\n",
    "it is natural for each Deck to contain a list of cards as an attribute.\n",
    "The following is a class definition for Deck. The init method creates the attribute cards and\n",
    "generates the standard set of fifty-two cards:"
   ]
  },
  {
   "cell_type": "code",
   "execution_count": 9,
   "metadata": {
    "collapsed": false
   },
   "outputs": [],
   "source": [
    "class deck:\n",
    "    def __init__(self):\n",
    "        self.cards = []\n",
    "        for suit in range(4):\n",
    "            for rank in range(1, 14):\n",
    "                card1 = card(suit, rank)\n",
    "                self.cards.append(card1)"
   ]
  },
  {
   "cell_type": "code",
   "execution_count": null,
   "metadata": {
    "collapsed": true
   },
   "outputs": [],
   "source": [
    "#18.5 Printing the deck"
   ]
  },
  {
   "cell_type": "code",
   "execution_count": 18,
   "metadata": {
    "collapsed": false
   },
   "outputs": [
    {
     "name": "stdout",
     "output_type": "stream",
     "text": [
      "a\n",
      "b\n",
      "c\n"
     ]
    }
   ],
   "source": [
    "l=['a','b','c']\n",
    "print('\\n'.join(l))"
   ]
  },
  {
   "cell_type": "code",
   "execution_count": 21,
   "metadata": {
    "collapsed": false
   },
   "outputs": [],
   "source": [
    "class deck:\n",
    "    def __init__(self):\n",
    "        self.cards = []\n",
    "        for suit in range(4):\n",
    "            for rank in range(1, 14):\n",
    "                card1 = card(suit, rank)\n",
    "                self.cards.append(card1)\n",
    "    def __str__(self):\n",
    "        res = []\n",
    "        for card in self.cards:\n",
    "            res.append(str(card))\n",
    "        return '\\n'.join(res)                          "
   ]
  },
  {
   "cell_type": "code",
   "execution_count": 27,
   "metadata": {
    "collapsed": false
   },
   "outputs": [
    {
     "name": "stdout",
     "output_type": "stream",
     "text": [
      "Ace of Clubs\n",
      "2 of Clubs\n",
      "3 of Clubs\n",
      "4 of Clubs\n",
      "5 of Clubs\n",
      "6 of Clubs\n",
      "7 of Clubs\n",
      "8 of Clubs\n",
      "9 of Clubs\n",
      "10 of Clubs\n",
      "Jack of Clubs\n",
      "Queen of Clubs\n",
      "King of Clubs\n",
      "Ace of Diamonds\n",
      "2 of Diamonds\n",
      "3 of Diamonds\n",
      "4 of Diamonds\n",
      "5 of Diamonds\n",
      "6 of Diamonds\n",
      "7 of Diamonds\n",
      "8 of Diamonds\n",
      "9 of Diamonds\n",
      "10 of Diamonds\n",
      "Jack of Diamonds\n",
      "Queen of Diamonds\n",
      "King of Diamonds\n",
      "Ace of Hearts\n",
      "2 of Hearts\n",
      "3 of Hearts\n",
      "4 of Hearts\n",
      "5 of Hearts\n",
      "6 of Hearts\n",
      "7 of Hearts\n",
      "8 of Hearts\n",
      "9 of Hearts\n",
      "10 of Hearts\n",
      "Jack of Hearts\n",
      "Queen of Hearts\n",
      "King of Hearts\n",
      "Ace of Spades\n",
      "2 of Spades\n",
      "3 of Spades\n",
      "4 of Spades\n",
      "5 of Spades\n",
      "6 of Spades\n",
      "7 of Spades\n",
      "8 of Spades\n",
      "9 of Spades\n",
      "10 of Spades\n",
      "Jack of Spades\n",
      "Queen of Spades\n",
      "King of Spades\n"
     ]
    }
   ],
   "source": [
    "decks=deck()\n",
    "print(decks)"
   ]
  },
  {
   "cell_type": "code",
   "execution_count": null,
   "metadata": {
    "collapsed": true
   },
   "outputs": [],
   "source": [
    "'''\n",
    "This method demonstrates an efficient way to accumulate a large string: building a list\n",
    "of strings and then using the string method join. The built-in function str invokes the\n",
    "__str__ method on each card and returns the string representation."
   ]
  },
  {
   "cell_type": "code",
   "execution_count": null,
   "metadata": {
    "collapsed": true
   },
   "outputs": [],
   "source": [
    "#18.6 Add, remove, shuffle and sort"
   ]
  },
  {
   "cell_type": "code",
   "execution_count": 31,
   "metadata": {
    "collapsed": true
   },
   "outputs": [],
   "source": [
    "import random\n",
    "class deck:\n",
    "    def __init__(self):\n",
    "        self.cards = []\n",
    "        for suit in range(4):\n",
    "            for rank in range(1, 14):\n",
    "                card1 = card(suit, rank)\n",
    "                self.cards.append(card1)\n",
    "    def __str__(self):\n",
    "        res = []\n",
    "        for card in self.cards:\n",
    "            res.append(str(card))\n",
    "        return '\\n'.join(res) \n",
    "    def pop_card(self):\n",
    "        return self.cards.pop()#Since pop removes the last card in the list, we are dealing from the bottom of the deck.\n",
    "    def add_card(self, card):\n",
    "        self.cards.append(card)\n",
    "    def shuffle(self):#random.shuffle is used to shuffle objects\n",
    "        random.shuffle(self.cards)\n",
    "    def sort(self):\n",
    "        index=[]\n",
    "        for cards in self.cards:\n",
    "            index.append(cards)\n",
    "        return index.sort()# to sort the cards            "
   ]
  },
  {
   "cell_type": "code",
   "execution_count": 42,
   "metadata": {
    "collapsed": false
   },
   "outputs": [
    {
     "name": "stdout",
     "output_type": "stream",
     "text": [
      "[(1, 2), (5, 6), (6, 9), (8, 7)]\n"
     ]
    }
   ],
   "source": [
    "l=[(1,2),(5,6),(6,9),(8,7)]\n",
    "l.sort()\n",
    "print(l)"
   ]
  },
  {
   "cell_type": "code",
   "execution_count": null,
   "metadata": {
    "collapsed": true
   },
   "outputs": [],
   "source": [
    "#18.7 Inheritance"
   ]
  },
  {
   "cell_type": "code",
   "execution_count": null,
   "metadata": {
    "collapsed": true
   },
   "outputs": [],
   "source": [
    "'''\n",
    "Inheritance is the ability to define a new class that is a modified version of an existing class.\n",
    "As an example, let’s say we want a class to represent a “hand”, that is, the cards held by\n",
    "one player. A hand is similar to a deck: both are made up of a collection of cards, and both\n",
    "require operations like adding and removing cards.\n",
    "A hand is also different from a deck; there are operations we want for hands that don’t\n",
    "make sense for a deck. For example, in poker we might compare two hands to see which\n",
    "one wins. In bridge, we might compute a score for a hand in order to make a bid.\n",
    "This relationship between classes—similar, but different—lends itself to inheritance. To\n",
    "define a new class that inherits from an existing class, you put the name of the existing\n",
    "class in parentheses:"
   ]
  },
  {
   "cell_type": "code",
   "execution_count": null,
   "metadata": {
    "collapsed": true
   },
   "outputs": [],
   "source": [
    "class Hand(Deck):\n",
    "    \"\"\"Represents a hand of playing cards.\"\"\""
   ]
  },
  {
   "cell_type": "code",
   "execution_count": null,
   "metadata": {
    "collapsed": true
   },
   "outputs": [],
   "source": [
    "'''\n",
    "This definition indicates that Hand inherits from Deck; that means we can use methods like\n",
    "pop_card and add_card for Hands as well as Decks.\n",
    "When a new class inherits from an existing one, the existing one is called the parent and\n",
    "the new class is called the child.\n",
    "In this example, Hand inherits __init__ from Deck, but it doesn’t really do what we want:\n",
    "instead of populating the hand with 52 new cards, the init method for Hands should initialize\n",
    "cards with an empty list.\n",
    "If we provide an init method in the Hand class, it overrides the one in the Deck class:"
   ]
  },
  {
   "cell_type": "code",
   "execution_count": 45,
   "metadata": {
    "collapsed": false
   },
   "outputs": [],
   "source": [
    "class hand(deck):\n",
    "    def __init__(self, label=''):\n",
    "        self.cards = []\n",
    "        self.label = label"
   ]
  },
  {
   "cell_type": "code",
   "execution_count": 46,
   "metadata": {
    "collapsed": false
   },
   "outputs": [
    {
     "data": {
      "text/plain": [
       "[]"
      ]
     },
     "execution_count": 46,
     "metadata": {},
     "output_type": "execute_result"
    }
   ],
   "source": [
    "hand=hand('new hand')\n",
    "hand.cards"
   ]
  },
  {
   "cell_type": "code",
   "execution_count": 47,
   "metadata": {
    "collapsed": false
   },
   "outputs": [
    {
     "data": {
      "text/plain": [
       "'new hand'"
      ]
     },
     "execution_count": 47,
     "metadata": {},
     "output_type": "execute_result"
    }
   ],
   "source": [
    "hand.label"
   ]
  },
  {
   "cell_type": "code",
   "execution_count": 48,
   "metadata": {
    "collapsed": false
   },
   "outputs": [
    {
     "name": "stdout",
     "output_type": "stream",
     "text": [
      "King of Spades\n"
     ]
    }
   ],
   "source": [
    "deck=deck()\n",
    "card=deck.pop_card()\n",
    "hand.add_card(card)\n",
    "print(hand)"
   ]
  },
  {
   "cell_type": "code",
   "execution_count": null,
   "metadata": {
    "collapsed": true
   },
   "outputs": [],
   "source": [
    "#A natural next step is to encapsulate this code in a method called move_cards:"
   ]
  },
  {
   "cell_type": "code",
   "execution_count": 49,
   "metadata": {
    "collapsed": true
   },
   "outputs": [],
   "source": [
    "import random\n",
    "class deck:\n",
    "    def __init__(self):\n",
    "        self.cards = []\n",
    "        for suit in range(4):\n",
    "            for rank in range(1, 14):\n",
    "                card1 = card(suit, rank)\n",
    "                self.cards.append(card1)\n",
    "    def __str__(self):\n",
    "        res = []\n",
    "        for card in self.cards:\n",
    "            res.append(str(card))\n",
    "        return '\\n'.join(res) \n",
    "    def pop_card(self):\n",
    "        return self.cards.pop()#Since pop removes the last card in the list, we are dealing from the bottom of the deck.\n",
    "    def add_card(self, card):\n",
    "        self.cards.append(card)\n",
    "    def shuffle(self):#random.shuffle is used to shuffle objects\n",
    "        random.shuffle(self.cards)\n",
    "    def sort(self):\n",
    "        index=[]\n",
    "        for cards in self.cards:\n",
    "            index.append(cards)\n",
    "        return index.sort()# to sort the cards  \n",
    "    def move_cards(self, hand, num):\n",
    "        for i in range(num):\n",
    "            hand.add_card(self.pop_card())"
   ]
  },
  {
   "cell_type": "code",
   "execution_count": null,
   "metadata": {
    "collapsed": true
   },
   "outputs": [],
   "source": [
    "#18.8 Class diagrams"
   ]
  },
  {
   "cell_type": "code",
   "execution_count": null,
   "metadata": {
    "collapsed": true
   },
   "outputs": [],
   "source": [
    "'''\n",
    "There are several kinds of relationship between classes:\n",
    "• Objects in one class might contain references to objects in another class. For example,\n",
    "each Rectangle contains a reference to a Point, and each Deck contains references to\n",
    "many Cards. This kind of relationship is called HAS-A, as in, “a Rectangle has a\n",
    "Point.”\n",
    "• One class might inherit from another. This relationship is called IS-A, as in, “a Hand\n",
    "is a kind of a Deck.”\n",
    "• One class might depend on another in the sense that objects in one class take objects\n",
    "in the second class as parameters, or use objects in the second class as part of a\n",
    "computation. This kind of relationship is called a dependency"
   ]
  }
 ],
 "metadata": {
  "kernelspec": {
   "display_name": "Python 3",
   "language": "python",
   "name": "python3"
  },
  "language_info": {
   "codemirror_mode": {
    "name": "ipython",
    "version": 3
   },
   "file_extension": ".py",
   "mimetype": "text/x-python",
   "name": "python",
   "nbconvert_exporter": "python",
   "pygments_lexer": "ipython3",
   "version": "3.6.0"
  }
 },
 "nbformat": 4,
 "nbformat_minor": 2
}
